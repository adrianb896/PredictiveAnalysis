{
  "nbformat": 4,
  "nbformat_minor": 0,
  "metadata": {
    "colab": {
      "provenance": [],
      "authorship_tag": "ABX9TyM+SzEd574lZRpgajzG2N4U",
      "include_colab_link": true
    },
    "kernelspec": {
      "name": "python3",
      "display_name": "Python 3"
    },
    "language_info": {
      "name": "python"
    }
  },
  "cells": [
    {
      "cell_type": "markdown",
      "metadata": {
        "id": "view-in-github",
        "colab_type": "text"
      },
      "source": [
        "<a href=\"https://colab.research.google.com/github/adrianb896/PredictiveAnalysis/blob/main/PredictiveAnalysis_Assignment6.ipynb\" target=\"_parent\"><img src=\"https://colab.research.google.com/assets/colab-badge.svg\" alt=\"Open In Colab\"/></a>"
      ]
    },
    {
      "cell_type": "markdown",
      "source": [
        "# ***Predictive Analysis - Assignment 6***\n",
        "Adrian Bernardino"
      ],
      "metadata": {
        "id": "94lIppKND_MD"
      }
    },
    {
      "cell_type": "markdown",
      "source": [
        "https://colab.research.google.com/drive/1pon9SlPh2zCscyTbD4uj1Lz1W6KCNpKa?usp=sharing "
      ],
      "metadata": {
        "id": "o1nJWTbfELYf"
      }
    },
    {
      "cell_type": "code",
      "execution_count": 1,
      "metadata": {
        "colab": {
          "base_uri": "https://localhost:8080/"
        },
        "id": "mr-Vf5gprQCh",
        "outputId": "a4a9dff9-d5db-4a3d-da5e-7d8b5a47cce3"
      },
      "outputs": [
        {
          "output_type": "stream",
          "name": "stdout",
          "text": [
            "Mounted at /content/gdrive\n"
          ]
        }
      ],
      "source": [
        "from google.colab import drive\n",
        "drive.mount('/content/gdrive')"
      ]
    },
    {
      "cell_type": "code",
      "source": [
        "import pandas as pd\n",
        "data = pd.read_csv('gdrive/MyDrive/Colab Notebooks/colabPaths/donkeys.csv')\n",
        "data"
      ],
      "metadata": {
        "colab": {
          "base_uri": "https://localhost:8080/",
          "height": 424
        },
        "id": "38SdMwqQr_Ql",
        "outputId": "ddf8ac79-e00d-433c-e126-ecffa0ee3f88"
      },
      "execution_count": 2,
      "outputs": [
        {
          "output_type": "execute_result",
          "data": {
            "text/plain": [
              "     BCS    Age       Sex  Length  Girth  Height  Weight  WeightAlt\n",
              "0    3.0     <2  stallion      78     90      90      77        NaN\n",
              "1    2.5     <2  stallion      91     97      94     100        NaN\n",
              "2    1.5     <2  stallion      74     93      95      74        NaN\n",
              "3    3.0     <2    female      87    109      96     116        NaN\n",
              "4    2.5     <2    female      79     98      91      91        NaN\n",
              "..   ...    ...       ...     ...    ...     ...     ...        ...\n",
              "539  3.0  10-15  stallion      98    115     101     145        NaN\n",
              "540  3.0  10-15  stallion     102    126     110     183        NaN\n",
              "541  2.5  10-15  stallion     103    118     103     174        NaN\n",
              "542  3.0    2-5  stallion      91    112     100     139        NaN\n",
              "543  3.0   5-10  stallion     104    124     110     189        NaN\n",
              "\n",
              "[544 rows x 8 columns]"
            ],
            "text/html": [
              "\n",
              "  <div id=\"df-74d305e3-7c2d-4624-8bac-779bc86b971c\">\n",
              "    <div class=\"colab-df-container\">\n",
              "      <div>\n",
              "<style scoped>\n",
              "    .dataframe tbody tr th:only-of-type {\n",
              "        vertical-align: middle;\n",
              "    }\n",
              "\n",
              "    .dataframe tbody tr th {\n",
              "        vertical-align: top;\n",
              "    }\n",
              "\n",
              "    .dataframe thead th {\n",
              "        text-align: right;\n",
              "    }\n",
              "</style>\n",
              "<table border=\"1\" class=\"dataframe\">\n",
              "  <thead>\n",
              "    <tr style=\"text-align: right;\">\n",
              "      <th></th>\n",
              "      <th>BCS</th>\n",
              "      <th>Age</th>\n",
              "      <th>Sex</th>\n",
              "      <th>Length</th>\n",
              "      <th>Girth</th>\n",
              "      <th>Height</th>\n",
              "      <th>Weight</th>\n",
              "      <th>WeightAlt</th>\n",
              "    </tr>\n",
              "  </thead>\n",
              "  <tbody>\n",
              "    <tr>\n",
              "      <th>0</th>\n",
              "      <td>3.0</td>\n",
              "      <td>&lt;2</td>\n",
              "      <td>stallion</td>\n",
              "      <td>78</td>\n",
              "      <td>90</td>\n",
              "      <td>90</td>\n",
              "      <td>77</td>\n",
              "      <td>NaN</td>\n",
              "    </tr>\n",
              "    <tr>\n",
              "      <th>1</th>\n",
              "      <td>2.5</td>\n",
              "      <td>&lt;2</td>\n",
              "      <td>stallion</td>\n",
              "      <td>91</td>\n",
              "      <td>97</td>\n",
              "      <td>94</td>\n",
              "      <td>100</td>\n",
              "      <td>NaN</td>\n",
              "    </tr>\n",
              "    <tr>\n",
              "      <th>2</th>\n",
              "      <td>1.5</td>\n",
              "      <td>&lt;2</td>\n",
              "      <td>stallion</td>\n",
              "      <td>74</td>\n",
              "      <td>93</td>\n",
              "      <td>95</td>\n",
              "      <td>74</td>\n",
              "      <td>NaN</td>\n",
              "    </tr>\n",
              "    <tr>\n",
              "      <th>3</th>\n",
              "      <td>3.0</td>\n",
              "      <td>&lt;2</td>\n",
              "      <td>female</td>\n",
              "      <td>87</td>\n",
              "      <td>109</td>\n",
              "      <td>96</td>\n",
              "      <td>116</td>\n",
              "      <td>NaN</td>\n",
              "    </tr>\n",
              "    <tr>\n",
              "      <th>4</th>\n",
              "      <td>2.5</td>\n",
              "      <td>&lt;2</td>\n",
              "      <td>female</td>\n",
              "      <td>79</td>\n",
              "      <td>98</td>\n",
              "      <td>91</td>\n",
              "      <td>91</td>\n",
              "      <td>NaN</td>\n",
              "    </tr>\n",
              "    <tr>\n",
              "      <th>...</th>\n",
              "      <td>...</td>\n",
              "      <td>...</td>\n",
              "      <td>...</td>\n",
              "      <td>...</td>\n",
              "      <td>...</td>\n",
              "      <td>...</td>\n",
              "      <td>...</td>\n",
              "      <td>...</td>\n",
              "    </tr>\n",
              "    <tr>\n",
              "      <th>539</th>\n",
              "      <td>3.0</td>\n",
              "      <td>10-15</td>\n",
              "      <td>stallion</td>\n",
              "      <td>98</td>\n",
              "      <td>115</td>\n",
              "      <td>101</td>\n",
              "      <td>145</td>\n",
              "      <td>NaN</td>\n",
              "    </tr>\n",
              "    <tr>\n",
              "      <th>540</th>\n",
              "      <td>3.0</td>\n",
              "      <td>10-15</td>\n",
              "      <td>stallion</td>\n",
              "      <td>102</td>\n",
              "      <td>126</td>\n",
              "      <td>110</td>\n",
              "      <td>183</td>\n",
              "      <td>NaN</td>\n",
              "    </tr>\n",
              "    <tr>\n",
              "      <th>541</th>\n",
              "      <td>2.5</td>\n",
              "      <td>10-15</td>\n",
              "      <td>stallion</td>\n",
              "      <td>103</td>\n",
              "      <td>118</td>\n",
              "      <td>103</td>\n",
              "      <td>174</td>\n",
              "      <td>NaN</td>\n",
              "    </tr>\n",
              "    <tr>\n",
              "      <th>542</th>\n",
              "      <td>3.0</td>\n",
              "      <td>2-5</td>\n",
              "      <td>stallion</td>\n",
              "      <td>91</td>\n",
              "      <td>112</td>\n",
              "      <td>100</td>\n",
              "      <td>139</td>\n",
              "      <td>NaN</td>\n",
              "    </tr>\n",
              "    <tr>\n",
              "      <th>543</th>\n",
              "      <td>3.0</td>\n",
              "      <td>5-10</td>\n",
              "      <td>stallion</td>\n",
              "      <td>104</td>\n",
              "      <td>124</td>\n",
              "      <td>110</td>\n",
              "      <td>189</td>\n",
              "      <td>NaN</td>\n",
              "    </tr>\n",
              "  </tbody>\n",
              "</table>\n",
              "<p>544 rows × 8 columns</p>\n",
              "</div>\n",
              "      <button class=\"colab-df-convert\" onclick=\"convertToInteractive('df-74d305e3-7c2d-4624-8bac-779bc86b971c')\"\n",
              "              title=\"Convert this dataframe to an interactive table.\"\n",
              "              style=\"display:none;\">\n",
              "        \n",
              "  <svg xmlns=\"http://www.w3.org/2000/svg\" height=\"24px\"viewBox=\"0 0 24 24\"\n",
              "       width=\"24px\">\n",
              "    <path d=\"M0 0h24v24H0V0z\" fill=\"none\"/>\n",
              "    <path d=\"M18.56 5.44l.94 2.06.94-2.06 2.06-.94-2.06-.94-.94-2.06-.94 2.06-2.06.94zm-11 1L8.5 8.5l.94-2.06 2.06-.94-2.06-.94L8.5 2.5l-.94 2.06-2.06.94zm10 10l.94 2.06.94-2.06 2.06-.94-2.06-.94-.94-2.06-.94 2.06-2.06.94z\"/><path d=\"M17.41 7.96l-1.37-1.37c-.4-.4-.92-.59-1.43-.59-.52 0-1.04.2-1.43.59L10.3 9.45l-7.72 7.72c-.78.78-.78 2.05 0 2.83L4 21.41c.39.39.9.59 1.41.59.51 0 1.02-.2 1.41-.59l7.78-7.78 2.81-2.81c.8-.78.8-2.07 0-2.86zM5.41 20L4 18.59l7.72-7.72 1.47 1.35L5.41 20z\"/>\n",
              "  </svg>\n",
              "      </button>\n",
              "      \n",
              "  <style>\n",
              "    .colab-df-container {\n",
              "      display:flex;\n",
              "      flex-wrap:wrap;\n",
              "      gap: 12px;\n",
              "    }\n",
              "\n",
              "    .colab-df-convert {\n",
              "      background-color: #E8F0FE;\n",
              "      border: none;\n",
              "      border-radius: 50%;\n",
              "      cursor: pointer;\n",
              "      display: none;\n",
              "      fill: #1967D2;\n",
              "      height: 32px;\n",
              "      padding: 0 0 0 0;\n",
              "      width: 32px;\n",
              "    }\n",
              "\n",
              "    .colab-df-convert:hover {\n",
              "      background-color: #E2EBFA;\n",
              "      box-shadow: 0px 1px 2px rgba(60, 64, 67, 0.3), 0px 1px 3px 1px rgba(60, 64, 67, 0.15);\n",
              "      fill: #174EA6;\n",
              "    }\n",
              "\n",
              "    [theme=dark] .colab-df-convert {\n",
              "      background-color: #3B4455;\n",
              "      fill: #D2E3FC;\n",
              "    }\n",
              "\n",
              "    [theme=dark] .colab-df-convert:hover {\n",
              "      background-color: #434B5C;\n",
              "      box-shadow: 0px 1px 3px 1px rgba(0, 0, 0, 0.15);\n",
              "      filter: drop-shadow(0px 1px 2px rgba(0, 0, 0, 0.3));\n",
              "      fill: #FFFFFF;\n",
              "    }\n",
              "  </style>\n",
              "\n",
              "      <script>\n",
              "        const buttonEl =\n",
              "          document.querySelector('#df-74d305e3-7c2d-4624-8bac-779bc86b971c button.colab-df-convert');\n",
              "        buttonEl.style.display =\n",
              "          google.colab.kernel.accessAllowed ? 'block' : 'none';\n",
              "\n",
              "        async function convertToInteractive(key) {\n",
              "          const element = document.querySelector('#df-74d305e3-7c2d-4624-8bac-779bc86b971c');\n",
              "          const dataTable =\n",
              "            await google.colab.kernel.invokeFunction('convertToInteractive',\n",
              "                                                     [key], {});\n",
              "          if (!dataTable) return;\n",
              "\n",
              "          const docLinkHtml = 'Like what you see? Visit the ' +\n",
              "            '<a target=\"_blank\" href=https://colab.research.google.com/notebooks/data_table.ipynb>data table notebook</a>'\n",
              "            + ' to learn more about interactive tables.';\n",
              "          element.innerHTML = '';\n",
              "          dataTable['output_type'] = 'display_data';\n",
              "          await google.colab.output.renderOutput(dataTable, element);\n",
              "          const docLink = document.createElement('div');\n",
              "          docLink.innerHTML = docLinkHtml;\n",
              "          element.appendChild(docLink);\n",
              "        }\n",
              "      </script>\n",
              "    </div>\n",
              "  </div>\n",
              "  "
            ]
          },
          "metadata": {},
          "execution_count": 2
        }
      ]
    },
    {
      "cell_type": "code",
      "source": [
        "data.info()"
      ],
      "metadata": {
        "colab": {
          "base_uri": "https://localhost:8080/"
        },
        "id": "Rfy_M1vmCnxm",
        "outputId": "092ece01-77a6-41eb-bcaf-f1061e93a9b9"
      },
      "execution_count": 3,
      "outputs": [
        {
          "output_type": "stream",
          "name": "stdout",
          "text": [
            "<class 'pandas.core.frame.DataFrame'>\n",
            "RangeIndex: 544 entries, 0 to 543\n",
            "Data columns (total 8 columns):\n",
            " #   Column     Non-Null Count  Dtype  \n",
            "---  ------     --------------  -----  \n",
            " 0   BCS        544 non-null    float64\n",
            " 1   Age        544 non-null    object \n",
            " 2   Sex        544 non-null    object \n",
            " 3   Length     544 non-null    int64  \n",
            " 4   Girth      544 non-null    int64  \n",
            " 5   Height     544 non-null    int64  \n",
            " 6   Weight     544 non-null    int64  \n",
            " 7   WeightAlt  31 non-null     float64\n",
            "dtypes: float64(2), int64(4), object(2)\n",
            "memory usage: 34.1+ KB\n"
          ]
        }
      ]
    },
    {
      "cell_type": "code",
      "source": [
        "print(\"donkeys.csv dataset shape: \", data.shape)"
      ],
      "metadata": {
        "colab": {
          "base_uri": "https://localhost:8080/"
        },
        "id": "2hk-7JWxCp_V",
        "outputId": "c95796e4-9c42-456e-8072-20051ca4e528"
      },
      "execution_count": 4,
      "outputs": [
        {
          "output_type": "stream",
          "name": "stdout",
          "text": [
            "donkeys.csv dataset shape:  (544, 8)\n"
          ]
        }
      ]
    },
    {
      "cell_type": "markdown",
      "source": [
        "# **Task 1: State the predictive question you would like to answer**"
      ],
      "metadata": {
        "id": "v3qBPAQk5605"
      }
    },
    {
      "cell_type": "markdown",
      "source": [
        "Predictive Question: \n",
        "* Can we estimate the weight of a donkey using other featured columns like height to determine the donkeys weight?"
      ],
      "metadata": {
        "id": "WYJ7D9aT6NNU"
      }
    },
    {
      "cell_type": "markdown",
      "source": [
        "# **Identify whether it is a classification or a regression problem and describe the dataset.**"
      ],
      "metadata": {
        "id": "47YtGfWJBA9a"
      }
    },
    {
      "cell_type": "markdown",
      "source": [
        "* The problem is dealing with regression since the dataset is having to identify and compare the weights of these donkeys based on the Body Condition Score (BSC), Weight, and WeightAlt. Some quality concerns that will be performed in the next task would be to check the quality of the measurements by comparing the difference between the two weights: *Weight & WeightAlt* and see how consistent the data actually is weighing the donkeys; whether its once or more than once. "
      ],
      "metadata": {
        "id": "VBL594reBHCF"
      }
    },
    {
      "cell_type": "markdown",
      "source": [
        "# **Task 2: Data cleaning - Perform at least 1 quality check. Based on your analyses, perform necessary cleaning.**"
      ],
      "metadata": {
        "id": "KWY2-m01C-oB"
      }
    },
    {
      "cell_type": "code",
      "source": [
        "import plotly.express as px\n",
        "\n",
        "data['difference (kg)'] = data['WeightAlt'] - data['Weight'] # looking at the difference between both weight features \n",
        "\n",
        "data_hist = px.histogram(data, x='difference (kg)', nbins=3, width=550, height=350) # plot 3 bins\n",
        "# first bin will have a count = 6 with donkeys weighed twice\n",
        "# second bin will have a count = 21 with donkeys weighed twice\n",
        "# third bin will have a count = 4 with donkeys weighed twice\n",
        "data_hist"
      ],
      "metadata": {
        "colab": {
          "base_uri": "https://localhost:8080/",
          "height": 367
        },
        "id": "vrmXIZDyS_wk",
        "outputId": "d006ffc1-5e95-4075-9494-c02fb79e1aad"
      },
      "execution_count": 5,
      "outputs": [
        {
          "output_type": "display_data",
          "data": {
            "text/html": [
              "<html>\n",
              "<head><meta charset=\"utf-8\" /></head>\n",
              "<body>\n",
              "    <div>            <script src=\"https://cdnjs.cloudflare.com/ajax/libs/mathjax/2.7.5/MathJax.js?config=TeX-AMS-MML_SVG\"></script><script type=\"text/javascript\">if (window.MathJax) {MathJax.Hub.Config({SVG: {font: \"STIX-Web\"}});}</script>                <script type=\"text/javascript\">window.PlotlyConfig = {MathJaxConfig: 'local'};</script>\n",
              "        <script src=\"https://cdn.plot.ly/plotly-2.8.3.min.js\"></script>                <div id=\"6bc71c19-45ba-4001-a5ac-8a722c3147dc\" class=\"plotly-graph-div\" style=\"height:350px; width:550px;\"></div>            <script type=\"text/javascript\">                                    window.PLOTLYENV=window.PLOTLYENV || {};                                    if (document.getElementById(\"6bc71c19-45ba-4001-a5ac-8a722c3147dc\")) {                    Plotly.newPlot(                        \"6bc71c19-45ba-4001-a5ac-8a722c3147dc\",                        [{\"alignmentgroup\":\"True\",\"bingroup\":\"x\",\"hovertemplate\":\"difference (kg)=%{x}<br>count=%{y}<extra></extra>\",\"legendgroup\":\"\",\"marker\":{\"color\":\"#636efa\",\"pattern\":{\"shape\":\"\"}},\"name\":\"\",\"nbinsx\":3,\"offsetgroup\":\"\",\"orientation\":\"v\",\"showlegend\":false,\"x\":[null,null,null,null,null,null,null,null,null,null,null,null,null,null,null,null,null,null,1.0,null,null,null,null,null,null,null,null,null,null,null,null,null,null,null,null,null,null,null,null,null,null,null,null,null,null,null,null,null,null,0.0,null,null,null,null,null,null,null,null,null,null,null,null,null,null,null,null,null,null,null,null,null,null,null,null,null,null,null,null,null,null,null,null,null,null,null,null,null,null,null,null,null,null,null,null,null,null,null,null,null,null,null,null,null,null,null,null,null,0.0,null,null,null,null,null,null,0.0,null,null,null,0.0,null,-1.0,null,null,0.0,null,0.0,0.0,null,null,null,null,null,null,null,null,null,null,null,null,null,null,null,null,null,null,null,null,null,null,null,null,-1.0,-1.0,null,null,null,null,null,null,null,null,null,null,null,null,null,null,null,null,null,null,null,null,null,null,null,null,null,null,null,null,null,null,null,null,null,null,null,null,null,null,null,null,null,null,null,null,null,null,null,null,null,null,null,null,null,null,null,null,null,null,null,null,0.0,0.0,null,0.0,null,null,null,null,null,null,null,null,null,0.0,null,null,null,null,null,null,null,null,null,null,null,null,null,null,0.0,null,null,null,null,null,null,null,null,null,null,null,null,null,null,null,0.0,null,null,null,null,null,0.0,null,null,null,null,null,null,0.0,null,0.0,null,null,null,null,null,null,null,null,null,null,null,null,null,null,null,null,null,null,null,null,null,null,null,null,null,null,null,null,null,null,null,null,null,null,null,null,null,null,null,null,null,null,0.0,null,null,0.0,null,null,null,null,null,null,null,null,null,null,null,null,null,null,null,null,null,null,null,null,null,null,null,null,null,null,null,null,null,null,null,null,null,null,null,null,null,null,null,null,null,null,null,null,-1.0,null,null,null,null,null,null,null,null,null,null,-1.0,null,null,null,null,null,null,null,null,null,null,null,null,null,null,null,null,null,null,null,null,null,null,null,null,null,null,null,null,null,null,null,null,null,null,null,null,null,1.0,null,null,null,null,null,null,null,null,null,null,null,null,null,null,null,1.0,null,null,0.0,null,null,null,null,null,null,null,null,null,null,null,null,null,null,null,null,-1.0,null,null,null,null,null,null,null,null,null,null,null,null,null,null,null,null,null,1.0,null,null,null,null,null,null,null,null,null,null,null,null,null,null,null,null,null,0.0,0.0,null,null,null,null,null,null,null,null,null,null,null,null,null,null,null,null,null,null,null,null,null,null,null,null,null,null,null,null,null,null,null,null,null,null,null,null,null,null,null,null,null,null,null,null,null,null,null,null,null,null,null,null,null,null,null,null,null,null],\"xaxis\":\"x\",\"yaxis\":\"y\",\"type\":\"histogram\"}],                        {\"template\":{\"data\":{\"bar\":[{\"error_x\":{\"color\":\"#2a3f5f\"},\"error_y\":{\"color\":\"#2a3f5f\"},\"marker\":{\"line\":{\"color\":\"#E5ECF6\",\"width\":0.5},\"pattern\":{\"fillmode\":\"overlay\",\"size\":10,\"solidity\":0.2}},\"type\":\"bar\"}],\"barpolar\":[{\"marker\":{\"line\":{\"color\":\"#E5ECF6\",\"width\":0.5},\"pattern\":{\"fillmode\":\"overlay\",\"size\":10,\"solidity\":0.2}},\"type\":\"barpolar\"}],\"carpet\":[{\"aaxis\":{\"endlinecolor\":\"#2a3f5f\",\"gridcolor\":\"white\",\"linecolor\":\"white\",\"minorgridcolor\":\"white\",\"startlinecolor\":\"#2a3f5f\"},\"baxis\":{\"endlinecolor\":\"#2a3f5f\",\"gridcolor\":\"white\",\"linecolor\":\"white\",\"minorgridcolor\":\"white\",\"startlinecolor\":\"#2a3f5f\"},\"type\":\"carpet\"}],\"choropleth\":[{\"colorbar\":{\"outlinewidth\":0,\"ticks\":\"\"},\"type\":\"choropleth\"}],\"contour\":[{\"colorbar\":{\"outlinewidth\":0,\"ticks\":\"\"},\"colorscale\":[[0.0,\"#0d0887\"],[0.1111111111111111,\"#46039f\"],[0.2222222222222222,\"#7201a8\"],[0.3333333333333333,\"#9c179e\"],[0.4444444444444444,\"#bd3786\"],[0.5555555555555556,\"#d8576b\"],[0.6666666666666666,\"#ed7953\"],[0.7777777777777778,\"#fb9f3a\"],[0.8888888888888888,\"#fdca26\"],[1.0,\"#f0f921\"]],\"type\":\"contour\"}],\"contourcarpet\":[{\"colorbar\":{\"outlinewidth\":0,\"ticks\":\"\"},\"type\":\"contourcarpet\"}],\"heatmap\":[{\"colorbar\":{\"outlinewidth\":0,\"ticks\":\"\"},\"colorscale\":[[0.0,\"#0d0887\"],[0.1111111111111111,\"#46039f\"],[0.2222222222222222,\"#7201a8\"],[0.3333333333333333,\"#9c179e\"],[0.4444444444444444,\"#bd3786\"],[0.5555555555555556,\"#d8576b\"],[0.6666666666666666,\"#ed7953\"],[0.7777777777777778,\"#fb9f3a\"],[0.8888888888888888,\"#fdca26\"],[1.0,\"#f0f921\"]],\"type\":\"heatmap\"}],\"heatmapgl\":[{\"colorbar\":{\"outlinewidth\":0,\"ticks\":\"\"},\"colorscale\":[[0.0,\"#0d0887\"],[0.1111111111111111,\"#46039f\"],[0.2222222222222222,\"#7201a8\"],[0.3333333333333333,\"#9c179e\"],[0.4444444444444444,\"#bd3786\"],[0.5555555555555556,\"#d8576b\"],[0.6666666666666666,\"#ed7953\"],[0.7777777777777778,\"#fb9f3a\"],[0.8888888888888888,\"#fdca26\"],[1.0,\"#f0f921\"]],\"type\":\"heatmapgl\"}],\"histogram\":[{\"marker\":{\"pattern\":{\"fillmode\":\"overlay\",\"size\":10,\"solidity\":0.2}},\"type\":\"histogram\"}],\"histogram2d\":[{\"colorbar\":{\"outlinewidth\":0,\"ticks\":\"\"},\"colorscale\":[[0.0,\"#0d0887\"],[0.1111111111111111,\"#46039f\"],[0.2222222222222222,\"#7201a8\"],[0.3333333333333333,\"#9c179e\"],[0.4444444444444444,\"#bd3786\"],[0.5555555555555556,\"#d8576b\"],[0.6666666666666666,\"#ed7953\"],[0.7777777777777778,\"#fb9f3a\"],[0.8888888888888888,\"#fdca26\"],[1.0,\"#f0f921\"]],\"type\":\"histogram2d\"}],\"histogram2dcontour\":[{\"colorbar\":{\"outlinewidth\":0,\"ticks\":\"\"},\"colorscale\":[[0.0,\"#0d0887\"],[0.1111111111111111,\"#46039f\"],[0.2222222222222222,\"#7201a8\"],[0.3333333333333333,\"#9c179e\"],[0.4444444444444444,\"#bd3786\"],[0.5555555555555556,\"#d8576b\"],[0.6666666666666666,\"#ed7953\"],[0.7777777777777778,\"#fb9f3a\"],[0.8888888888888888,\"#fdca26\"],[1.0,\"#f0f921\"]],\"type\":\"histogram2dcontour\"}],\"mesh3d\":[{\"colorbar\":{\"outlinewidth\":0,\"ticks\":\"\"},\"type\":\"mesh3d\"}],\"parcoords\":[{\"line\":{\"colorbar\":{\"outlinewidth\":0,\"ticks\":\"\"}},\"type\":\"parcoords\"}],\"pie\":[{\"automargin\":true,\"type\":\"pie\"}],\"scatter\":[{\"marker\":{\"colorbar\":{\"outlinewidth\":0,\"ticks\":\"\"}},\"type\":\"scatter\"}],\"scatter3d\":[{\"line\":{\"colorbar\":{\"outlinewidth\":0,\"ticks\":\"\"}},\"marker\":{\"colorbar\":{\"outlinewidth\":0,\"ticks\":\"\"}},\"type\":\"scatter3d\"}],\"scattercarpet\":[{\"marker\":{\"colorbar\":{\"outlinewidth\":0,\"ticks\":\"\"}},\"type\":\"scattercarpet\"}],\"scattergeo\":[{\"marker\":{\"colorbar\":{\"outlinewidth\":0,\"ticks\":\"\"}},\"type\":\"scattergeo\"}],\"scattergl\":[{\"marker\":{\"colorbar\":{\"outlinewidth\":0,\"ticks\":\"\"}},\"type\":\"scattergl\"}],\"scattermapbox\":[{\"marker\":{\"colorbar\":{\"outlinewidth\":0,\"ticks\":\"\"}},\"type\":\"scattermapbox\"}],\"scatterpolar\":[{\"marker\":{\"colorbar\":{\"outlinewidth\":0,\"ticks\":\"\"}},\"type\":\"scatterpolar\"}],\"scatterpolargl\":[{\"marker\":{\"colorbar\":{\"outlinewidth\":0,\"ticks\":\"\"}},\"type\":\"scatterpolargl\"}],\"scatterternary\":[{\"marker\":{\"colorbar\":{\"outlinewidth\":0,\"ticks\":\"\"}},\"type\":\"scatterternary\"}],\"surface\":[{\"colorbar\":{\"outlinewidth\":0,\"ticks\":\"\"},\"colorscale\":[[0.0,\"#0d0887\"],[0.1111111111111111,\"#46039f\"],[0.2222222222222222,\"#7201a8\"],[0.3333333333333333,\"#9c179e\"],[0.4444444444444444,\"#bd3786\"],[0.5555555555555556,\"#d8576b\"],[0.6666666666666666,\"#ed7953\"],[0.7777777777777778,\"#fb9f3a\"],[0.8888888888888888,\"#fdca26\"],[1.0,\"#f0f921\"]],\"type\":\"surface\"}],\"table\":[{\"cells\":{\"fill\":{\"color\":\"#EBF0F8\"},\"line\":{\"color\":\"white\"}},\"header\":{\"fill\":{\"color\":\"#C8D4E3\"},\"line\":{\"color\":\"white\"}},\"type\":\"table\"}]},\"layout\":{\"annotationdefaults\":{\"arrowcolor\":\"#2a3f5f\",\"arrowhead\":0,\"arrowwidth\":1},\"autotypenumbers\":\"strict\",\"coloraxis\":{\"colorbar\":{\"outlinewidth\":0,\"ticks\":\"\"}},\"colorscale\":{\"diverging\":[[0,\"#8e0152\"],[0.1,\"#c51b7d\"],[0.2,\"#de77ae\"],[0.3,\"#f1b6da\"],[0.4,\"#fde0ef\"],[0.5,\"#f7f7f7\"],[0.6,\"#e6f5d0\"],[0.7,\"#b8e186\"],[0.8,\"#7fbc41\"],[0.9,\"#4d9221\"],[1,\"#276419\"]],\"sequential\":[[0.0,\"#0d0887\"],[0.1111111111111111,\"#46039f\"],[0.2222222222222222,\"#7201a8\"],[0.3333333333333333,\"#9c179e\"],[0.4444444444444444,\"#bd3786\"],[0.5555555555555556,\"#d8576b\"],[0.6666666666666666,\"#ed7953\"],[0.7777777777777778,\"#fb9f3a\"],[0.8888888888888888,\"#fdca26\"],[1.0,\"#f0f921\"]],\"sequentialminus\":[[0.0,\"#0d0887\"],[0.1111111111111111,\"#46039f\"],[0.2222222222222222,\"#7201a8\"],[0.3333333333333333,\"#9c179e\"],[0.4444444444444444,\"#bd3786\"],[0.5555555555555556,\"#d8576b\"],[0.6666666666666666,\"#ed7953\"],[0.7777777777777778,\"#fb9f3a\"],[0.8888888888888888,\"#fdca26\"],[1.0,\"#f0f921\"]]},\"colorway\":[\"#636efa\",\"#EF553B\",\"#00cc96\",\"#ab63fa\",\"#FFA15A\",\"#19d3f3\",\"#FF6692\",\"#B6E880\",\"#FF97FF\",\"#FECB52\"],\"font\":{\"color\":\"#2a3f5f\"},\"geo\":{\"bgcolor\":\"white\",\"lakecolor\":\"white\",\"landcolor\":\"#E5ECF6\",\"showlakes\":true,\"showland\":true,\"subunitcolor\":\"white\"},\"hoverlabel\":{\"align\":\"left\"},\"hovermode\":\"closest\",\"mapbox\":{\"style\":\"light\"},\"paper_bgcolor\":\"white\",\"plot_bgcolor\":\"#E5ECF6\",\"polar\":{\"angularaxis\":{\"gridcolor\":\"white\",\"linecolor\":\"white\",\"ticks\":\"\"},\"bgcolor\":\"#E5ECF6\",\"radialaxis\":{\"gridcolor\":\"white\",\"linecolor\":\"white\",\"ticks\":\"\"}},\"scene\":{\"xaxis\":{\"backgroundcolor\":\"#E5ECF6\",\"gridcolor\":\"white\",\"gridwidth\":2,\"linecolor\":\"white\",\"showbackground\":true,\"ticks\":\"\",\"zerolinecolor\":\"white\"},\"yaxis\":{\"backgroundcolor\":\"#E5ECF6\",\"gridcolor\":\"white\",\"gridwidth\":2,\"linecolor\":\"white\",\"showbackground\":true,\"ticks\":\"\",\"zerolinecolor\":\"white\"},\"zaxis\":{\"backgroundcolor\":\"#E5ECF6\",\"gridcolor\":\"white\",\"gridwidth\":2,\"linecolor\":\"white\",\"showbackground\":true,\"ticks\":\"\",\"zerolinecolor\":\"white\"}},\"shapedefaults\":{\"line\":{\"color\":\"#2a3f5f\"}},\"ternary\":{\"aaxis\":{\"gridcolor\":\"white\",\"linecolor\":\"white\",\"ticks\":\"\"},\"baxis\":{\"gridcolor\":\"white\",\"linecolor\":\"white\",\"ticks\":\"\"},\"bgcolor\":\"#E5ECF6\",\"caxis\":{\"gridcolor\":\"white\",\"linecolor\":\"white\",\"ticks\":\"\"}},\"title\":{\"x\":0.05},\"xaxis\":{\"automargin\":true,\"gridcolor\":\"white\",\"linecolor\":\"white\",\"ticks\":\"\",\"title\":{\"standoff\":15},\"zerolinecolor\":\"white\",\"zerolinewidth\":2},\"yaxis\":{\"automargin\":true,\"gridcolor\":\"white\",\"linecolor\":\"white\",\"ticks\":\"\",\"title\":{\"standoff\":15},\"zerolinecolor\":\"white\",\"zerolinewidth\":2}}},\"xaxis\":{\"anchor\":\"y\",\"domain\":[0.0,1.0],\"title\":{\"text\":\"difference (kg)\"}},\"yaxis\":{\"anchor\":\"x\",\"domain\":[0.0,1.0],\"title\":{\"text\":\"count\"}},\"legend\":{\"tracegroupgap\":0},\"margin\":{\"t\":60},\"barmode\":\"relative\",\"height\":350,\"width\":550},                        {\"responsive\": true}                    ).then(function(){\n",
              "                            \n",
              "var gd = document.getElementById('6bc71c19-45ba-4001-a5ac-8a722c3147dc');\n",
              "var x = new MutationObserver(function (mutations, observer) {{\n",
              "        var display = window.getComputedStyle(gd).display;\n",
              "        if (!display || display === 'none') {{\n",
              "            console.log([gd, 'removed!']);\n",
              "            Plotly.purge(gd);\n",
              "            observer.disconnect();\n",
              "        }}\n",
              "}});\n",
              "\n",
              "// Listen for the removal of the full notebook cells\n",
              "var notebookContainer = gd.closest('#notebook-container');\n",
              "if (notebookContainer) {{\n",
              "    x.observe(notebookContainer, {childList: true});\n",
              "}}\n",
              "\n",
              "// Listen for the clearing of the current output cell\n",
              "var outputEl = gd.closest('.output');\n",
              "if (outputEl) {{\n",
              "    x.observe(outputEl, {childList: true});\n",
              "}}\n",
              "\n",
              "                        })                };                            </script>        </div>\n",
              "</body>\n",
              "</html>"
            ]
          },
          "metadata": {}
        }
      ]
    },
    {
      "cell_type": "code",
      "source": [
        "data['BCS'].value_counts() # distributing the label BCS "
      ],
      "metadata": {
        "colab": {
          "base_uri": "https://localhost:8080/"
        },
        "id": "wubJdbUJf8LD",
        "outputId": "1096ed13-7968-4896-d252-dcd5b395b625"
      },
      "execution_count": 6,
      "outputs": [
        {
          "output_type": "execute_result",
          "data": {
            "text/plain": [
              "3.0    307\n",
              "2.5    135\n",
              "3.5     55\n",
              "2.0     26\n",
              "4.0     14\n",
              "1.5      5\n",
              "4.5      1\n",
              "1.0      1\n",
              "Name: BCS, dtype: int64"
            ]
          },
          "metadata": {},
          "execution_count": 6
        }
      ]
    },
    {
      "cell_type": "markdown",
      "source": [
        "From observations we determine that:\n",
        "* 5 donkeys have a BCS of 1.5 (emaciated)\n",
        "* 1 donkey has a BCS of 4.5 which is considered roughly (obese)\n",
        "* 1 donkey has a BCS of 1.0 meaning that they are (emaciated)"
      ],
      "metadata": {
        "id": "ehsPHSX_gHyY"
      }
    },
    {
      "cell_type": "code",
      "source": [
        "exclusive_donkeys = data[(data['BCS'] == 1.0) | (data['BCS'] == 1.5) | (data['BCS'] == 4.5)] # here we are looking for these 7 donkeys specific information by only declaring the BCS of 1.0, 1.5 and 4.5\n",
        "exclusive_donkeys"
      ],
      "metadata": {
        "colab": {
          "base_uri": "https://localhost:8080/",
          "height": 269
        },
        "id": "YCqnWxXfgrNa",
        "outputId": "11ddefef-be36-4dc2-b499-65a98371b246"
      },
      "execution_count": 7,
      "outputs": [
        {
          "output_type": "execute_result",
          "data": {
            "text/plain": [
              "     BCS    Age       Sex  Length  Girth  Height  Weight  WeightAlt  \\\n",
              "2    1.5     <2  stallion      74     93      95      74        NaN   \n",
              "5    1.5     <2    female      86    102      98     105        NaN   \n",
              "163  1.5   5-10    female      92    113      97     131        NaN   \n",
              "191  1.5    >20  stallion      88    107      95     114        NaN   \n",
              "212  1.5  15-20   gelding      94    111     105     126        NaN   \n",
              "291  4.5  10-15    female     107    130     106     227        NaN   \n",
              "445  1.0    >20    female      97    109     102     115        NaN   \n",
              "\n",
              "     difference (kg)  \n",
              "2                NaN  \n",
              "5                NaN  \n",
              "163              NaN  \n",
              "191              NaN  \n",
              "212              NaN  \n",
              "291              NaN  \n",
              "445              NaN  "
            ],
            "text/html": [
              "\n",
              "  <div id=\"df-4de9b8cf-a54f-498c-9d5e-13e84623a1eb\">\n",
              "    <div class=\"colab-df-container\">\n",
              "      <div>\n",
              "<style scoped>\n",
              "    .dataframe tbody tr th:only-of-type {\n",
              "        vertical-align: middle;\n",
              "    }\n",
              "\n",
              "    .dataframe tbody tr th {\n",
              "        vertical-align: top;\n",
              "    }\n",
              "\n",
              "    .dataframe thead th {\n",
              "        text-align: right;\n",
              "    }\n",
              "</style>\n",
              "<table border=\"1\" class=\"dataframe\">\n",
              "  <thead>\n",
              "    <tr style=\"text-align: right;\">\n",
              "      <th></th>\n",
              "      <th>BCS</th>\n",
              "      <th>Age</th>\n",
              "      <th>Sex</th>\n",
              "      <th>Length</th>\n",
              "      <th>Girth</th>\n",
              "      <th>Height</th>\n",
              "      <th>Weight</th>\n",
              "      <th>WeightAlt</th>\n",
              "      <th>difference (kg)</th>\n",
              "    </tr>\n",
              "  </thead>\n",
              "  <tbody>\n",
              "    <tr>\n",
              "      <th>2</th>\n",
              "      <td>1.5</td>\n",
              "      <td>&lt;2</td>\n",
              "      <td>stallion</td>\n",
              "      <td>74</td>\n",
              "      <td>93</td>\n",
              "      <td>95</td>\n",
              "      <td>74</td>\n",
              "      <td>NaN</td>\n",
              "      <td>NaN</td>\n",
              "    </tr>\n",
              "    <tr>\n",
              "      <th>5</th>\n",
              "      <td>1.5</td>\n",
              "      <td>&lt;2</td>\n",
              "      <td>female</td>\n",
              "      <td>86</td>\n",
              "      <td>102</td>\n",
              "      <td>98</td>\n",
              "      <td>105</td>\n",
              "      <td>NaN</td>\n",
              "      <td>NaN</td>\n",
              "    </tr>\n",
              "    <tr>\n",
              "      <th>163</th>\n",
              "      <td>1.5</td>\n",
              "      <td>5-10</td>\n",
              "      <td>female</td>\n",
              "      <td>92</td>\n",
              "      <td>113</td>\n",
              "      <td>97</td>\n",
              "      <td>131</td>\n",
              "      <td>NaN</td>\n",
              "      <td>NaN</td>\n",
              "    </tr>\n",
              "    <tr>\n",
              "      <th>191</th>\n",
              "      <td>1.5</td>\n",
              "      <td>&gt;20</td>\n",
              "      <td>stallion</td>\n",
              "      <td>88</td>\n",
              "      <td>107</td>\n",
              "      <td>95</td>\n",
              "      <td>114</td>\n",
              "      <td>NaN</td>\n",
              "      <td>NaN</td>\n",
              "    </tr>\n",
              "    <tr>\n",
              "      <th>212</th>\n",
              "      <td>1.5</td>\n",
              "      <td>15-20</td>\n",
              "      <td>gelding</td>\n",
              "      <td>94</td>\n",
              "      <td>111</td>\n",
              "      <td>105</td>\n",
              "      <td>126</td>\n",
              "      <td>NaN</td>\n",
              "      <td>NaN</td>\n",
              "    </tr>\n",
              "    <tr>\n",
              "      <th>291</th>\n",
              "      <td>4.5</td>\n",
              "      <td>10-15</td>\n",
              "      <td>female</td>\n",
              "      <td>107</td>\n",
              "      <td>130</td>\n",
              "      <td>106</td>\n",
              "      <td>227</td>\n",
              "      <td>NaN</td>\n",
              "      <td>NaN</td>\n",
              "    </tr>\n",
              "    <tr>\n",
              "      <th>445</th>\n",
              "      <td>1.0</td>\n",
              "      <td>&gt;20</td>\n",
              "      <td>female</td>\n",
              "      <td>97</td>\n",
              "      <td>109</td>\n",
              "      <td>102</td>\n",
              "      <td>115</td>\n",
              "      <td>NaN</td>\n",
              "      <td>NaN</td>\n",
              "    </tr>\n",
              "  </tbody>\n",
              "</table>\n",
              "</div>\n",
              "      <button class=\"colab-df-convert\" onclick=\"convertToInteractive('df-4de9b8cf-a54f-498c-9d5e-13e84623a1eb')\"\n",
              "              title=\"Convert this dataframe to an interactive table.\"\n",
              "              style=\"display:none;\">\n",
              "        \n",
              "  <svg xmlns=\"http://www.w3.org/2000/svg\" height=\"24px\"viewBox=\"0 0 24 24\"\n",
              "       width=\"24px\">\n",
              "    <path d=\"M0 0h24v24H0V0z\" fill=\"none\"/>\n",
              "    <path d=\"M18.56 5.44l.94 2.06.94-2.06 2.06-.94-2.06-.94-.94-2.06-.94 2.06-2.06.94zm-11 1L8.5 8.5l.94-2.06 2.06-.94-2.06-.94L8.5 2.5l-.94 2.06-2.06.94zm10 10l.94 2.06.94-2.06 2.06-.94-2.06-.94-.94-2.06-.94 2.06-2.06.94z\"/><path d=\"M17.41 7.96l-1.37-1.37c-.4-.4-.92-.59-1.43-.59-.52 0-1.04.2-1.43.59L10.3 9.45l-7.72 7.72c-.78.78-.78 2.05 0 2.83L4 21.41c.39.39.9.59 1.41.59.51 0 1.02-.2 1.41-.59l7.78-7.78 2.81-2.81c.8-.78.8-2.07 0-2.86zM5.41 20L4 18.59l7.72-7.72 1.47 1.35L5.41 20z\"/>\n",
              "  </svg>\n",
              "      </button>\n",
              "      \n",
              "  <style>\n",
              "    .colab-df-container {\n",
              "      display:flex;\n",
              "      flex-wrap:wrap;\n",
              "      gap: 12px;\n",
              "    }\n",
              "\n",
              "    .colab-df-convert {\n",
              "      background-color: #E8F0FE;\n",
              "      border: none;\n",
              "      border-radius: 50%;\n",
              "      cursor: pointer;\n",
              "      display: none;\n",
              "      fill: #1967D2;\n",
              "      height: 32px;\n",
              "      padding: 0 0 0 0;\n",
              "      width: 32px;\n",
              "    }\n",
              "\n",
              "    .colab-df-convert:hover {\n",
              "      background-color: #E2EBFA;\n",
              "      box-shadow: 0px 1px 2px rgba(60, 64, 67, 0.3), 0px 1px 3px 1px rgba(60, 64, 67, 0.15);\n",
              "      fill: #174EA6;\n",
              "    }\n",
              "\n",
              "    [theme=dark] .colab-df-convert {\n",
              "      background-color: #3B4455;\n",
              "      fill: #D2E3FC;\n",
              "    }\n",
              "\n",
              "    [theme=dark] .colab-df-convert:hover {\n",
              "      background-color: #434B5C;\n",
              "      box-shadow: 0px 1px 3px 1px rgba(0, 0, 0, 0.15);\n",
              "      filter: drop-shadow(0px 1px 2px rgba(0, 0, 0, 0.3));\n",
              "      fill: #FFFFFF;\n",
              "    }\n",
              "  </style>\n",
              "\n",
              "      <script>\n",
              "        const buttonEl =\n",
              "          document.querySelector('#df-4de9b8cf-a54f-498c-9d5e-13e84623a1eb button.colab-df-convert');\n",
              "        buttonEl.style.display =\n",
              "          google.colab.kernel.accessAllowed ? 'block' : 'none';\n",
              "\n",
              "        async function convertToInteractive(key) {\n",
              "          const element = document.querySelector('#df-4de9b8cf-a54f-498c-9d5e-13e84623a1eb');\n",
              "          const dataTable =\n",
              "            await google.colab.kernel.invokeFunction('convertToInteractive',\n",
              "                                                     [key], {});\n",
              "          if (!dataTable) return;\n",
              "\n",
              "          const docLinkHtml = 'Like what you see? Visit the ' +\n",
              "            '<a target=\"_blank\" href=https://colab.research.google.com/notebooks/data_table.ipynb>data table notebook</a>'\n",
              "            + ' to learn more about interactive tables.';\n",
              "          element.innerHTML = '';\n",
              "          dataTable['output_type'] = 'display_data';\n",
              "          await google.colab.output.renderOutput(dataTable, element);\n",
              "          const docLink = document.createElement('div');\n",
              "          docLink.innerHTML = docLinkHtml;\n",
              "          element.appendChild(docLink);\n",
              "        }\n",
              "      </script>\n",
              "    </div>\n",
              "  </div>\n",
              "  "
            ]
          },
          "metadata": {},
          "execution_count": 7
        }
      ]
    },
    {
      "cell_type": "markdown",
      "source": [
        "As a result:\n",
        "* We realize that both donkeys are female"
      ],
      "metadata": {
        "id": "cZ8kxFH0hZOX"
      }
    },
    {
      "cell_type": "code",
      "source": [
        "exclusive_donkeys['Weight'].value_counts() # for distribution of the labels"
      ],
      "metadata": {
        "colab": {
          "base_uri": "https://localhost:8080/"
        },
        "id": "IIRt4RMWgsn4",
        "outputId": "2031b040-7005-4cf2-a666-516b604f2cc0"
      },
      "execution_count": 8,
      "outputs": [
        {
          "output_type": "execute_result",
          "data": {
            "text/plain": [
              "74     1\n",
              "105    1\n",
              "131    1\n",
              "114    1\n",
              "126    1\n",
              "227    1\n",
              "115    1\n",
              "Name: Weight, dtype: int64"
            ]
          },
          "metadata": {},
          "execution_count": 8
        }
      ]
    },
    {
      "cell_type": "code",
      "source": [
        "data['WeightAlt'].value_counts() # for distribution of the labels that were NaN"
      ],
      "metadata": {
        "colab": {
          "base_uri": "https://localhost:8080/"
        },
        "id": "aMUdCPLO56I5",
        "outputId": "8b4c0897-811f-465f-debe-8be164e85e83"
      },
      "execution_count": 9,
      "outputs": [
        {
          "output_type": "execute_result",
          "data": {
            "text/plain": [
              "158.0    2\n",
              "143.0    2\n",
              "157.0    2\n",
              "126.0    2\n",
              "144.0    2\n",
              "149.0    2\n",
              "103.0    1\n",
              "162.0    1\n",
              "172.0    1\n",
              "123.0    1\n",
              "183.0    1\n",
              "134.0    1\n",
              "166.0    1\n",
              "140.0    1\n",
              "186.0    1\n",
              "98.0     1\n",
              "168.0    1\n",
              "160.0    1\n",
              "151.0    1\n",
              "114.0    1\n",
              "165.0    1\n",
              "169.0    1\n",
              "146.0    1\n",
              "170.0    1\n",
              "194.0    1\n",
              "Name: WeightAlt, dtype: int64"
            ]
          },
          "metadata": {},
          "execution_count": 9
        }
      ]
    },
    {
      "cell_type": "markdown",
      "source": [
        "# **Task 3: Feature Engineering - Prepare the data for machine learning algorithms by performing necessary transformations on the data**"
      ],
      "metadata": {
        "id": "wKcCVSaIjKu2"
      }
    },
    {
      "cell_type": "code",
      "source": [
        "def remove_1(data):\n",
        "    return data[(data['BCS'] >= 1.5) & (data['BCS'] <= 4)] # tranforming our data by removing bcs outliers\n",
        "\n",
        "data = data.pipe(remove_1) # performing .pipe() method to remove these 2 "
      ],
      "metadata": {
        "id": "Ww38aXP_jRpL"
      },
      "execution_count": 10,
      "outputs": []
    },
    {
      "cell_type": "code",
      "source": [
        "donkey_hist = px.histogram(data, x='Weight', nbins=20, width=550, height=350) # plotting the weight of the donkeys\n",
        "donkey_hist"
      ],
      "metadata": {
        "colab": {
          "base_uri": "https://localhost:8080/",
          "height": 367
        },
        "id": "eh9BNM4lnzdY",
        "outputId": "91d4c2d0-9a3f-49fd-82ec-1bc8a25a7b57"
      },
      "execution_count": 11,
      "outputs": [
        {
          "output_type": "display_data",
          "data": {
            "text/html": [
              "<html>\n",
              "<head><meta charset=\"utf-8\" /></head>\n",
              "<body>\n",
              "    <div>            <script src=\"https://cdnjs.cloudflare.com/ajax/libs/mathjax/2.7.5/MathJax.js?config=TeX-AMS-MML_SVG\"></script><script type=\"text/javascript\">if (window.MathJax) {MathJax.Hub.Config({SVG: {font: \"STIX-Web\"}});}</script>                <script type=\"text/javascript\">window.PlotlyConfig = {MathJaxConfig: 'local'};</script>\n",
              "        <script src=\"https://cdn.plot.ly/plotly-2.8.3.min.js\"></script>                <div id=\"2d77a77d-5dcd-4d50-818a-4c60fb5b96ce\" class=\"plotly-graph-div\" style=\"height:350px; width:550px;\"></div>            <script type=\"text/javascript\">                                    window.PLOTLYENV=window.PLOTLYENV || {};                                    if (document.getElementById(\"2d77a77d-5dcd-4d50-818a-4c60fb5b96ce\")) {                    Plotly.newPlot(                        \"2d77a77d-5dcd-4d50-818a-4c60fb5b96ce\",                        [{\"alignmentgroup\":\"True\",\"bingroup\":\"x\",\"hovertemplate\":\"Weight=%{x}<br>count=%{y}<extra></extra>\",\"legendgroup\":\"\",\"marker\":{\"color\":\"#636efa\",\"pattern\":{\"shape\":\"\"}},\"name\":\"\",\"nbinsx\":20,\"offsetgroup\":\"\",\"orientation\":\"v\",\"showlegend\":false,\"x\":[77,100,74,116,91,105,108,86,27,141,100,95,115,106,112,117,94,107,102,127,90,108,72,102,86,118,65,90,118,113,117,124,89,130,150,87,96,117,94,105,94,107,117,106,75,105,114,115,107,98,71,142,146,106,162,164,133,152,129,110,181,160,172,164,192,163,169,144,165,160,145,110,154,133,152,145,130,183,173,161,172,151,170,159,142,136,185,143,107,173,161,176,169,184,166,152,98,131,136,109,165,138,137,177,142,160,125,158,178,157,164,162,155,166,170,141,142,165,146,163,170,159,154,165,167,157,114,181,170,168,146,163,190,138,162,171,167,139,188,152,174,125,179,167,149,144,158,144,145,140,168,152,161,155,179,143,150,170,136,167,169,141,154,131,155,157,165,92,171,156,182,157,194,174,160,178,152,157,170,142,156,167,151,158,149,146,139,133,144,178,159,114,142,175,145,150,155,140,140,158,160,160,188,172,145,154,158,158,165,149,128,167,126,158,168,134,186,148,162,134,136,168,174,123,196,146,149,148,170,155,165,166,165,164,178,170,142,173,127,204,155,162,137,171,212,165,157,148,178,151,150,190,178,188,158,195,163,149,202,116,165,145,147,144,121,200,179,138,136,143,140,149,166,173,146,143,114,145,179,174,162,158,199,210,171,130,125,156,177,175,144,154,166,180,130,155,162,171,145,176,138,149,135,156,157,166,160,126,177,156,145,136,152,154,126,139,160,134,120,177,130,163,159,153,130,162,168,164,167,150,134,154,169,143,167,166,122,178,170,138,165,160,155,120,149,125,126,122,137,139,178,145,146,173,172,144,158,135,130,174,126,129,127,161,168,183,122,184,160,148,146,160,137,184,141,142,147,146,132,142,114,158,148,143,152,113,133,159,183,171,136,180,167,132,184,150,147,135,180,166,160,175,114,166,181,129,154,174,165,141,156,142,96,156,178,141,175,183,151,161,183,163,161,162,173,132,143,122,174,115,144,177,175,164,204,133,163,133,160,140,151,132,143,158,147,146,158,152,165,152,161,144,139,174,164,153,153,142,150,180,173,126,154,130,171,172,168,196,132,192,159,173,185,181,140,185,119,153,142,173,170,177,194,143,145,142,159,184,156,179,157,179,163,177,143,177,174,143,193,183,183,181,170,189,193,191,195,163,153,183,156,185,170,170,214,179,173,147,171,189,214,230,145,162,169,178,177,151,172,180,187,132,167,152,165,213,189,145,183,174,139,189],\"xaxis\":\"x\",\"yaxis\":\"y\",\"type\":\"histogram\"}],                        {\"template\":{\"data\":{\"bar\":[{\"error_x\":{\"color\":\"#2a3f5f\"},\"error_y\":{\"color\":\"#2a3f5f\"},\"marker\":{\"line\":{\"color\":\"#E5ECF6\",\"width\":0.5},\"pattern\":{\"fillmode\":\"overlay\",\"size\":10,\"solidity\":0.2}},\"type\":\"bar\"}],\"barpolar\":[{\"marker\":{\"line\":{\"color\":\"#E5ECF6\",\"width\":0.5},\"pattern\":{\"fillmode\":\"overlay\",\"size\":10,\"solidity\":0.2}},\"type\":\"barpolar\"}],\"carpet\":[{\"aaxis\":{\"endlinecolor\":\"#2a3f5f\",\"gridcolor\":\"white\",\"linecolor\":\"white\",\"minorgridcolor\":\"white\",\"startlinecolor\":\"#2a3f5f\"},\"baxis\":{\"endlinecolor\":\"#2a3f5f\",\"gridcolor\":\"white\",\"linecolor\":\"white\",\"minorgridcolor\":\"white\",\"startlinecolor\":\"#2a3f5f\"},\"type\":\"carpet\"}],\"choropleth\":[{\"colorbar\":{\"outlinewidth\":0,\"ticks\":\"\"},\"type\":\"choropleth\"}],\"contour\":[{\"colorbar\":{\"outlinewidth\":0,\"ticks\":\"\"},\"colorscale\":[[0.0,\"#0d0887\"],[0.1111111111111111,\"#46039f\"],[0.2222222222222222,\"#7201a8\"],[0.3333333333333333,\"#9c179e\"],[0.4444444444444444,\"#bd3786\"],[0.5555555555555556,\"#d8576b\"],[0.6666666666666666,\"#ed7953\"],[0.7777777777777778,\"#fb9f3a\"],[0.8888888888888888,\"#fdca26\"],[1.0,\"#f0f921\"]],\"type\":\"contour\"}],\"contourcarpet\":[{\"colorbar\":{\"outlinewidth\":0,\"ticks\":\"\"},\"type\":\"contourcarpet\"}],\"heatmap\":[{\"colorbar\":{\"outlinewidth\":0,\"ticks\":\"\"},\"colorscale\":[[0.0,\"#0d0887\"],[0.1111111111111111,\"#46039f\"],[0.2222222222222222,\"#7201a8\"],[0.3333333333333333,\"#9c179e\"],[0.4444444444444444,\"#bd3786\"],[0.5555555555555556,\"#d8576b\"],[0.6666666666666666,\"#ed7953\"],[0.7777777777777778,\"#fb9f3a\"],[0.8888888888888888,\"#fdca26\"],[1.0,\"#f0f921\"]],\"type\":\"heatmap\"}],\"heatmapgl\":[{\"colorbar\":{\"outlinewidth\":0,\"ticks\":\"\"},\"colorscale\":[[0.0,\"#0d0887\"],[0.1111111111111111,\"#46039f\"],[0.2222222222222222,\"#7201a8\"],[0.3333333333333333,\"#9c179e\"],[0.4444444444444444,\"#bd3786\"],[0.5555555555555556,\"#d8576b\"],[0.6666666666666666,\"#ed7953\"],[0.7777777777777778,\"#fb9f3a\"],[0.8888888888888888,\"#fdca26\"],[1.0,\"#f0f921\"]],\"type\":\"heatmapgl\"}],\"histogram\":[{\"marker\":{\"pattern\":{\"fillmode\":\"overlay\",\"size\":10,\"solidity\":0.2}},\"type\":\"histogram\"}],\"histogram2d\":[{\"colorbar\":{\"outlinewidth\":0,\"ticks\":\"\"},\"colorscale\":[[0.0,\"#0d0887\"],[0.1111111111111111,\"#46039f\"],[0.2222222222222222,\"#7201a8\"],[0.3333333333333333,\"#9c179e\"],[0.4444444444444444,\"#bd3786\"],[0.5555555555555556,\"#d8576b\"],[0.6666666666666666,\"#ed7953\"],[0.7777777777777778,\"#fb9f3a\"],[0.8888888888888888,\"#fdca26\"],[1.0,\"#f0f921\"]],\"type\":\"histogram2d\"}],\"histogram2dcontour\":[{\"colorbar\":{\"outlinewidth\":0,\"ticks\":\"\"},\"colorscale\":[[0.0,\"#0d0887\"],[0.1111111111111111,\"#46039f\"],[0.2222222222222222,\"#7201a8\"],[0.3333333333333333,\"#9c179e\"],[0.4444444444444444,\"#bd3786\"],[0.5555555555555556,\"#d8576b\"],[0.6666666666666666,\"#ed7953\"],[0.7777777777777778,\"#fb9f3a\"],[0.8888888888888888,\"#fdca26\"],[1.0,\"#f0f921\"]],\"type\":\"histogram2dcontour\"}],\"mesh3d\":[{\"colorbar\":{\"outlinewidth\":0,\"ticks\":\"\"},\"type\":\"mesh3d\"}],\"parcoords\":[{\"line\":{\"colorbar\":{\"outlinewidth\":0,\"ticks\":\"\"}},\"type\":\"parcoords\"}],\"pie\":[{\"automargin\":true,\"type\":\"pie\"}],\"scatter\":[{\"marker\":{\"colorbar\":{\"outlinewidth\":0,\"ticks\":\"\"}},\"type\":\"scatter\"}],\"scatter3d\":[{\"line\":{\"colorbar\":{\"outlinewidth\":0,\"ticks\":\"\"}},\"marker\":{\"colorbar\":{\"outlinewidth\":0,\"ticks\":\"\"}},\"type\":\"scatter3d\"}],\"scattercarpet\":[{\"marker\":{\"colorbar\":{\"outlinewidth\":0,\"ticks\":\"\"}},\"type\":\"scattercarpet\"}],\"scattergeo\":[{\"marker\":{\"colorbar\":{\"outlinewidth\":0,\"ticks\":\"\"}},\"type\":\"scattergeo\"}],\"scattergl\":[{\"marker\":{\"colorbar\":{\"outlinewidth\":0,\"ticks\":\"\"}},\"type\":\"scattergl\"}],\"scattermapbox\":[{\"marker\":{\"colorbar\":{\"outlinewidth\":0,\"ticks\":\"\"}},\"type\":\"scattermapbox\"}],\"scatterpolar\":[{\"marker\":{\"colorbar\":{\"outlinewidth\":0,\"ticks\":\"\"}},\"type\":\"scatterpolar\"}],\"scatterpolargl\":[{\"marker\":{\"colorbar\":{\"outlinewidth\":0,\"ticks\":\"\"}},\"type\":\"scatterpolargl\"}],\"scatterternary\":[{\"marker\":{\"colorbar\":{\"outlinewidth\":0,\"ticks\":\"\"}},\"type\":\"scatterternary\"}],\"surface\":[{\"colorbar\":{\"outlinewidth\":0,\"ticks\":\"\"},\"colorscale\":[[0.0,\"#0d0887\"],[0.1111111111111111,\"#46039f\"],[0.2222222222222222,\"#7201a8\"],[0.3333333333333333,\"#9c179e\"],[0.4444444444444444,\"#bd3786\"],[0.5555555555555556,\"#d8576b\"],[0.6666666666666666,\"#ed7953\"],[0.7777777777777778,\"#fb9f3a\"],[0.8888888888888888,\"#fdca26\"],[1.0,\"#f0f921\"]],\"type\":\"surface\"}],\"table\":[{\"cells\":{\"fill\":{\"color\":\"#EBF0F8\"},\"line\":{\"color\":\"white\"}},\"header\":{\"fill\":{\"color\":\"#C8D4E3\"},\"line\":{\"color\":\"white\"}},\"type\":\"table\"}]},\"layout\":{\"annotationdefaults\":{\"arrowcolor\":\"#2a3f5f\",\"arrowhead\":0,\"arrowwidth\":1},\"autotypenumbers\":\"strict\",\"coloraxis\":{\"colorbar\":{\"outlinewidth\":0,\"ticks\":\"\"}},\"colorscale\":{\"diverging\":[[0,\"#8e0152\"],[0.1,\"#c51b7d\"],[0.2,\"#de77ae\"],[0.3,\"#f1b6da\"],[0.4,\"#fde0ef\"],[0.5,\"#f7f7f7\"],[0.6,\"#e6f5d0\"],[0.7,\"#b8e186\"],[0.8,\"#7fbc41\"],[0.9,\"#4d9221\"],[1,\"#276419\"]],\"sequential\":[[0.0,\"#0d0887\"],[0.1111111111111111,\"#46039f\"],[0.2222222222222222,\"#7201a8\"],[0.3333333333333333,\"#9c179e\"],[0.4444444444444444,\"#bd3786\"],[0.5555555555555556,\"#d8576b\"],[0.6666666666666666,\"#ed7953\"],[0.7777777777777778,\"#fb9f3a\"],[0.8888888888888888,\"#fdca26\"],[1.0,\"#f0f921\"]],\"sequentialminus\":[[0.0,\"#0d0887\"],[0.1111111111111111,\"#46039f\"],[0.2222222222222222,\"#7201a8\"],[0.3333333333333333,\"#9c179e\"],[0.4444444444444444,\"#bd3786\"],[0.5555555555555556,\"#d8576b\"],[0.6666666666666666,\"#ed7953\"],[0.7777777777777778,\"#fb9f3a\"],[0.8888888888888888,\"#fdca26\"],[1.0,\"#f0f921\"]]},\"colorway\":[\"#636efa\",\"#EF553B\",\"#00cc96\",\"#ab63fa\",\"#FFA15A\",\"#19d3f3\",\"#FF6692\",\"#B6E880\",\"#FF97FF\",\"#FECB52\"],\"font\":{\"color\":\"#2a3f5f\"},\"geo\":{\"bgcolor\":\"white\",\"lakecolor\":\"white\",\"landcolor\":\"#E5ECF6\",\"showlakes\":true,\"showland\":true,\"subunitcolor\":\"white\"},\"hoverlabel\":{\"align\":\"left\"},\"hovermode\":\"closest\",\"mapbox\":{\"style\":\"light\"},\"paper_bgcolor\":\"white\",\"plot_bgcolor\":\"#E5ECF6\",\"polar\":{\"angularaxis\":{\"gridcolor\":\"white\",\"linecolor\":\"white\",\"ticks\":\"\"},\"bgcolor\":\"#E5ECF6\",\"radialaxis\":{\"gridcolor\":\"white\",\"linecolor\":\"white\",\"ticks\":\"\"}},\"scene\":{\"xaxis\":{\"backgroundcolor\":\"#E5ECF6\",\"gridcolor\":\"white\",\"gridwidth\":2,\"linecolor\":\"white\",\"showbackground\":true,\"ticks\":\"\",\"zerolinecolor\":\"white\"},\"yaxis\":{\"backgroundcolor\":\"#E5ECF6\",\"gridcolor\":\"white\",\"gridwidth\":2,\"linecolor\":\"white\",\"showbackground\":true,\"ticks\":\"\",\"zerolinecolor\":\"white\"},\"zaxis\":{\"backgroundcolor\":\"#E5ECF6\",\"gridcolor\":\"white\",\"gridwidth\":2,\"linecolor\":\"white\",\"showbackground\":true,\"ticks\":\"\",\"zerolinecolor\":\"white\"}},\"shapedefaults\":{\"line\":{\"color\":\"#2a3f5f\"}},\"ternary\":{\"aaxis\":{\"gridcolor\":\"white\",\"linecolor\":\"white\",\"ticks\":\"\"},\"baxis\":{\"gridcolor\":\"white\",\"linecolor\":\"white\",\"ticks\":\"\"},\"bgcolor\":\"#E5ECF6\",\"caxis\":{\"gridcolor\":\"white\",\"linecolor\":\"white\",\"ticks\":\"\"}},\"title\":{\"x\":0.05},\"xaxis\":{\"automargin\":true,\"gridcolor\":\"white\",\"linecolor\":\"white\",\"ticks\":\"\",\"title\":{\"standoff\":15},\"zerolinecolor\":\"white\",\"zerolinewidth\":2},\"yaxis\":{\"automargin\":true,\"gridcolor\":\"white\",\"linecolor\":\"white\",\"ticks\":\"\",\"title\":{\"standoff\":15},\"zerolinecolor\":\"white\",\"zerolinewidth\":2}}},\"xaxis\":{\"anchor\":\"y\",\"domain\":[0.0,1.0],\"title\":{\"text\":\"Weight\"}},\"yaxis\":{\"anchor\":\"x\",\"domain\":[0.0,1.0],\"title\":{\"text\":\"count\"}},\"legend\":{\"tracegroupgap\":0},\"margin\":{\"t\":60},\"barmode\":\"relative\",\"height\":350,\"width\":550},                        {\"responsive\": true}                    ).then(function(){\n",
              "                            \n",
              "var gd = document.getElementById('2d77a77d-5dcd-4d50-818a-4c60fb5b96ce');\n",
              "var x = new MutationObserver(function (mutations, observer) {{\n",
              "        var display = window.getComputedStyle(gd).display;\n",
              "        if (!display || display === 'none') {{\n",
              "            console.log([gd, 'removed!']);\n",
              "            Plotly.purge(gd);\n",
              "            observer.disconnect();\n",
              "        }}\n",
              "}});\n",
              "\n",
              "// Listen for the removal of the full notebook cells\n",
              "var notebookContainer = gd.closest('#notebook-container');\n",
              "if (notebookContainer) {{\n",
              "    x.observe(notebookContainer, {childList: true});\n",
              "}}\n",
              "\n",
              "// Listen for the clearing of the current output cell\n",
              "var outputEl = gd.closest('.output');\n",
              "if (outputEl) {{\n",
              "    x.observe(outputEl, {childList: true});\n",
              "}}\n",
              "\n",
              "                        })                };                            </script>        </div>\n",
              "</body>\n",
              "</html>"
            ]
          },
          "metadata": {}
        }
      ]
    },
    {
      "cell_type": "markdown",
      "source": [
        "Now to identify the relationship between the height and weight by plotting a scatter plot."
      ],
      "metadata": {
        "id": "w0Dp6pHu3WB7"
      }
    },
    {
      "cell_type": "code",
      "source": [
        "donkey_scatter = px.scatter(data, x='Height', y='Weight', width=550, height=350)\n",
        "donkey_scatter"
      ],
      "metadata": {
        "colab": {
          "base_uri": "https://localhost:8080/",
          "height": 367
        },
        "id": "jGmDRnEm3VPv",
        "outputId": "886207ae-ee99-49a2-f231-e6d9dca1410a"
      },
      "execution_count": 12,
      "outputs": [
        {
          "output_type": "display_data",
          "data": {
            "text/html": [
              "<html>\n",
              "<head><meta charset=\"utf-8\" /></head>\n",
              "<body>\n",
              "    <div>            <script src=\"https://cdnjs.cloudflare.com/ajax/libs/mathjax/2.7.5/MathJax.js?config=TeX-AMS-MML_SVG\"></script><script type=\"text/javascript\">if (window.MathJax) {MathJax.Hub.Config({SVG: {font: \"STIX-Web\"}});}</script>                <script type=\"text/javascript\">window.PlotlyConfig = {MathJaxConfig: 'local'};</script>\n",
              "        <script src=\"https://cdn.plot.ly/plotly-2.8.3.min.js\"></script>                <div id=\"14608390-7c7d-419e-bafd-ed598924957e\" class=\"plotly-graph-div\" style=\"height:350px; width:550px;\"></div>            <script type=\"text/javascript\">                                    window.PLOTLYENV=window.PLOTLYENV || {};                                    if (document.getElementById(\"14608390-7c7d-419e-bafd-ed598924957e\")) {                    Plotly.newPlot(                        \"14608390-7c7d-419e-bafd-ed598924957e\",                        [{\"hovertemplate\":\"Height=%{x}<br>Weight=%{y}<extra></extra>\",\"legendgroup\":\"\",\"marker\":{\"color\":\"#636efa\",\"symbol\":\"circle\"},\"mode\":\"markers\",\"name\":\"\",\"orientation\":\"v\",\"showlegend\":false,\"x\":[90,94,95,96,91,98,96,89,71,99,92,92,96,96,97,98,90,96,94,98,93,96,86,96,92,106,91,96,97,98,98,99,94,101,106,97,98,100,93,93,92,100,97,96,89,96,98,91,99,96,89,101,104,97,100,101,99,97,98,93,101,104,101,97,106,99,102,100,97,100,98,95,98,104,102,105,98,108,107,106,101,101,102,99,98,104,107,99,94,97,107,103,100,98,101,101,97,96,97,100,100,98,99,102,99,99,102,101,104,103,103,104,107,102,103,103,102,102,98,102,97,103,103,103,107,101,97,98,102,104,100,102,102,104,106,102,98,97,105,106,106,99,105,102,101,95,104,97,101,102,105,102,103,100,97,98,100,102,105,105,104,102,100,97,106,102,103,98,101,104,104,101,101,107,99,99,101,99,98,99,104,104,102,105,99,102,102,101,99,98,101,95,96,102,98,98,100,98,98,106,105,100,103,101,102,105,99,103,101,99,97,103,105,101,104,100,106,99,103,94,101,103,108,96,101,103,100,98,103,101,100,102,102,101,105,102,99,100,94,111,102,103,105,103,113,103,98,101,103,102,99,103,105,103,100,107,99,99,105,101,100,105,99,99,96,103,102,100,98,104,97,98,99,99,106,100,97,101,104,102,100,101,110,110,101,102,89,102,104,104,99,103,99,108,97,103,99,103,101,104,101,100,97,106,102,106,105,97,101,101,102,101,99,103,98,103,100,100,100,102,103,101,103,108,102,105,112,105,103,99,101,105,107,105,107,102,94,102,108,102,107,106,107,102,107,103,102,99,103,100,98,101,101,105,107,104,102,100,99,109,101,96,100,99,104,107,100,105,104,99,102,106,103,110,104,100,99,104,102,96,89,103,100,103,99,102,98,105,101,106,101,101,100,101,106,100,100,104,103,105,97,106,98,107,103,99,102,100,106,99,103,105,90,101,104,98,106,110,102,101,104,102,98,103,106,102,100,100,105,99,102,102,100,102,107,98,101,94,112,100,100,98,98,105,98,103,103,101,103,104,108,100,101,103,107,103,104,100,99,103,105,97,103,99,104,101,102,109,101,105,108,106,105,103,97,104,97,103,101,106,105,102,106,103,99,102,99,106,103,102,103,104,104,104,101,105,104,100,108,102,105,100,103,105,108,102,105,101,108,102,102,106,103,106,110,107,103,101,106,109,108,116,103,104,107,103,105,106,109,105,105,103,107,100,103,108,102,101,110,103,100,110],\"xaxis\":\"x\",\"y\":[77,100,74,116,91,105,108,86,27,141,100,95,115,106,112,117,94,107,102,127,90,108,72,102,86,118,65,90,118,113,117,124,89,130,150,87,96,117,94,105,94,107,117,106,75,105,114,115,107,98,71,142,146,106,162,164,133,152,129,110,181,160,172,164,192,163,169,144,165,160,145,110,154,133,152,145,130,183,173,161,172,151,170,159,142,136,185,143,107,173,161,176,169,184,166,152,98,131,136,109,165,138,137,177,142,160,125,158,178,157,164,162,155,166,170,141,142,165,146,163,170,159,154,165,167,157,114,181,170,168,146,163,190,138,162,171,167,139,188,152,174,125,179,167,149,144,158,144,145,140,168,152,161,155,179,143,150,170,136,167,169,141,154,131,155,157,165,92,171,156,182,157,194,174,160,178,152,157,170,142,156,167,151,158,149,146,139,133,144,178,159,114,142,175,145,150,155,140,140,158,160,160,188,172,145,154,158,158,165,149,128,167,126,158,168,134,186,148,162,134,136,168,174,123,196,146,149,148,170,155,165,166,165,164,178,170,142,173,127,204,155,162,137,171,212,165,157,148,178,151,150,190,178,188,158,195,163,149,202,116,165,145,147,144,121,200,179,138,136,143,140,149,166,173,146,143,114,145,179,174,162,158,199,210,171,130,125,156,177,175,144,154,166,180,130,155,162,171,145,176,138,149,135,156,157,166,160,126,177,156,145,136,152,154,126,139,160,134,120,177,130,163,159,153,130,162,168,164,167,150,134,154,169,143,167,166,122,178,170,138,165,160,155,120,149,125,126,122,137,139,178,145,146,173,172,144,158,135,130,174,126,129,127,161,168,183,122,184,160,148,146,160,137,184,141,142,147,146,132,142,114,158,148,143,152,113,133,159,183,171,136,180,167,132,184,150,147,135,180,166,160,175,114,166,181,129,154,174,165,141,156,142,96,156,178,141,175,183,151,161,183,163,161,162,173,132,143,122,174,115,144,177,175,164,204,133,163,133,160,140,151,132,143,158,147,146,158,152,165,152,161,144,139,174,164,153,153,142,150,180,173,126,154,130,171,172,168,196,132,192,159,173,185,181,140,185,119,153,142,173,170,177,194,143,145,142,159,184,156,179,157,179,163,177,143,177,174,143,193,183,183,181,170,189,193,191,195,163,153,183,156,185,170,170,214,179,173,147,171,189,214,230,145,162,169,178,177,151,172,180,187,132,167,152,165,213,189,145,183,174,139,189],\"yaxis\":\"y\",\"type\":\"scatter\"}],                        {\"template\":{\"data\":{\"bar\":[{\"error_x\":{\"color\":\"#2a3f5f\"},\"error_y\":{\"color\":\"#2a3f5f\"},\"marker\":{\"line\":{\"color\":\"#E5ECF6\",\"width\":0.5},\"pattern\":{\"fillmode\":\"overlay\",\"size\":10,\"solidity\":0.2}},\"type\":\"bar\"}],\"barpolar\":[{\"marker\":{\"line\":{\"color\":\"#E5ECF6\",\"width\":0.5},\"pattern\":{\"fillmode\":\"overlay\",\"size\":10,\"solidity\":0.2}},\"type\":\"barpolar\"}],\"carpet\":[{\"aaxis\":{\"endlinecolor\":\"#2a3f5f\",\"gridcolor\":\"white\",\"linecolor\":\"white\",\"minorgridcolor\":\"white\",\"startlinecolor\":\"#2a3f5f\"},\"baxis\":{\"endlinecolor\":\"#2a3f5f\",\"gridcolor\":\"white\",\"linecolor\":\"white\",\"minorgridcolor\":\"white\",\"startlinecolor\":\"#2a3f5f\"},\"type\":\"carpet\"}],\"choropleth\":[{\"colorbar\":{\"outlinewidth\":0,\"ticks\":\"\"},\"type\":\"choropleth\"}],\"contour\":[{\"colorbar\":{\"outlinewidth\":0,\"ticks\":\"\"},\"colorscale\":[[0.0,\"#0d0887\"],[0.1111111111111111,\"#46039f\"],[0.2222222222222222,\"#7201a8\"],[0.3333333333333333,\"#9c179e\"],[0.4444444444444444,\"#bd3786\"],[0.5555555555555556,\"#d8576b\"],[0.6666666666666666,\"#ed7953\"],[0.7777777777777778,\"#fb9f3a\"],[0.8888888888888888,\"#fdca26\"],[1.0,\"#f0f921\"]],\"type\":\"contour\"}],\"contourcarpet\":[{\"colorbar\":{\"outlinewidth\":0,\"ticks\":\"\"},\"type\":\"contourcarpet\"}],\"heatmap\":[{\"colorbar\":{\"outlinewidth\":0,\"ticks\":\"\"},\"colorscale\":[[0.0,\"#0d0887\"],[0.1111111111111111,\"#46039f\"],[0.2222222222222222,\"#7201a8\"],[0.3333333333333333,\"#9c179e\"],[0.4444444444444444,\"#bd3786\"],[0.5555555555555556,\"#d8576b\"],[0.6666666666666666,\"#ed7953\"],[0.7777777777777778,\"#fb9f3a\"],[0.8888888888888888,\"#fdca26\"],[1.0,\"#f0f921\"]],\"type\":\"heatmap\"}],\"heatmapgl\":[{\"colorbar\":{\"outlinewidth\":0,\"ticks\":\"\"},\"colorscale\":[[0.0,\"#0d0887\"],[0.1111111111111111,\"#46039f\"],[0.2222222222222222,\"#7201a8\"],[0.3333333333333333,\"#9c179e\"],[0.4444444444444444,\"#bd3786\"],[0.5555555555555556,\"#d8576b\"],[0.6666666666666666,\"#ed7953\"],[0.7777777777777778,\"#fb9f3a\"],[0.8888888888888888,\"#fdca26\"],[1.0,\"#f0f921\"]],\"type\":\"heatmapgl\"}],\"histogram\":[{\"marker\":{\"pattern\":{\"fillmode\":\"overlay\",\"size\":10,\"solidity\":0.2}},\"type\":\"histogram\"}],\"histogram2d\":[{\"colorbar\":{\"outlinewidth\":0,\"ticks\":\"\"},\"colorscale\":[[0.0,\"#0d0887\"],[0.1111111111111111,\"#46039f\"],[0.2222222222222222,\"#7201a8\"],[0.3333333333333333,\"#9c179e\"],[0.4444444444444444,\"#bd3786\"],[0.5555555555555556,\"#d8576b\"],[0.6666666666666666,\"#ed7953\"],[0.7777777777777778,\"#fb9f3a\"],[0.8888888888888888,\"#fdca26\"],[1.0,\"#f0f921\"]],\"type\":\"histogram2d\"}],\"histogram2dcontour\":[{\"colorbar\":{\"outlinewidth\":0,\"ticks\":\"\"},\"colorscale\":[[0.0,\"#0d0887\"],[0.1111111111111111,\"#46039f\"],[0.2222222222222222,\"#7201a8\"],[0.3333333333333333,\"#9c179e\"],[0.4444444444444444,\"#bd3786\"],[0.5555555555555556,\"#d8576b\"],[0.6666666666666666,\"#ed7953\"],[0.7777777777777778,\"#fb9f3a\"],[0.8888888888888888,\"#fdca26\"],[1.0,\"#f0f921\"]],\"type\":\"histogram2dcontour\"}],\"mesh3d\":[{\"colorbar\":{\"outlinewidth\":0,\"ticks\":\"\"},\"type\":\"mesh3d\"}],\"parcoords\":[{\"line\":{\"colorbar\":{\"outlinewidth\":0,\"ticks\":\"\"}},\"type\":\"parcoords\"}],\"pie\":[{\"automargin\":true,\"type\":\"pie\"}],\"scatter\":[{\"marker\":{\"colorbar\":{\"outlinewidth\":0,\"ticks\":\"\"}},\"type\":\"scatter\"}],\"scatter3d\":[{\"line\":{\"colorbar\":{\"outlinewidth\":0,\"ticks\":\"\"}},\"marker\":{\"colorbar\":{\"outlinewidth\":0,\"ticks\":\"\"}},\"type\":\"scatter3d\"}],\"scattercarpet\":[{\"marker\":{\"colorbar\":{\"outlinewidth\":0,\"ticks\":\"\"}},\"type\":\"scattercarpet\"}],\"scattergeo\":[{\"marker\":{\"colorbar\":{\"outlinewidth\":0,\"ticks\":\"\"}},\"type\":\"scattergeo\"}],\"scattergl\":[{\"marker\":{\"colorbar\":{\"outlinewidth\":0,\"ticks\":\"\"}},\"type\":\"scattergl\"}],\"scattermapbox\":[{\"marker\":{\"colorbar\":{\"outlinewidth\":0,\"ticks\":\"\"}},\"type\":\"scattermapbox\"}],\"scatterpolar\":[{\"marker\":{\"colorbar\":{\"outlinewidth\":0,\"ticks\":\"\"}},\"type\":\"scatterpolar\"}],\"scatterpolargl\":[{\"marker\":{\"colorbar\":{\"outlinewidth\":0,\"ticks\":\"\"}},\"type\":\"scatterpolargl\"}],\"scatterternary\":[{\"marker\":{\"colorbar\":{\"outlinewidth\":0,\"ticks\":\"\"}},\"type\":\"scatterternary\"}],\"surface\":[{\"colorbar\":{\"outlinewidth\":0,\"ticks\":\"\"},\"colorscale\":[[0.0,\"#0d0887\"],[0.1111111111111111,\"#46039f\"],[0.2222222222222222,\"#7201a8\"],[0.3333333333333333,\"#9c179e\"],[0.4444444444444444,\"#bd3786\"],[0.5555555555555556,\"#d8576b\"],[0.6666666666666666,\"#ed7953\"],[0.7777777777777778,\"#fb9f3a\"],[0.8888888888888888,\"#fdca26\"],[1.0,\"#f0f921\"]],\"type\":\"surface\"}],\"table\":[{\"cells\":{\"fill\":{\"color\":\"#EBF0F8\"},\"line\":{\"color\":\"white\"}},\"header\":{\"fill\":{\"color\":\"#C8D4E3\"},\"line\":{\"color\":\"white\"}},\"type\":\"table\"}]},\"layout\":{\"annotationdefaults\":{\"arrowcolor\":\"#2a3f5f\",\"arrowhead\":0,\"arrowwidth\":1},\"autotypenumbers\":\"strict\",\"coloraxis\":{\"colorbar\":{\"outlinewidth\":0,\"ticks\":\"\"}},\"colorscale\":{\"diverging\":[[0,\"#8e0152\"],[0.1,\"#c51b7d\"],[0.2,\"#de77ae\"],[0.3,\"#f1b6da\"],[0.4,\"#fde0ef\"],[0.5,\"#f7f7f7\"],[0.6,\"#e6f5d0\"],[0.7,\"#b8e186\"],[0.8,\"#7fbc41\"],[0.9,\"#4d9221\"],[1,\"#276419\"]],\"sequential\":[[0.0,\"#0d0887\"],[0.1111111111111111,\"#46039f\"],[0.2222222222222222,\"#7201a8\"],[0.3333333333333333,\"#9c179e\"],[0.4444444444444444,\"#bd3786\"],[0.5555555555555556,\"#d8576b\"],[0.6666666666666666,\"#ed7953\"],[0.7777777777777778,\"#fb9f3a\"],[0.8888888888888888,\"#fdca26\"],[1.0,\"#f0f921\"]],\"sequentialminus\":[[0.0,\"#0d0887\"],[0.1111111111111111,\"#46039f\"],[0.2222222222222222,\"#7201a8\"],[0.3333333333333333,\"#9c179e\"],[0.4444444444444444,\"#bd3786\"],[0.5555555555555556,\"#d8576b\"],[0.6666666666666666,\"#ed7953\"],[0.7777777777777778,\"#fb9f3a\"],[0.8888888888888888,\"#fdca26\"],[1.0,\"#f0f921\"]]},\"colorway\":[\"#636efa\",\"#EF553B\",\"#00cc96\",\"#ab63fa\",\"#FFA15A\",\"#19d3f3\",\"#FF6692\",\"#B6E880\",\"#FF97FF\",\"#FECB52\"],\"font\":{\"color\":\"#2a3f5f\"},\"geo\":{\"bgcolor\":\"white\",\"lakecolor\":\"white\",\"landcolor\":\"#E5ECF6\",\"showlakes\":true,\"showland\":true,\"subunitcolor\":\"white\"},\"hoverlabel\":{\"align\":\"left\"},\"hovermode\":\"closest\",\"mapbox\":{\"style\":\"light\"},\"paper_bgcolor\":\"white\",\"plot_bgcolor\":\"#E5ECF6\",\"polar\":{\"angularaxis\":{\"gridcolor\":\"white\",\"linecolor\":\"white\",\"ticks\":\"\"},\"bgcolor\":\"#E5ECF6\",\"radialaxis\":{\"gridcolor\":\"white\",\"linecolor\":\"white\",\"ticks\":\"\"}},\"scene\":{\"xaxis\":{\"backgroundcolor\":\"#E5ECF6\",\"gridcolor\":\"white\",\"gridwidth\":2,\"linecolor\":\"white\",\"showbackground\":true,\"ticks\":\"\",\"zerolinecolor\":\"white\"},\"yaxis\":{\"backgroundcolor\":\"#E5ECF6\",\"gridcolor\":\"white\",\"gridwidth\":2,\"linecolor\":\"white\",\"showbackground\":true,\"ticks\":\"\",\"zerolinecolor\":\"white\"},\"zaxis\":{\"backgroundcolor\":\"#E5ECF6\",\"gridcolor\":\"white\",\"gridwidth\":2,\"linecolor\":\"white\",\"showbackground\":true,\"ticks\":\"\",\"zerolinecolor\":\"white\"}},\"shapedefaults\":{\"line\":{\"color\":\"#2a3f5f\"}},\"ternary\":{\"aaxis\":{\"gridcolor\":\"white\",\"linecolor\":\"white\",\"ticks\":\"\"},\"baxis\":{\"gridcolor\":\"white\",\"linecolor\":\"white\",\"ticks\":\"\"},\"bgcolor\":\"#E5ECF6\",\"caxis\":{\"gridcolor\":\"white\",\"linecolor\":\"white\",\"ticks\":\"\"}},\"title\":{\"x\":0.05},\"xaxis\":{\"automargin\":true,\"gridcolor\":\"white\",\"linecolor\":\"white\",\"ticks\":\"\",\"title\":{\"standoff\":15},\"zerolinecolor\":\"white\",\"zerolinewidth\":2},\"yaxis\":{\"automargin\":true,\"gridcolor\":\"white\",\"linecolor\":\"white\",\"ticks\":\"\",\"title\":{\"standoff\":15},\"zerolinecolor\":\"white\",\"zerolinewidth\":2}}},\"xaxis\":{\"anchor\":\"y\",\"domain\":[0.0,1.0],\"title\":{\"text\":\"Height\"}},\"yaxis\":{\"anchor\":\"x\",\"domain\":[0.0,1.0],\"title\":{\"text\":\"Weight\"}},\"legend\":{\"tracegroupgap\":0},\"margin\":{\"t\":60},\"height\":350,\"width\":550},                        {\"responsive\": true}                    ).then(function(){\n",
              "                            \n",
              "var gd = document.getElementById('14608390-7c7d-419e-bafd-ed598924957e');\n",
              "var x = new MutationObserver(function (mutations, observer) {{\n",
              "        var display = window.getComputedStyle(gd).display;\n",
              "        if (!display || display === 'none') {{\n",
              "            console.log([gd, 'removed!']);\n",
              "            Plotly.purge(gd);\n",
              "            observer.disconnect();\n",
              "        }}\n",
              "}});\n",
              "\n",
              "// Listen for the removal of the full notebook cells\n",
              "var notebookContainer = gd.closest('#notebook-container');\n",
              "if (notebookContainer) {{\n",
              "    x.observe(notebookContainer, {childList: true});\n",
              "}}\n",
              "\n",
              "// Listen for the clearing of the current output cell\n",
              "var outputEl = gd.closest('.output');\n",
              "if (outputEl) {{\n",
              "    x.observe(outputEl, {childList: true});\n",
              "}}\n",
              "\n",
              "                        })                };                            </script>        </div>\n",
              "</body>\n",
              "</html>"
            ]
          },
          "metadata": {}
        }
      ]
    },
    {
      "cell_type": "code",
      "source": [
        "# as shown, we notice that 1 lightweight donkey does not weigh close to the average.\n",
        "# we also notice that 1 heavyweight donkey is also a bit separated from the average. \n",
        "def remove_2(data):\n",
        "  return data[(data['Weight'] >= 40)] # tranforming our data by removing weight outliers\n",
        "\n",
        "data = (data.pipe(remove_1).pipe(remove_2)) # updating our data set by adding both functions"
      ],
      "metadata": {
        "id": "T7x_8EqG4L8A"
      },
      "execution_count": 13,
      "outputs": []
    },
    {
      "cell_type": "code",
      "source": [
        "data.shape"
      ],
      "metadata": {
        "colab": {
          "base_uri": "https://localhost:8080/"
        },
        "id": "LAkR3YVY5w6Z",
        "outputId": "94c11e82-133b-49b4-f955-af8747e50916"
      },
      "execution_count": 14,
      "outputs": [
        {
          "output_type": "execute_result",
          "data": {
            "text/plain": [
              "(541, 9)"
            ]
          },
          "metadata": {},
          "execution_count": 14
        }
      ]
    },
    {
      "cell_type": "markdown",
      "source": [
        "# **Task 4:**\n",
        "* **Perform train-test-split**\n",
        "* **Training - Train a machine learning model on the transformed data**\n",
        "* **Evaluation - Evaluate the model on the test set**"
      ],
      "metadata": {
        "id": "Zx7rKnCd6Plo"
      }
    },
    {
      "cell_type": "code",
      "source": [
        "# performing a randomization for the indices\n",
        "import numpy as np\n",
        "\n",
        "np.random.seed(50)\n",
        "num = len(data)\n",
        "random_indices = np.arange(num)\n",
        "np.random.shuffle(random_indices)\n",
        "num_train = int(np.round((0.7 * num)))"
      ],
      "metadata": {
        "id": "oXMy0a5H6Ovr"
      },
      "execution_count": 15,
      "outputs": []
    },
    {
      "cell_type": "code",
      "source": [
        "x_train = data.iloc[random_indices[:num_train]] # 70\n",
        "x_test = data.iloc[random_indices[num_train:]] # 30"
      ],
      "metadata": {
        "id": "5in0wqz571t8"
      },
      "execution_count": 16,
      "outputs": []
    },
    {
      "cell_type": "markdown",
      "source": [
        "70/30 split"
      ],
      "metadata": {
        "id": "-t9y4k9B8Xka"
      }
    },
    {
      "cell_type": "code",
      "source": [
        "x_train.shape # 70% for training set"
      ],
      "metadata": {
        "colab": {
          "base_uri": "https://localhost:8080/"
        },
        "id": "8ljbzNLd8MTq",
        "outputId": "b7c90436-330a-411e-941c-41fda21e62db"
      },
      "execution_count": 17,
      "outputs": [
        {
          "output_type": "execute_result",
          "data": {
            "text/plain": [
              "(379, 9)"
            ]
          },
          "metadata": {},
          "execution_count": 17
        }
      ]
    },
    {
      "cell_type": "code",
      "source": [
        "x_test.shape # 30% for testing set"
      ],
      "metadata": {
        "colab": {
          "base_uri": "https://localhost:8080/"
        },
        "id": "a5Pjvh1S8QV_",
        "outputId": "eb98a4ab-e2fa-49e2-b20f-133992b9cd8c"
      },
      "execution_count": 18,
      "outputs": [
        {
          "output_type": "execute_result",
          "data": {
            "text/plain": [
              "(162, 9)"
            ]
          },
          "metadata": {},
          "execution_count": 18
        }
      ]
    },
    {
      "cell_type": "markdown",
      "source": [
        "By oberservation we can see that girth column has the best linear association with the weight column in terms of its relationship compared to the other columns. "
      ],
      "metadata": {
        "id": "ovGBMRCU-ky3"
      }
    },
    {
      "cell_type": "code",
      "source": [
        "train = x_train[['Weight', 'Length', 'Girth', 'Height']] # quantitative variables comparing with Weight\n",
        "train.corr() # finding the pairwise correlation"
      ],
      "metadata": {
        "colab": {
          "base_uri": "https://localhost:8080/",
          "height": 175
        },
        "id": "xYCk4rGn8wS5",
        "outputId": "bc054f10-e3e0-4cf2-8528-4cec376240a2"
      },
      "execution_count": 19,
      "outputs": [
        {
          "output_type": "execute_result",
          "data": {
            "text/plain": [
              "          Weight    Length     Girth    Height\n",
              "Weight  1.000000  0.793852  0.907038  0.727064\n",
              "Length  0.793852  1.000000  0.694904  0.589163\n",
              "Girth   0.907038  0.694904  1.000000  0.714789\n",
              "Height  0.727064  0.589163  0.714789  1.000000"
            ],
            "text/html": [
              "\n",
              "  <div id=\"df-ddf72742-ea77-4f8e-9aee-dd529d3e3430\">\n",
              "    <div class=\"colab-df-container\">\n",
              "      <div>\n",
              "<style scoped>\n",
              "    .dataframe tbody tr th:only-of-type {\n",
              "        vertical-align: middle;\n",
              "    }\n",
              "\n",
              "    .dataframe tbody tr th {\n",
              "        vertical-align: top;\n",
              "    }\n",
              "\n",
              "    .dataframe thead th {\n",
              "        text-align: right;\n",
              "    }\n",
              "</style>\n",
              "<table border=\"1\" class=\"dataframe\">\n",
              "  <thead>\n",
              "    <tr style=\"text-align: right;\">\n",
              "      <th></th>\n",
              "      <th>Weight</th>\n",
              "      <th>Length</th>\n",
              "      <th>Girth</th>\n",
              "      <th>Height</th>\n",
              "    </tr>\n",
              "  </thead>\n",
              "  <tbody>\n",
              "    <tr>\n",
              "      <th>Weight</th>\n",
              "      <td>1.000000</td>\n",
              "      <td>0.793852</td>\n",
              "      <td>0.907038</td>\n",
              "      <td>0.727064</td>\n",
              "    </tr>\n",
              "    <tr>\n",
              "      <th>Length</th>\n",
              "      <td>0.793852</td>\n",
              "      <td>1.000000</td>\n",
              "      <td>0.694904</td>\n",
              "      <td>0.589163</td>\n",
              "    </tr>\n",
              "    <tr>\n",
              "      <th>Girth</th>\n",
              "      <td>0.907038</td>\n",
              "      <td>0.694904</td>\n",
              "      <td>1.000000</td>\n",
              "      <td>0.714789</td>\n",
              "    </tr>\n",
              "    <tr>\n",
              "      <th>Height</th>\n",
              "      <td>0.727064</td>\n",
              "      <td>0.589163</td>\n",
              "      <td>0.714789</td>\n",
              "      <td>1.000000</td>\n",
              "    </tr>\n",
              "  </tbody>\n",
              "</table>\n",
              "</div>\n",
              "      <button class=\"colab-df-convert\" onclick=\"convertToInteractive('df-ddf72742-ea77-4f8e-9aee-dd529d3e3430')\"\n",
              "              title=\"Convert this dataframe to an interactive table.\"\n",
              "              style=\"display:none;\">\n",
              "        \n",
              "  <svg xmlns=\"http://www.w3.org/2000/svg\" height=\"24px\"viewBox=\"0 0 24 24\"\n",
              "       width=\"24px\">\n",
              "    <path d=\"M0 0h24v24H0V0z\" fill=\"none\"/>\n",
              "    <path d=\"M18.56 5.44l.94 2.06.94-2.06 2.06-.94-2.06-.94-.94-2.06-.94 2.06-2.06.94zm-11 1L8.5 8.5l.94-2.06 2.06-.94-2.06-.94L8.5 2.5l-.94 2.06-2.06.94zm10 10l.94 2.06.94-2.06 2.06-.94-2.06-.94-.94-2.06-.94 2.06-2.06.94z\"/><path d=\"M17.41 7.96l-1.37-1.37c-.4-.4-.92-.59-1.43-.59-.52 0-1.04.2-1.43.59L10.3 9.45l-7.72 7.72c-.78.78-.78 2.05 0 2.83L4 21.41c.39.39.9.59 1.41.59.51 0 1.02-.2 1.41-.59l7.78-7.78 2.81-2.81c.8-.78.8-2.07 0-2.86zM5.41 20L4 18.59l7.72-7.72 1.47 1.35L5.41 20z\"/>\n",
              "  </svg>\n",
              "      </button>\n",
              "      \n",
              "  <style>\n",
              "    .colab-df-container {\n",
              "      display:flex;\n",
              "      flex-wrap:wrap;\n",
              "      gap: 12px;\n",
              "    }\n",
              "\n",
              "    .colab-df-convert {\n",
              "      background-color: #E8F0FE;\n",
              "      border: none;\n",
              "      border-radius: 50%;\n",
              "      cursor: pointer;\n",
              "      display: none;\n",
              "      fill: #1967D2;\n",
              "      height: 32px;\n",
              "      padding: 0 0 0 0;\n",
              "      width: 32px;\n",
              "    }\n",
              "\n",
              "    .colab-df-convert:hover {\n",
              "      background-color: #E2EBFA;\n",
              "      box-shadow: 0px 1px 2px rgba(60, 64, 67, 0.3), 0px 1px 3px 1px rgba(60, 64, 67, 0.15);\n",
              "      fill: #174EA6;\n",
              "    }\n",
              "\n",
              "    [theme=dark] .colab-df-convert {\n",
              "      background-color: #3B4455;\n",
              "      fill: #D2E3FC;\n",
              "    }\n",
              "\n",
              "    [theme=dark] .colab-df-convert:hover {\n",
              "      background-color: #434B5C;\n",
              "      box-shadow: 0px 1px 3px 1px rgba(0, 0, 0, 0.15);\n",
              "      filter: drop-shadow(0px 1px 2px rgba(0, 0, 0, 0.3));\n",
              "      fill: #FFFFFF;\n",
              "    }\n",
              "  </style>\n",
              "\n",
              "      <script>\n",
              "        const buttonEl =\n",
              "          document.querySelector('#df-ddf72742-ea77-4f8e-9aee-dd529d3e3430 button.colab-df-convert');\n",
              "        buttonEl.style.display =\n",
              "          google.colab.kernel.accessAllowed ? 'block' : 'none';\n",
              "\n",
              "        async function convertToInteractive(key) {\n",
              "          const element = document.querySelector('#df-ddf72742-ea77-4f8e-9aee-dd529d3e3430');\n",
              "          const dataTable =\n",
              "            await google.colab.kernel.invokeFunction('convertToInteractive',\n",
              "                                                     [key], {});\n",
              "          if (!dataTable) return;\n",
              "\n",
              "          const docLinkHtml = 'Like what you see? Visit the ' +\n",
              "            '<a target=\"_blank\" href=https://colab.research.google.com/notebooks/data_table.ipynb>data table notebook</a>'\n",
              "            + ' to learn more about interactive tables.';\n",
              "          element.innerHTML = '';\n",
              "          dataTable['output_type'] = 'display_data';\n",
              "          await google.colab.output.renderOutput(dataTable, element);\n",
              "          const docLink = document.createElement('div');\n",
              "          docLink.innerHTML = docLinkHtml;\n",
              "          element.appendChild(docLink);\n",
              "        }\n",
              "      </script>\n",
              "    </div>\n",
              "  </div>\n",
              "  "
            ]
          },
          "metadata": {},
          "execution_count": 19
        }
      ]
    },
    {
      "cell_type": "markdown",
      "source": [
        "By modeling a donkeys weight, we need to determine a loss function for when the vet needs to figure our how much the donkey weighs in order to prescribe the right amount of medicine. In this case anesthetics. This prevents the vets from overdosing the donkeys which leads to a successful and individual prescriptions for each donkey.  "
      ],
      "metadata": {
        "id": "a4WqfFLZAjo_"
      }
    },
    {
      "cell_type": "markdown",
      "source": [
        "Relative error: *100(y - y_hat)/y_hat* \n",
        "* y = true-positive value\n",
        "* y_hat = prediction value"
      ],
      "metadata": {
        "id": "3LXX3witBWPG"
      }
    },
    {
      "cell_type": "code",
      "source": [
        "import matplotlib.pyplot as plt\n",
        "\n",
        "def loss_function(x):\n",
        "  y = (x >= 0) + 3 * (x < 0)\n",
        "  return np.square(x) * y\n",
        "\n",
        "x_ticks = np.linspace(-40, 40, 500)\n",
        "loss_anes = loss_function(x_ticks)\n",
        "\n",
        "fig = px.line(x=x_ticks, y=loss_anes, title='Quadratic Loss Function', width=550, height=350)\n",
        "fig.show()\n",
        "# y representing the loss\n",
        "# x representing the relative error percentage\n"
      ],
      "metadata": {
        "colab": {
          "base_uri": "https://localhost:8080/",
          "height": 367
        },
        "id": "tuwSCiMu-fOQ",
        "outputId": "3b69af43-5086-40b4-9927-7de1647fbde2"
      },
      "execution_count": 20,
      "outputs": [
        {
          "output_type": "display_data",
          "data": {
            "text/html": [
              "<html>\n",
              "<head><meta charset=\"utf-8\" /></head>\n",
              "<body>\n",
              "    <div>            <script src=\"https://cdnjs.cloudflare.com/ajax/libs/mathjax/2.7.5/MathJax.js?config=TeX-AMS-MML_SVG\"></script><script type=\"text/javascript\">if (window.MathJax) {MathJax.Hub.Config({SVG: {font: \"STIX-Web\"}});}</script>                <script type=\"text/javascript\">window.PlotlyConfig = {MathJaxConfig: 'local'};</script>\n",
              "        <script src=\"https://cdn.plot.ly/plotly-2.8.3.min.js\"></script>                <div id=\"f39a739b-a9c4-40ed-8e12-b38f98d4e448\" class=\"plotly-graph-div\" style=\"height:350px; width:550px;\"></div>            <script type=\"text/javascript\">                                    window.PLOTLYENV=window.PLOTLYENV || {};                                    if (document.getElementById(\"f39a739b-a9c4-40ed-8e12-b38f98d4e448\")) {                    Plotly.newPlot(                        \"f39a739b-a9c4-40ed-8e12-b38f98d4e448\",                        [{\"hovertemplate\":\"x=%{x}<br>y=%{y}<extra></extra>\",\"legendgroup\":\"\",\"line\":{\"color\":\"#636efa\",\"dash\":\"solid\"},\"marker\":{\"symbol\":\"circle\"},\"mode\":\"lines\",\"name\":\"\",\"orientation\":\"v\",\"showlegend\":false,\"x\":[-40.0,-39.83967935871743,-39.67935871743487,-39.519038076152306,-39.35871743486974,-39.19839679358717,-39.03807615230461,-38.877755511022045,-38.71743486973948,-38.55711422845691,-38.39679358717435,-38.236472945891784,-38.07615230460922,-37.91583166332666,-37.75551102204409,-37.59519038076152,-37.434869739478955,-37.274549098196395,-37.11422845691383,-36.95390781563126,-36.7935871743487,-36.633266533066134,-36.47294589178357,-36.312625250501,-36.15230460921844,-35.99198396793587,-35.831663326653306,-35.67134268537074,-35.51102204408818,-35.35070140280561,-35.190380761523045,-35.03006012024048,-34.86973947895792,-34.70941883767535,-34.549098196392784,-34.388777555110224,-34.22845691382766,-34.06813627254509,-33.90781563126252,-33.74749498997996,-33.587174348697395,-33.42685370741483,-33.26653306613227,-33.1062124248497,-32.945891783567134,-32.78557114228457,-32.62525050100201,-32.46492985971944,-32.30460921843687,-32.144288577154306,-31.983967935871746,-31.82364729458918,-31.663326653306612,-31.50300601202405,-31.342685370741485,-31.182364729458918,-31.02204408817635,-30.861723446893787,-30.701402805611224,-30.541082164328657,-30.380761523046093,-30.22044088176353,-30.060120240480963,-29.899799599198396,-29.739478957915832,-29.57915831663327,-29.4188376753507,-29.258517034068134,-29.09819639278557,-28.937875751503007,-28.77755511022044,-28.617234468937877,-28.456913827655313,-28.296593186372746,-28.13627254509018,-27.975951903807616,-27.815631262525052,-27.655310621242485,-27.494989979959918,-27.334669338677354,-27.17434869739479,-27.014028056112224,-26.85370741482966,-26.693386773547097,-26.53306613226453,-26.372745490981963,-26.2124248496994,-26.052104208416836,-25.89178356713427,-25.7314629258517,-25.571142284569138,-25.410821643286575,-25.250501002004007,-25.090180360721444,-24.92985971943888,-24.769539078156313,-24.609218436873746,-24.448897795591183,-24.28857715430862,-24.128256513026052,-23.96793587174349,-23.80761523046092,-23.647294589178358,-23.48697394789579,-23.326653306613228,-23.16633266533066,-23.006012024048097,-22.845691382765533,-22.685370741482966,-22.525050100200403,-22.364729458917836,-22.204408817635272,-22.044088176352705,-21.88376753507014,-21.723446893787575,-21.56312625250501,-21.402805611222444,-21.24248496993988,-21.082164328657317,-20.92184368737475,-20.761523046092186,-20.60120240480962,-20.440881763527056,-20.28056112224449,-20.120240480961925,-19.95991983967936,-19.799599198396795,-19.639278557114228,-19.478957915831664,-19.3186372745491,-19.158316633266534,-18.99799599198397,-18.837675350701403,-18.67735470941884,-18.517034068136272,-18.35671342685371,-18.196392785571142,-18.03607214428858,-17.87575150300601,-17.715430861723448,-17.555110220440884,-17.394789579158317,-17.234468937875754,-17.074148296593187,-16.913827655310623,-16.753507014028056,-16.593186372745492,-16.432865731462925,-16.272545090180362,-16.112224448897795,-15.951903807615231,-15.791583166332668,-15.6312625250501,-15.470941883767537,-15.31062124248497,-15.150300601202407,-14.98997995991984,-14.829659318637276,-14.669338677354709,-14.509018036072145,-14.348697394789582,-14.188376753507015,-14.028056112224451,-13.867735470941884,-13.70741482965932,-13.547094188376754,-13.38677354709419,-13.226452905811623,-13.06613226452906,-12.905811623246493,-12.745490981963929,-12.585170340681366,-12.424849699398798,-12.264529058116235,-12.104208416833668,-11.943887775551104,-11.783567134268537,-11.623246492985974,-11.462925851703407,-11.302605210420843,-11.142284569138276,-10.981963927855713,-10.82164328657315,-10.661322645290582,-10.501002004008019,-10.340681362725451,-10.180360721442888,-10.02004008016032,-9.859719438877757,-9.69939879759519,-9.539078156312627,-9.37875751503006,-9.218436873747496,-9.058116232464933,-8.897795591182366,-8.737474949899802,-8.577154308617235,-8.416833667334672,-8.256513026052104,-8.096192384769541,-7.935871743486977,-7.77555110220441,-7.615230460921843,-7.454909819639283,-7.294589178356716,-7.134268537074149,-6.973947895791582,-6.813627254509022,-6.653306613226455,-6.492985971943888,-6.332665330661321,-6.172344689378761,-6.012024048096194,-5.851703406813627,-5.691382765531067,-5.5310621242485,-5.370741482965933,-5.210420841683366,-5.050100200400806,-4.889779559118239,-4.729458917835672,-4.569138276553105,-4.408817635270545,-4.2484969939879775,-4.0881763527054105,-3.9278557114228505,-3.7675350701402834,-3.6072144288577164,-3.4468937875751493,-3.2865731462925893,-3.1262525050100223,-2.965931863727455,-2.805611222444888,-2.645290581162328,-2.484969939879761,-2.324649298597194,-2.164328657314634,-2.004008016032067,-1.8436873747495,-1.6833667334669329,-1.523046092184373,-1.3627254509018059,-1.2024048096192388,-1.0420841683366717,-0.8817635270541118,-0.7214428857715447,-0.5611222444889776,-0.40080160320641767,-0.2404809619238506,-0.08016032064128353,0.08016032064128353,0.2404809619238435,0.40080160320641056,0.5611222444889776,0.7214428857715447,0.8817635270541047,1.0420841683366717,1.2024048096192388,1.3627254509017988,1.5230460921843658,1.6833667334669329,1.8436873747495,2.00400801603206,2.164328657314627,2.324649298597194,2.484969939879761,2.645290581162321,2.805611222444888,2.965931863727455,3.126252505010015,3.2865731462925822,3.4468937875751493,3.6072144288577164,3.7675350701402763,3.9278557114228434,4.0881763527054105,4.2484969939879775,4.4088176352705375,4.569138276553105,4.729458917835672,4.889779559118232,5.050100200400799,5.210420841683366,5.370741482965933,5.531062124248493,5.69138276553106,5.851703406813627,6.012024048096194,6.172344689378754,6.332665330661321,6.492985971943888,6.653306613226448,6.813627254509015,6.973947895791582,7.134268537074149,7.294589178356709,7.454909819639276,7.615230460921843,7.77555110220441,7.93587174348697,8.096192384769537,8.256513026052104,8.416833667334664,8.577154308617231,8.737474949899799,8.897795591182366,9.058116232464926,9.218436873747493,9.37875751503006,9.539078156312627,9.699398797595187,9.859719438877754,10.02004008016032,10.18036072144288,10.340681362725448,10.501002004008015,10.661322645290582,10.821643286573142,10.981963927855709,11.142284569138276,11.302605210420836,11.462925851703403,11.62324649298597,11.783567134268537,11.943887775551097,12.104208416833664,12.264529058116231,12.424849699398798,12.585170340681358,12.745490981963925,12.905811623246493,13.066132264529053,13.22645290581162,13.386773547094187,13.547094188376754,13.707414829659314,13.86773547094188,14.028056112224448,14.188376753507015,14.348697394789575,14.509018036072142,14.669338677354709,14.829659318637269,14.989979959919836,15.150300601202403,15.31062124248497,15.47094188376753,15.631262525050097,15.791583166332664,15.951903807615231,16.11222444889779,16.27254509018036,16.432865731462925,16.593186372745485,16.753507014028052,16.91382765531062,17.074148296593187,17.234468937875747,17.394789579158314,17.55511022044088,17.715430861723448,17.875751503006008,18.036072144288575,18.196392785571142,18.3567134268537,18.51703406813627,18.677354709418836,18.837675350701403,18.997995991983963,19.15831663326653,19.318637274549097,19.478957915831664,19.639278557114224,19.79959919839679,19.95991983967936,20.120240480961918,20.280561122244485,20.440881763527052,20.60120240480962,20.76152304609218,20.921843687374746,21.082164328657313,21.24248496993988,21.40280561122244,21.563126252505008,21.723446893787575,21.883767535070135,22.0440881763527,22.20440881763527,22.364729458917836,22.525050100200396,22.685370741482963,22.84569138276553,23.006012024048097,23.166332665330657,23.326653306613224,23.48697394789579,23.64729458917835,23.807615230460918,23.967935871743485,24.128256513026045,24.288577154308612,24.44889779559118,24.609218436873746,24.769539078156313,24.92985971943888,25.090180360721433,25.250501002004,25.410821643286567,25.571142284569135,25.7314629258517,25.89178356713427,26.052104208416836,26.212424849699403,26.372745490981956,26.533066132264523,26.69338677354709,26.853707414829657,27.014028056112224,27.17434869739479,27.334669338677358,27.49498997995991,27.655310621242478,27.815631262525045,27.975951903807612,28.13627254509018,28.296593186372746,28.456913827655313,28.617234468937866,28.777555110220433,28.937875751503,29.098196392785567,29.258517034068134,29.4188376753507,29.57915831663327,29.739478957915836,29.89979959919839,30.060120240480956,30.220440881763523,30.38076152304609,30.541082164328657,30.701402805611224,30.86172344689379,31.022044088176344,31.18236472945891,31.342685370741478,31.503006012024045,31.663326653306612,31.82364729458918,31.983967935871746,32.1442885771543,32.304609218436866,32.46492985971943,32.625250501002,32.78557114228457,32.945891783567134,33.1062124248497,33.26653306613227,33.42685370741482,33.58717434869739,33.747494989979955,33.90781563126252,34.06813627254509,34.22845691382766,34.388777555110224,34.54909819639278,34.709418837675344,34.86973947895791,35.03006012024048,35.190380761523045,35.35070140280561,35.51102204408818,35.67134268537073,35.8316633266533,35.991983967935866,36.15230460921843,36.312625250501,36.47294589178357,36.633266533066134,36.7935871743487,36.953907815631254,37.11422845691382,37.27454909819639,37.434869739478955,37.59519038076152,37.75551102204409,37.91583166332666,38.07615230460921,38.23647294589178,38.39679358717434,38.55711422845691,38.71743486973948,38.877755511022045,39.03807615230461,39.198396793587165,39.35871743486973,39.5190380761523,39.679358717434866,39.83967935871743,40.0],\"xaxis\":\"x\",\"y\":[4800.0,4761.600154216248,4723.354524680624,4685.2631113931275,4647.325914353757,4609.542933562515,4571.914169019403,4534.439620724415,4497.119288677555,4459.953172878823,4422.94127332822,4386.0835900257425,4349.380122971394,4312.830872165173,4276.435837607078,4240.195019297111,4204.108417235271,4168.176031421562,4132.397861855976,4096.77390853852,4061.3041714691917,4025.9886506479897,3990.827346074915,3955.8202577499683,3920.9673856731506,3886.268729844459,3851.7242902638945,3817.3340669314575,3783.0980598471497,3749.0162690109682,3715.088694422914,3681.3153360829865,3647.6961939911894,3614.2312681475178,3580.920558551973,3547.764065204558,3514.7617881052693,3481.9137272541075,3449.219882651073,3416.6802542961677,3384.294842189389,3352.0636463307374,3319.9866667202145,3288.063903357818,3256.2953562435487,3224.6810253774074,3193.2209107593953,3161.915012389509,3130.7633302677496,3099.765864394118,3068.922614768616,3038.2335813912396,3007.6987642619906,2977.31816338087,2947.0917787478766,2917.0196103630105,2887.101658226272,2857.337922337661,2827.7284026971784,2798.2730993048217,2768.9720121605937,2739.825141264493,2710.8324866165194,2681.994048216674,2653.309826064956,2624.779820161365,2596.4040305059016,2568.1824570985655,2540.1150999393576,2512.201959028277,2484.443034365324,2456.8383259504985,2429.3878337838005,2402.0915578652293,2374.9494981947864,2347.961654772471,2321.128027598283,2294.448616672222,2267.923421994289,2241.552443564484,2215.335681382806,2189.2731354492553,2163.3648057638325,2137.6106923265374,2112.010795137369,2086.5651141963285,2061.2736495034155,2036.1364010586308,2011.1533688619725,1986.3245529134417,1961.6499532130392,1937.1295697607643,1912.7634025566163,1888.551451600596,1864.4937168927036,1840.5901984329382,1816.8408962213,1793.2458102577903,1769.8049405424076,1746.5182870751523,1723.385849856025,1700.4076288850245,1677.5836241621523,1654.9138356874068,1632.3982634607894,1610.0369074822993,1587.829767751937,1565.776844269702,1543.8781370355944,1522.1336460496145,1500.5433713117618,1479.107312822037,1457.8254705804395,1436.6978445869697,1415.724434841627,1394.9052413444124,1374.2402640953248,1353.729503094365,1333.372958341533,1313.170629836828,1293.1225175802508,1273.2286215718009,1253.488941811479,1233.903478299284,1214.4722310352167,1195.195200019277,1176.072385251465,1157.10378673178,1138.289404460223,1119.6292384367937,1101.1232886614914,1082.771555134317,1064.5740378552696,1046.5307368243502,1028.6416520415582,1010.9067835068937,993.3261312203565,975.8996951819472,958.627475391665,941.5094718495106,924.5456845554838,907.7361135095844,891.0807587118127,874.579620162168,858.2326978606513,842.0399918072618,826.0015020020003,810.1172284448655,794.3871711358589,778.8113300749795,763.389705262228,748.1222966976038,733.0091043811069,718.0501283127379,703.245368492496,688.594824920382,674.0984975963952,659.7563865205361,645.5684916928044,631.5348131132005,617.655350781724,603.9301046983747,590.3590748631534,576.9422612760592,563.6796639370928,550.5712828462536,537.6171180035424,524.8171694089582,512.1714370625018,499.6799209641728,487.3426211139715,475.1595375118977,463.1306701579513,451.2560190521325,439.535584194441,427.9693655848773,416.5573632234409,405.2995771101322,394.1960072449508,383.2466536278972,372.4515162589708,361.81059513817223,351.3238902655011,340.9914016409573,330.81312926454126,320.7890731362525,310.9192332560915,301.2036096240578,291.64220224015173,282.23501110437303,272.9820362167221,263.88327757719844,254.93873518580253,246.14840904253413,237.51229914739304,229.03040550037963,220.70272810149362,212.52926695073523,204.51002204810425,196.64499339360088,188.93418098722512,181.37758482897667,173.97520491885572,166.72704125686263,159.63309384299674,152.69336267725836,145.9078477596475,139.27654909016445,132.79946666880863,126.47660049558036,120.30795057047956,114.29351689350659,108.43329946466085,102.72729828394262,97.17551335135217,91.77794466688898,86.53459223055332,81.44545604234517,76.51053610226478,71.72983241031167,67.10334496648609,62.63107377078802,58.31301882321767,54.14918012377465,50.139557672459134,46.28415146927132,42.58296151421085,39.035987807277905,35.64323034847247,32.404689137794705,29.32036417524432,26.390255460821447,23.614362994526097,20.992686776358383,18.52522680631807,16.211983084405276,14.0529556106201,12.048144384962344,10.19754940743211,8.501170678029396,6.959008196754269,5.57106196360659,4.337331978586434,3.2578182416937986,2.3325207529287217,1.5614395122911222,0.944574519781044,0.481925775398504,0.17349327914346147,0.019277031015940162,0.006425677005313387,0.05783109304781706,0.160641925132829,0.314858173260348,0.5204798374303741,0.7775069176428947,1.0859394138979328,1.4457773261954778,1.8570206545355108,2.3196693989180677,2.833723559343132,3.399183135810703,4.016048128320753,4.684318536873336,5.403994361468426,6.175075602106023,6.997562258786091,7.8714543315086996,8.796751820273816,9.773454725081395,10.801563045931523,11.881076782824158,13.011995935759302,14.194320504736897,15.428050489757052,16.713185890819712,18.049726707924883,19.437672941072496,20.877024590262675,22.367781655495364,23.909944136770488,25.503512034088185,27.148485347448393,28.844864076851106,30.592648222296248,32.39183778378398,34.242432761314205,36.14443315488695,38.09783896450211,40.102650190159856,42.15886683186012,44.26648888960279,46.425516363388056,48.635949253215834,50.89778755908612,53.21103128099881,55.57568041895411,57.99173497295191,60.45919494299222,62.97806032907493,65.54833113120024,68.17000734936808,70.8430889835783,73.56757603383114,76.34346850012649,79.17076638246435,82.04946968084458,84.97957839526745,87.96109252573282,90.99401207224071,94.07833703479095,97.21406741338384,100.40120320801925,103.639744418697,106.92969104541743,110.27104308818035,113.66380054698577,117.10796342183356,120.60353171272399,124.15050541965694,127.74888454263223,131.39866908165018,135.09985903671065,138.85245440781364,142.65645519495894,146.51186139814692,150.41867301737742,154.37689005265042,158.38651250396575,162.44754037132375,166.55997365472427,170.7238123541671,174.93905646965263,179.20570600118066,183.5237609487512,187.89322131236406,192.31408709201963,196.7863582877177,201.31003489945826,205.88511692724114,210.5116043710667,215.1894972309348,219.91879550684519,224.6994991987983,229.53160830679388,234.41512283083202,239.3500427709124,244.33636812703554,249.3740988992012,254.46323508740932,259.60377669165973,264.79572371195286,270.03907614828853,275.33383400066646,280.67999726908715,286.07756595355033,291.526540054056,297.026919570604,302.5787045031947,308.18189485182785,313.83649061650357,319.54249179722154,325.2998983939823,331.1087104067855,336.96892783563095,342.8805506805192,348.84357894144995,354.85801261842323,360.9238517114387,367.04109622049697,373.20974614559776,379.42980148674104,385.7012622439266,392.0241284171548,398.3984000064257,404.82407701173867,411.3011594330945,417.82964727049284,424.40954052393363,431.0408391934167,437.72354327894254,444.4576527805109,451.24316769812174,458.0800880317748,464.96841378147064,471.90814494720905,478.8992815289896,485.941823526813,493.0357709406789,500.18112377058725,507.37788201653785,514.6260456785312,521.9256147565671,529.2765892506457,536.6789691607662,544.1327544869297,551.6379452291357,559.1945413873838,566.8025429616747,574.4619499520081,582.1727623583838,589.9349801808022,597.7486034192632,605.6136320737667,613.5300661443127,621.4979056309012,629.5171505335315,637.5878008522051,645.7098565869211,653.8833177376796,662.1081843044806,670.3844562873242,678.7121336862102,687.0912165011388,695.5217047321091,704.0035983791226,712.5368974421787,721.1216019212773,729.7577118164184,738.4452271276019,747.1841478548281,755.9744739980958,764.816205557407,773.7093425327606,782.6538849241567,791.6498327315954,800.6971859550765,809.7959445946002,818.9461086501656,828.1476781217742,837.4006530094254,846.705033313119,856.0608190328552,865.4680101686339,874.9266067204551,884.4366086883188,893.9980160722241,903.6108288721729,913.275047088164,922.9906707201977,932.7576997682739,942.5761342323927,952.4459741125539,962.3672194087568,972.3398701210031,982.3639262492918,992.4393877936232,1002.5662547539969,1012.7445271304132,1022.974204922872,1033.2552881313723,1043.5877767559161,1053.9716707965024,1064.4069702531312,1074.8936751258025,1085.4317854145163,1096.0213011192727,1106.6622222400715,1117.354548776912,1128.0982807297958,1138.8934180987221,1149.739960883691,1160.6379090847024,1171.5872627017563,1182.5880217348526,1193.6401861839906,1204.743756049172,1215.898731330396,1227.1051120276622,1238.3628981409713,1249.6720896703227,1261.0326866157166,1272.444688977152,1283.908096754631,1295.4229099481524,1306.9891285577164,1318.6067525833228,1330.2757820249717,1341.9962168826632,1353.7680571563972,1365.5913028461728,1377.4659539519917,1389.3920104738531,1401.3694724117572,1413.3983397657037,1425.4786125356927,1437.6102907217244,1449.7933743237973,1462.0278633419136,1474.3137577760729,1486.6510576262745,1499.0397628925184,1511.479873574805,1523.9713896731341,1536.5143111875045,1549.1086381179186,1561.7543704643751,1574.4515082268742,1587.200051405416,1600.0],\"yaxis\":\"y\",\"type\":\"scatter\"}],                        {\"template\":{\"data\":{\"bar\":[{\"error_x\":{\"color\":\"#2a3f5f\"},\"error_y\":{\"color\":\"#2a3f5f\"},\"marker\":{\"line\":{\"color\":\"#E5ECF6\",\"width\":0.5},\"pattern\":{\"fillmode\":\"overlay\",\"size\":10,\"solidity\":0.2}},\"type\":\"bar\"}],\"barpolar\":[{\"marker\":{\"line\":{\"color\":\"#E5ECF6\",\"width\":0.5},\"pattern\":{\"fillmode\":\"overlay\",\"size\":10,\"solidity\":0.2}},\"type\":\"barpolar\"}],\"carpet\":[{\"aaxis\":{\"endlinecolor\":\"#2a3f5f\",\"gridcolor\":\"white\",\"linecolor\":\"white\",\"minorgridcolor\":\"white\",\"startlinecolor\":\"#2a3f5f\"},\"baxis\":{\"endlinecolor\":\"#2a3f5f\",\"gridcolor\":\"white\",\"linecolor\":\"white\",\"minorgridcolor\":\"white\",\"startlinecolor\":\"#2a3f5f\"},\"type\":\"carpet\"}],\"choropleth\":[{\"colorbar\":{\"outlinewidth\":0,\"ticks\":\"\"},\"type\":\"choropleth\"}],\"contour\":[{\"colorbar\":{\"outlinewidth\":0,\"ticks\":\"\"},\"colorscale\":[[0.0,\"#0d0887\"],[0.1111111111111111,\"#46039f\"],[0.2222222222222222,\"#7201a8\"],[0.3333333333333333,\"#9c179e\"],[0.4444444444444444,\"#bd3786\"],[0.5555555555555556,\"#d8576b\"],[0.6666666666666666,\"#ed7953\"],[0.7777777777777778,\"#fb9f3a\"],[0.8888888888888888,\"#fdca26\"],[1.0,\"#f0f921\"]],\"type\":\"contour\"}],\"contourcarpet\":[{\"colorbar\":{\"outlinewidth\":0,\"ticks\":\"\"},\"type\":\"contourcarpet\"}],\"heatmap\":[{\"colorbar\":{\"outlinewidth\":0,\"ticks\":\"\"},\"colorscale\":[[0.0,\"#0d0887\"],[0.1111111111111111,\"#46039f\"],[0.2222222222222222,\"#7201a8\"],[0.3333333333333333,\"#9c179e\"],[0.4444444444444444,\"#bd3786\"],[0.5555555555555556,\"#d8576b\"],[0.6666666666666666,\"#ed7953\"],[0.7777777777777778,\"#fb9f3a\"],[0.8888888888888888,\"#fdca26\"],[1.0,\"#f0f921\"]],\"type\":\"heatmap\"}],\"heatmapgl\":[{\"colorbar\":{\"outlinewidth\":0,\"ticks\":\"\"},\"colorscale\":[[0.0,\"#0d0887\"],[0.1111111111111111,\"#46039f\"],[0.2222222222222222,\"#7201a8\"],[0.3333333333333333,\"#9c179e\"],[0.4444444444444444,\"#bd3786\"],[0.5555555555555556,\"#d8576b\"],[0.6666666666666666,\"#ed7953\"],[0.7777777777777778,\"#fb9f3a\"],[0.8888888888888888,\"#fdca26\"],[1.0,\"#f0f921\"]],\"type\":\"heatmapgl\"}],\"histogram\":[{\"marker\":{\"pattern\":{\"fillmode\":\"overlay\",\"size\":10,\"solidity\":0.2}},\"type\":\"histogram\"}],\"histogram2d\":[{\"colorbar\":{\"outlinewidth\":0,\"ticks\":\"\"},\"colorscale\":[[0.0,\"#0d0887\"],[0.1111111111111111,\"#46039f\"],[0.2222222222222222,\"#7201a8\"],[0.3333333333333333,\"#9c179e\"],[0.4444444444444444,\"#bd3786\"],[0.5555555555555556,\"#d8576b\"],[0.6666666666666666,\"#ed7953\"],[0.7777777777777778,\"#fb9f3a\"],[0.8888888888888888,\"#fdca26\"],[1.0,\"#f0f921\"]],\"type\":\"histogram2d\"}],\"histogram2dcontour\":[{\"colorbar\":{\"outlinewidth\":0,\"ticks\":\"\"},\"colorscale\":[[0.0,\"#0d0887\"],[0.1111111111111111,\"#46039f\"],[0.2222222222222222,\"#7201a8\"],[0.3333333333333333,\"#9c179e\"],[0.4444444444444444,\"#bd3786\"],[0.5555555555555556,\"#d8576b\"],[0.6666666666666666,\"#ed7953\"],[0.7777777777777778,\"#fb9f3a\"],[0.8888888888888888,\"#fdca26\"],[1.0,\"#f0f921\"]],\"type\":\"histogram2dcontour\"}],\"mesh3d\":[{\"colorbar\":{\"outlinewidth\":0,\"ticks\":\"\"},\"type\":\"mesh3d\"}],\"parcoords\":[{\"line\":{\"colorbar\":{\"outlinewidth\":0,\"ticks\":\"\"}},\"type\":\"parcoords\"}],\"pie\":[{\"automargin\":true,\"type\":\"pie\"}],\"scatter\":[{\"marker\":{\"colorbar\":{\"outlinewidth\":0,\"ticks\":\"\"}},\"type\":\"scatter\"}],\"scatter3d\":[{\"line\":{\"colorbar\":{\"outlinewidth\":0,\"ticks\":\"\"}},\"marker\":{\"colorbar\":{\"outlinewidth\":0,\"ticks\":\"\"}},\"type\":\"scatter3d\"}],\"scattercarpet\":[{\"marker\":{\"colorbar\":{\"outlinewidth\":0,\"ticks\":\"\"}},\"type\":\"scattercarpet\"}],\"scattergeo\":[{\"marker\":{\"colorbar\":{\"outlinewidth\":0,\"ticks\":\"\"}},\"type\":\"scattergeo\"}],\"scattergl\":[{\"marker\":{\"colorbar\":{\"outlinewidth\":0,\"ticks\":\"\"}},\"type\":\"scattergl\"}],\"scattermapbox\":[{\"marker\":{\"colorbar\":{\"outlinewidth\":0,\"ticks\":\"\"}},\"type\":\"scattermapbox\"}],\"scatterpolar\":[{\"marker\":{\"colorbar\":{\"outlinewidth\":0,\"ticks\":\"\"}},\"type\":\"scatterpolar\"}],\"scatterpolargl\":[{\"marker\":{\"colorbar\":{\"outlinewidth\":0,\"ticks\":\"\"}},\"type\":\"scatterpolargl\"}],\"scatterternary\":[{\"marker\":{\"colorbar\":{\"outlinewidth\":0,\"ticks\":\"\"}},\"type\":\"scatterternary\"}],\"surface\":[{\"colorbar\":{\"outlinewidth\":0,\"ticks\":\"\"},\"colorscale\":[[0.0,\"#0d0887\"],[0.1111111111111111,\"#46039f\"],[0.2222222222222222,\"#7201a8\"],[0.3333333333333333,\"#9c179e\"],[0.4444444444444444,\"#bd3786\"],[0.5555555555555556,\"#d8576b\"],[0.6666666666666666,\"#ed7953\"],[0.7777777777777778,\"#fb9f3a\"],[0.8888888888888888,\"#fdca26\"],[1.0,\"#f0f921\"]],\"type\":\"surface\"}],\"table\":[{\"cells\":{\"fill\":{\"color\":\"#EBF0F8\"},\"line\":{\"color\":\"white\"}},\"header\":{\"fill\":{\"color\":\"#C8D4E3\"},\"line\":{\"color\":\"white\"}},\"type\":\"table\"}]},\"layout\":{\"annotationdefaults\":{\"arrowcolor\":\"#2a3f5f\",\"arrowhead\":0,\"arrowwidth\":1},\"autotypenumbers\":\"strict\",\"coloraxis\":{\"colorbar\":{\"outlinewidth\":0,\"ticks\":\"\"}},\"colorscale\":{\"diverging\":[[0,\"#8e0152\"],[0.1,\"#c51b7d\"],[0.2,\"#de77ae\"],[0.3,\"#f1b6da\"],[0.4,\"#fde0ef\"],[0.5,\"#f7f7f7\"],[0.6,\"#e6f5d0\"],[0.7,\"#b8e186\"],[0.8,\"#7fbc41\"],[0.9,\"#4d9221\"],[1,\"#276419\"]],\"sequential\":[[0.0,\"#0d0887\"],[0.1111111111111111,\"#46039f\"],[0.2222222222222222,\"#7201a8\"],[0.3333333333333333,\"#9c179e\"],[0.4444444444444444,\"#bd3786\"],[0.5555555555555556,\"#d8576b\"],[0.6666666666666666,\"#ed7953\"],[0.7777777777777778,\"#fb9f3a\"],[0.8888888888888888,\"#fdca26\"],[1.0,\"#f0f921\"]],\"sequentialminus\":[[0.0,\"#0d0887\"],[0.1111111111111111,\"#46039f\"],[0.2222222222222222,\"#7201a8\"],[0.3333333333333333,\"#9c179e\"],[0.4444444444444444,\"#bd3786\"],[0.5555555555555556,\"#d8576b\"],[0.6666666666666666,\"#ed7953\"],[0.7777777777777778,\"#fb9f3a\"],[0.8888888888888888,\"#fdca26\"],[1.0,\"#f0f921\"]]},\"colorway\":[\"#636efa\",\"#EF553B\",\"#00cc96\",\"#ab63fa\",\"#FFA15A\",\"#19d3f3\",\"#FF6692\",\"#B6E880\",\"#FF97FF\",\"#FECB52\"],\"font\":{\"color\":\"#2a3f5f\"},\"geo\":{\"bgcolor\":\"white\",\"lakecolor\":\"white\",\"landcolor\":\"#E5ECF6\",\"showlakes\":true,\"showland\":true,\"subunitcolor\":\"white\"},\"hoverlabel\":{\"align\":\"left\"},\"hovermode\":\"closest\",\"mapbox\":{\"style\":\"light\"},\"paper_bgcolor\":\"white\",\"plot_bgcolor\":\"#E5ECF6\",\"polar\":{\"angularaxis\":{\"gridcolor\":\"white\",\"linecolor\":\"white\",\"ticks\":\"\"},\"bgcolor\":\"#E5ECF6\",\"radialaxis\":{\"gridcolor\":\"white\",\"linecolor\":\"white\",\"ticks\":\"\"}},\"scene\":{\"xaxis\":{\"backgroundcolor\":\"#E5ECF6\",\"gridcolor\":\"white\",\"gridwidth\":2,\"linecolor\":\"white\",\"showbackground\":true,\"ticks\":\"\",\"zerolinecolor\":\"white\"},\"yaxis\":{\"backgroundcolor\":\"#E5ECF6\",\"gridcolor\":\"white\",\"gridwidth\":2,\"linecolor\":\"white\",\"showbackground\":true,\"ticks\":\"\",\"zerolinecolor\":\"white\"},\"zaxis\":{\"backgroundcolor\":\"#E5ECF6\",\"gridcolor\":\"white\",\"gridwidth\":2,\"linecolor\":\"white\",\"showbackground\":true,\"ticks\":\"\",\"zerolinecolor\":\"white\"}},\"shapedefaults\":{\"line\":{\"color\":\"#2a3f5f\"}},\"ternary\":{\"aaxis\":{\"gridcolor\":\"white\",\"linecolor\":\"white\",\"ticks\":\"\"},\"baxis\":{\"gridcolor\":\"white\",\"linecolor\":\"white\",\"ticks\":\"\"},\"bgcolor\":\"#E5ECF6\",\"caxis\":{\"gridcolor\":\"white\",\"linecolor\":\"white\",\"ticks\":\"\"}},\"title\":{\"x\":0.05},\"xaxis\":{\"automargin\":true,\"gridcolor\":\"white\",\"linecolor\":\"white\",\"ticks\":\"\",\"title\":{\"standoff\":15},\"zerolinecolor\":\"white\",\"zerolinewidth\":2},\"yaxis\":{\"automargin\":true,\"gridcolor\":\"white\",\"linecolor\":\"white\",\"ticks\":\"\",\"title\":{\"standoff\":15},\"zerolinecolor\":\"white\",\"zerolinewidth\":2}}},\"xaxis\":{\"anchor\":\"y\",\"domain\":[0.0,1.0],\"title\":{\"text\":\"x\"}},\"yaxis\":{\"anchor\":\"x\",\"domain\":[0.0,1.0],\"title\":{\"text\":\"y\"}},\"legend\":{\"tracegroupgap\":0},\"title\":{\"text\":\"Quadratic Loss Function\"},\"height\":350,\"width\":550},                        {\"responsive\": true}                    ).then(function(){\n",
              "                            \n",
              "var gd = document.getElementById('f39a739b-a9c4-40ed-8e12-b38f98d4e448');\n",
              "var x = new MutationObserver(function (mutations, observer) {{\n",
              "        var display = window.getComputedStyle(gd).display;\n",
              "        if (!display || display === 'none') {{\n",
              "            console.log([gd, 'removed!']);\n",
              "            Plotly.purge(gd);\n",
              "            observer.disconnect();\n",
              "        }}\n",
              "}});\n",
              "\n",
              "// Listen for the removal of the full notebook cells\n",
              "var notebookContainer = gd.closest('#notebook-container');\n",
              "if (notebookContainer) {{\n",
              "    x.observe(notebookContainer, {childList: true});\n",
              "}}\n",
              "\n",
              "// Listen for the clearing of the current output cell\n",
              "var outputEl = gd.closest('.output');\n",
              "if (outputEl) {{\n",
              "    x.observe(outputEl, {childList: true});\n",
              "}}\n",
              "\n",
              "                        })                };                            </script>        </div>\n",
              "</body>\n",
              "</html>"
            ]
          },
          "metadata": {}
        }
      ]
    },
    {
      "cell_type": "markdown",
      "source": [
        "A linear model can be established as well to determine girth which had the most correlation with weight column. \n",
        "$$\n",
        "f_{\\theta}(x) = \\theta_0 + \\theta_1 \\cdot \\text{Girth}\n",
        "$$\n"
      ],
      "metadata": {
        "id": "cKI4tuOBP3UY"
      }
    },
    {
      "cell_type": "code",
      "source": [
        "# establishing a matrix for girth\n",
        "x = x_train.assign(intr=1)[['intr', 'Girth']]\n",
        "x"
      ],
      "metadata": {
        "colab": {
          "base_uri": "https://localhost:8080/",
          "height": 424
        },
        "id": "5s6yeEB6PlO9",
        "outputId": "3c92d987-da93-4f9a-ff7a-1e0ef0526a63"
      },
      "execution_count": 21,
      "outputs": [
        {
          "output_type": "execute_result",
          "data": {
            "text/plain": [
              "     intr  Girth\n",
              "122     1    116\n",
              "282     1    125\n",
              "361     1    111\n",
              "116     1    112\n",
              "415     1    121\n",
              "..    ...    ...\n",
              "143     1    116\n",
              "495     1    123\n",
              "119     1    129\n",
              "14      1    110\n",
              "166     1    119\n",
              "\n",
              "[379 rows x 2 columns]"
            ],
            "text/html": [
              "\n",
              "  <div id=\"df-16764604-e5c2-44d1-ae71-1bba52f16d28\">\n",
              "    <div class=\"colab-df-container\">\n",
              "      <div>\n",
              "<style scoped>\n",
              "    .dataframe tbody tr th:only-of-type {\n",
              "        vertical-align: middle;\n",
              "    }\n",
              "\n",
              "    .dataframe tbody tr th {\n",
              "        vertical-align: top;\n",
              "    }\n",
              "\n",
              "    .dataframe thead th {\n",
              "        text-align: right;\n",
              "    }\n",
              "</style>\n",
              "<table border=\"1\" class=\"dataframe\">\n",
              "  <thead>\n",
              "    <tr style=\"text-align: right;\">\n",
              "      <th></th>\n",
              "      <th>intr</th>\n",
              "      <th>Girth</th>\n",
              "    </tr>\n",
              "  </thead>\n",
              "  <tbody>\n",
              "    <tr>\n",
              "      <th>122</th>\n",
              "      <td>1</td>\n",
              "      <td>116</td>\n",
              "    </tr>\n",
              "    <tr>\n",
              "      <th>282</th>\n",
              "      <td>1</td>\n",
              "      <td>125</td>\n",
              "    </tr>\n",
              "    <tr>\n",
              "      <th>361</th>\n",
              "      <td>1</td>\n",
              "      <td>111</td>\n",
              "    </tr>\n",
              "    <tr>\n",
              "      <th>116</th>\n",
              "      <td>1</td>\n",
              "      <td>112</td>\n",
              "    </tr>\n",
              "    <tr>\n",
              "      <th>415</th>\n",
              "      <td>1</td>\n",
              "      <td>121</td>\n",
              "    </tr>\n",
              "    <tr>\n",
              "      <th>...</th>\n",
              "      <td>...</td>\n",
              "      <td>...</td>\n",
              "    </tr>\n",
              "    <tr>\n",
              "      <th>143</th>\n",
              "      <td>1</td>\n",
              "      <td>116</td>\n",
              "    </tr>\n",
              "    <tr>\n",
              "      <th>495</th>\n",
              "      <td>1</td>\n",
              "      <td>123</td>\n",
              "    </tr>\n",
              "    <tr>\n",
              "      <th>119</th>\n",
              "      <td>1</td>\n",
              "      <td>129</td>\n",
              "    </tr>\n",
              "    <tr>\n",
              "      <th>14</th>\n",
              "      <td>1</td>\n",
              "      <td>110</td>\n",
              "    </tr>\n",
              "    <tr>\n",
              "      <th>166</th>\n",
              "      <td>1</td>\n",
              "      <td>119</td>\n",
              "    </tr>\n",
              "  </tbody>\n",
              "</table>\n",
              "<p>379 rows × 2 columns</p>\n",
              "</div>\n",
              "      <button class=\"colab-df-convert\" onclick=\"convertToInteractive('df-16764604-e5c2-44d1-ae71-1bba52f16d28')\"\n",
              "              title=\"Convert this dataframe to an interactive table.\"\n",
              "              style=\"display:none;\">\n",
              "        \n",
              "  <svg xmlns=\"http://www.w3.org/2000/svg\" height=\"24px\"viewBox=\"0 0 24 24\"\n",
              "       width=\"24px\">\n",
              "    <path d=\"M0 0h24v24H0V0z\" fill=\"none\"/>\n",
              "    <path d=\"M18.56 5.44l.94 2.06.94-2.06 2.06-.94-2.06-.94-.94-2.06-.94 2.06-2.06.94zm-11 1L8.5 8.5l.94-2.06 2.06-.94-2.06-.94L8.5 2.5l-.94 2.06-2.06.94zm10 10l.94 2.06.94-2.06 2.06-.94-2.06-.94-.94-2.06-.94 2.06-2.06.94z\"/><path d=\"M17.41 7.96l-1.37-1.37c-.4-.4-.92-.59-1.43-.59-.52 0-1.04.2-1.43.59L10.3 9.45l-7.72 7.72c-.78.78-.78 2.05 0 2.83L4 21.41c.39.39.9.59 1.41.59.51 0 1.02-.2 1.41-.59l7.78-7.78 2.81-2.81c.8-.78.8-2.07 0-2.86zM5.41 20L4 18.59l7.72-7.72 1.47 1.35L5.41 20z\"/>\n",
              "  </svg>\n",
              "      </button>\n",
              "      \n",
              "  <style>\n",
              "    .colab-df-container {\n",
              "      display:flex;\n",
              "      flex-wrap:wrap;\n",
              "      gap: 12px;\n",
              "    }\n",
              "\n",
              "    .colab-df-convert {\n",
              "      background-color: #E8F0FE;\n",
              "      border: none;\n",
              "      border-radius: 50%;\n",
              "      cursor: pointer;\n",
              "      display: none;\n",
              "      fill: #1967D2;\n",
              "      height: 32px;\n",
              "      padding: 0 0 0 0;\n",
              "      width: 32px;\n",
              "    }\n",
              "\n",
              "    .colab-df-convert:hover {\n",
              "      background-color: #E2EBFA;\n",
              "      box-shadow: 0px 1px 2px rgba(60, 64, 67, 0.3), 0px 1px 3px 1px rgba(60, 64, 67, 0.15);\n",
              "      fill: #174EA6;\n",
              "    }\n",
              "\n",
              "    [theme=dark] .colab-df-convert {\n",
              "      background-color: #3B4455;\n",
              "      fill: #D2E3FC;\n",
              "    }\n",
              "\n",
              "    [theme=dark] .colab-df-convert:hover {\n",
              "      background-color: #434B5C;\n",
              "      box-shadow: 0px 1px 3px 1px rgba(0, 0, 0, 0.15);\n",
              "      filter: drop-shadow(0px 1px 2px rgba(0, 0, 0, 0.3));\n",
              "      fill: #FFFFFF;\n",
              "    }\n",
              "  </style>\n",
              "\n",
              "      <script>\n",
              "        const buttonEl =\n",
              "          document.querySelector('#df-16764604-e5c2-44d1-ae71-1bba52f16d28 button.colab-df-convert');\n",
              "        buttonEl.style.display =\n",
              "          google.colab.kernel.accessAllowed ? 'block' : 'none';\n",
              "\n",
              "        async function convertToInteractive(key) {\n",
              "          const element = document.querySelector('#df-16764604-e5c2-44d1-ae71-1bba52f16d28');\n",
              "          const dataTable =\n",
              "            await google.colab.kernel.invokeFunction('convertToInteractive',\n",
              "                                                     [key], {});\n",
              "          if (!dataTable) return;\n",
              "\n",
              "          const docLinkHtml = 'Like what you see? Visit the ' +\n",
              "            '<a target=\"_blank\" href=https://colab.research.google.com/notebooks/data_table.ipynb>data table notebook</a>'\n",
              "            + ' to learn more about interactive tables.';\n",
              "          element.innerHTML = '';\n",
              "          dataTable['output_type'] = 'display_data';\n",
              "          await google.colab.output.renderOutput(dataTable, element);\n",
              "          const docLink = document.createElement('div');\n",
              "          docLink.innerHTML = docLinkHtml;\n",
              "          element.appendChild(docLink);\n",
              "        }\n",
              "      </script>\n",
              "    </div>\n",
              "  </div>\n",
              "  "
            ]
          },
          "metadata": {},
          "execution_count": 21
        }
      ]
    },
    {
      "cell_type": "code",
      "source": [
        "# establishing a matrix for weight\n",
        "y = x_train['Weight']\n",
        "y"
      ],
      "metadata": {
        "colab": {
          "base_uri": "https://localhost:8080/"
        },
        "id": "Ay745SMJQ2IQ",
        "outputId": "1d952983-85cc-4c19-92c6-b46154e750d9"
      },
      "execution_count": 22,
      "outputs": [
        {
          "output_type": "execute_result",
          "data": {
            "text/plain": [
              "122    154\n",
              "282    199\n",
              "361    126\n",
              "116    142\n",
              "415    178\n",
              "      ... \n",
              "143    167\n",
              "495    177\n",
              "119    163\n",
              "14     112\n",
              "166    165\n",
              "Name: Weight, Length: 379, dtype: int64"
            ]
          },
          "metadata": {},
          "execution_count": 22
        }
      ]
    },
    {
      "cell_type": "code",
      "source": [
        "from scipy.optimize import minimize\n",
        "\n",
        "def training_loss_anes(x, y): # declaring minimization for loss_function\n",
        "    def loss_theta(theta):\n",
        "        predicted_value = x @ theta\n",
        "        return np.mean(loss_function(100 * (y - predicted_value) / predicted_value)) # approaching an algorithm based in linear models\n",
        "    return loss_theta\n",
        "\n",
        "output = minimize(training_loss_anes(x, y), np.ones(2))\n",
        "theta_hat = output['x']\n",
        "\n",
        "print('After fitting:')\n",
        "print(f'theta_0 = {theta_hat[0]:>7.2f}')\n",
        "print(f'theta_1 = {theta_hat[1]:>7.2f}')"
      ],
      "metadata": {
        "colab": {
          "base_uri": "https://localhost:8080/"
        },
        "id": "VVcvvqrDRI9B",
        "outputId": "6374ae0f-0a63-4c48-c1a3-b49482e60d70"
      },
      "execution_count": 23,
      "outputs": [
        {
          "output_type": "stream",
          "name": "stdout",
          "text": [
            "After fitting:\n",
            "theta_0 = -227.26\n",
            "theta_1 =    3.24\n"
          ]
        }
      ]
    },
    {
      "cell_type": "code",
      "source": [
        "predicted_value = x @ theta_hat\n",
        "residual = 100 * (y - predicted_value) / predicted_value # predicting the weights for each donkeys as error percentage\n",
        "\n",
        "residual_plot = pd.DataFrame({'Predicted Weight': predicted_value, 'Error (%)': residual}) # scatter plot displaying residual for our training set\n",
        "px.scatter(residual_plot, x='Predicted Weight', y='Error (%)', width=550, height=350)"
      ],
      "metadata": {
        "colab": {
          "base_uri": "https://localhost:8080/",
          "height": 367
        },
        "id": "T_04jlDETcWi",
        "outputId": "538e2ecb-f9ab-4702-d952-1a3aadf22180"
      },
      "execution_count": 24,
      "outputs": [
        {
          "output_type": "display_data",
          "data": {
            "text/html": [
              "<html>\n",
              "<head><meta charset=\"utf-8\" /></head>\n",
              "<body>\n",
              "    <div>            <script src=\"https://cdnjs.cloudflare.com/ajax/libs/mathjax/2.7.5/MathJax.js?config=TeX-AMS-MML_SVG\"></script><script type=\"text/javascript\">if (window.MathJax) {MathJax.Hub.Config({SVG: {font: \"STIX-Web\"}});}</script>                <script type=\"text/javascript\">window.PlotlyConfig = {MathJaxConfig: 'local'};</script>\n",
              "        <script src=\"https://cdn.plot.ly/plotly-2.8.3.min.js\"></script>                <div id=\"1a6fc9bb-ec7e-4a1c-afc5-7615c98fefd2\" class=\"plotly-graph-div\" style=\"height:350px; width:550px;\"></div>            <script type=\"text/javascript\">                                    window.PLOTLYENV=window.PLOTLYENV || {};                                    if (document.getElementById(\"1a6fc9bb-ec7e-4a1c-afc5-7615c98fefd2\")) {                    Plotly.newPlot(                        \"1a6fc9bb-ec7e-4a1c-afc5-7615c98fefd2\",                        [{\"hovertemplate\":\"Predicted Weight=%{x}<br>Error (%)=%{y}<extra></extra>\",\"legendgroup\":\"\",\"marker\":{\"color\":\"#636efa\",\"symbol\":\"circle\"},\"mode\":\"markers\",\"name\":\"\",\"orientation\":\"v\",\"showlegend\":false,\"x\":[148.2626370687737,177.39801031869575,132.07631859659477,135.3135822910305,164.44895554095262,174.16074662426,154.7371644576453,170.92348292982422,145.0253733743379,190.34706509643894,115.89000012441579,157.97442815208103,112.65273642998005,170.92348292982422,196.82159248531053,138.5508459854663,154.7371644576453,138.5508459854663,80.28009948562215,174.16074662426,167.68621923538842,177.39801031869575,145.0253733743379,148.2626370687737,157.97442815208103,83.51736318005794,138.5508459854663,135.3135822910305,145.0253733743379,132.07631859659477,109.41547273554426,138.5508459854663,128.83905490215898,138.5508459854663,164.44895554095262,180.63527401313155,154.7371644576453,141.7881096799021,157.97442815208103,151.4999007632095,145.0253733743379,132.07631859659477,106.17820904110846,119.12726381885159,164.44895554095262,151.4999007632095,154.7371644576453,157.97442815208103,174.16074662426,167.68621923538842,164.44895554095262,151.4999007632095,167.68621923538842,187.10980140200314,161.21169184651683,157.97442815208103,148.2626370687737,177.39801031869575,157.97442815208103,141.7881096799021,157.97442815208103,154.7371644576453,161.21169184651683,174.16074662426,151.4999007632095,154.7371644576453,128.83905490215898,119.12726381885159,148.2626370687737,135.3135822910305,161.21169184651683,161.21169184651683,89.99189056892953,112.65273642998005,174.16074662426,86.75462687449374,138.5508459854663,115.89000012441579,154.7371644576453,141.7881096799021,148.2626370687737,89.99189056892953,135.3135822910305,170.92348292982422,167.68621923538842,161.21169184651683,141.7881096799021,135.3135822910305,122.36452751328738,200.05885617974627,154.7371644576453,125.60179120772318,138.5508459854663,161.21169184651683,177.39801031869575,154.7371644576453,112.65273642998005,151.4999007632095,164.44895554095262,167.68621923538842,161.21169184651683,157.97442815208103,164.44895554095262,145.0253733743379,206.53338356861786,138.5508459854663,115.89000012441579,132.07631859659477,187.10980140200314,145.0253733743379,122.36452751328738,151.4999007632095,170.92348292982422,170.92348292982422,161.21169184651683,128.83905490215898,154.7371644576453,157.97442815208103,115.89000012441579,122.36452751328738,64.09378101344322,154.7371644576453,170.92348292982422,206.53338356861786,138.5508459854663,135.3135822910305,167.68621923538842,154.7371644576453,161.21169184651683,167.68621923538842,148.2626370687737,167.68621923538842,119.12726381885159,109.41547273554426,141.7881096799021,183.87253770756735,151.4999007632095,141.7881096799021,145.0253733743379,164.44895554095262,138.5508459854663,177.39801031869575,148.2626370687737,164.44895554095262,145.0253733743379,112.65273642998005,161.21169184651683,177.39801031869575,141.7881096799021,86.75462687449374,145.0253733743379,157.97442815208103,170.92348292982422,138.5508459854663,73.80557209675055,145.0253733743379,148.2626370687737,154.7371644576453,161.21169184651683,187.10980140200314,161.21169184651683,157.97442815208103,183.87253770756735,174.16074662426,164.44895554095262,132.07631859659477,115.89000012441579,161.21169184651683,170.92348292982422,164.44895554095262,132.07631859659477,119.12726381885159,141.7881096799021,148.2626370687737,112.65273642998005,135.3135822910305,141.7881096799021,148.2626370687737,125.60179120772318,161.21169184651683,96.46641795780107,151.4999007632095,141.7881096799021,138.5508459854663,161.21169184651683,154.7371644576453,161.21169184651683,161.21169184651683,148.2626370687737,170.92348292982422,109.41547273554426,161.21169184651683,77.04283579118635,145.0253733743379,138.5508459854663,170.92348292982422,141.7881096799021,151.4999007632095,138.5508459854663,132.07631859659477,164.44895554095262,164.44895554095262,138.5508459854663,148.2626370687737,177.39801031869575,138.5508459854663,135.3135822910305,180.63527401313155,145.0253733743379,157.97442815208103,141.7881096799021,138.5508459854663,167.68621923538842,148.2626370687737,154.7371644576453,148.2626370687737,161.21169184651683,180.63527401313155,148.2626370687737,138.5508459854663,164.44895554095262,187.10980140200314,180.63527401313155,151.4999007632095,174.16074662426,167.68621923538842,167.68621923538842,167.68621923538842,145.0253733743379,183.87253770756735,128.83905490215898,141.7881096799021,164.44895554095262,161.21169184651683,167.68621923538842,177.39801031869575,148.2626370687737,145.0253733743379,148.2626370687737,135.3135822910305,138.5508459854663,167.68621923538842,102.94094534667266,148.2626370687737,138.5508459854663,161.21169184651683,161.21169184651683,193.58432879087474,132.07631859659477,96.46641795780107,164.44895554095262,145.0253733743379,145.0253733743379,132.07631859659477,154.7371644576453,193.58432879087474,154.7371644576453,141.7881096799021,161.21169184651683,190.34706509643894,148.2626370687737,167.68621923538842,115.89000012441579,141.7881096799021,157.97442815208103,64.09378101344322,157.97442815208103,99.70368165223687,164.44895554095262,151.4999007632095,145.0253733743379,161.21169184651683,161.21169184651683,80.28009948562215,154.7371644576453,151.4999007632095,128.83905490215898,145.0253733743379,122.36452751328738,170.92348292982422,167.68621923538842,154.7371644576453,141.7881096799021,135.3135822910305,148.2626370687737,167.68621923538842,132.07631859659477,145.0253733743379,161.21169184651683,96.46641795780107,161.21169184651683,164.44895554095262,157.97442815208103,157.97442815208103,145.0253733743379,135.3135822910305,183.87253770756735,138.5508459854663,128.83905490215898,141.7881096799021,135.3135822910305,145.0253733743379,154.7371644576453,135.3135822910305,161.21169184651683,132.07631859659477,164.44895554095262,122.36452751328738,99.70368165223687,161.21169184651683,148.2626370687737,128.83905490215898,141.7881096799021,132.07631859659477,145.0253733743379,138.5508459854663,164.44895554095262,132.07631859659477,148.2626370687737,151.4999007632095,167.68621923538842,106.17820904110846,151.4999007632095,193.58432879087474,157.97442815208103,115.89000012441579,122.36452751328738,161.21169184651683,145.0253733743379,145.0253733743379,164.44895554095262,151.4999007632095,138.5508459854663,154.7371644576453,135.3135822910305,164.44895554095262,132.07631859659477,154.7371644576453,151.4999007632095,135.3135822910305,138.5508459854663,148.2626370687737,148.2626370687737,148.2626370687737,70.56830840231481,161.21169184651683,151.4999007632095,187.10980140200314,170.92348292982422,135.3135822910305,164.44895554095262,109.41547273554426,148.2626370687737,122.36452751328738,161.21169184651683,148.2626370687737,154.7371644576453,141.7881096799021,161.21169184651683,151.4999007632095,161.21169184651683,132.07631859659477,167.68621923538842,115.89000012441579,170.92348292982422,112.65273642998005,148.2626370687737,164.44895554095262,141.7881096799021,122.36452751328738,157.97442815208103,148.2626370687737,161.21169184651683,154.7371644576453,148.2626370687737,170.92348292982422,190.34706509643894,128.83905490215898,157.97442815208103],\"xaxis\":\"x\",\"y\":[3.869729450829169,12.177131886933932,-4.600611722949276,4.941423910120445,8.24027395885331,5.649524112897556,11.802488178173652,1.2148810886496706,11.015056368397389,-9.113387215952127,17.352661881089617,7.612353460360067,7.409729967108466,-2.880518724185865,-1.9416530661369131,1.0459366048805672,2.7548879787838767,8.26350350522918,7.12492952926929,-0.09229784975991971,1.3798276180129176,3.1578650015523086,-2.7756338637016666,-7.596409514522103,6.346325772591125,12.551446095516908,6.0982334351245955,28.5901954954997,-0.017495817281855577,8.270734314430584,-3.1215628376430895,-2.562846845293739,-2.9797291706884805,-6.171630295468045,8.24027395885331,-3.1196974366822094,2.1086308216846072,0.8547192869936922,-1.249840354022527,-5.61049922830948,8.256918321977578,13.57070032982229,25.26110696452517,-8.50121415887752,0.3350854112966069,-4.290366350383738,-7.585226534804438,-6.313951105098295,17.133168038212506,3.765235326672045,11.280731092528963,0.33009872235635757,5.554291108166391,13.302455783446945,4.831106270442287,14.575505743089249,-8.270888277189824,0.9030482802069031,4.447284240937712,19.897218732789703,5.080298084822183,5.339916607180956,2.3498966545738305,-1.2406622422914149,-4.290366350383738,16.97254543496781,9.438865495463395,-4.304022147816856,6.567644501500056,10.85361680646526,9.7935255021792,-5.714034596998653,-3.324622418769931,8.2974136858449,2.2044309353030704,15.267627333200442,-1.8410901552588776,-0.7679697329021627,7.278688078478765,7.202219102259029,2.5207719254937255,2.2314337640593833,36.71946072797382,3.5551095531271195,3.1688833995072634,-9.435849020801339,2.9705525587488046,10.114592694422157,-3.5668241458403434,1.9699921790579173,12.448745335272921,-14.810132107876633,-4.7281169153983225,-1.9922201731959683,3.1578650015523086,4.047402292982416,2.083627654689864,6.9307631119850654,8.24027395885331,-2.7946358721405553,6.071711078376516,7.612353460360067,2.159359691502,5.498780275557766,1.6784775281766495,1.0459366048805672,0.9578047065256258,-0.057783709756384596,-5.403138331744769,3.4301767407429082,-14.190818095874882,-8.250764984160963,-0.5402902597084162,3.5551095531271195,-8.815546616834224,10.215027662097887,12.448745335272921,0.6492011776308861,-1.630856952616057,-0.2979029304451009,1.4138953455822916,10.509973863975112,-1.7104044919471406,11.362142054669663,14.75931371554293,3.463375686034242,2.5725314723424813,18.91131690626562,-5.093732193031539,12.114162306978992,6.567644501500056,9.132402671155083,15.842499505274333,-2.207615317243496,-0.5558362275097162,-12.439344119970785,8.910962428873678,-13.250835858040391,13.083659903212245,0.3350854112966069,-5.449873605433184,13.868244427942987,1.8462931628260035,-4.529646002584441,7.5673838103726245,-4.130158376465171,2.3498966545738305,-6.988810244502017,8.612774616762438,2.5881883265483934,2.0511077175330024,6.346325772591125,1.2148810886496706,1.7676932949154283,0.2634325535673314,-6.22330642172643,3.869729450829169,-4.35394074930809,10.413827906146315,4.751327045073589,7.312315886310744,3.814270397053241,4.420161049475832,-4.1115732236201525,-3.9215545758493096,-1.5720597141540151,-6.808180270899422,11.034130310113428,-6.390861420902039,4.591725398442524,5.999320307834138,0.7326082654559412,17.78138546103459,14.661389653512718,-11.23162812635664,-6.1439377705260805,-4.0822250137682365,2.5207719254937255,-7.644629201062519,7.312315886310744,-0.48350293052770277,-2.970233472457996,-6.1980582855233495,3.932963365020012,0.4889894426724882,7.924945235578034,-0.13131296129462594,-0.13131296129462594,7.242123264167779,-7.560975653140763,-4.035510358042683,-10.676453828735566,-2.65155840930254,19.28947050765682,0.3241799148457059,0.6298239725303084,-4.0822250137682365,0.33009872235635757,11.150530265368625,9.785010318828213,3.375542544972262,-9.394377416465488,2.4894499849502894,3.869729450829169,8.231202624579472,2.4894499849502894,4.941423910120445,10.720345786648904,-0.017495817281855577,13.309478055320305,6.4969413450073255,5.376476745089734,12.710514234143773,-4.224015701183493,-7.585226534804438,-4.898494463851216,-3.2328249811301966,6.845133684116192,0.4973356374905597,3.2112066749851507,5.199816825177654,14.371346875743614,-0.35168879201598674,-12.871230056901059,8.520435094226293,-1.0055800906462098,1.3798276180129176,1.3798276180129176,-8.291909956541287,3.876306044009812,-2.2035670040539883,2.2652748014971005,8.84836538558844,5.451408674409401,4.957939181001609,-5.861401883829314,5.893165738832335,-1.396564840491761,-3.5495369385157716,6.419472134206648,-0.39757677518915524,-1.6019320178109917,-4.799786256122981,6.567644501500056,41.46431124683279,2.9701990585409446,3.5905014625080587,-4.434413076973919,-0.057783709756384596,-2.556763286141709,3.9836339717073925,8.94645283358253,4.809245763952814,7.513596312231768,0.8161165074860678,-8.050408257845175,1.4623736645853374,1.5599970442453963,3.5905014625080587,12.42621465772396,9.265559552170943,12.114162306978992,-18.02571412718005,1.5599970442453963,-1.249840354022527,10.77517799286681,7.612353460360067,-5.720632937238085,3.9836339717073925,12.871361062650902,-2.086099352096714,1.1092918466396022,12.274735118047657,12.107484391095769,-5.646455063506629,5.6106302340593235,0.9010816624839804,-7.602375444936335,-4.384054449689154,8.82062359820138,-1.6019320178109917,-10.170255163201517,-9.72444707178187,-1.7097930982674703,6.567644501500056,12.710514234143773,1.456492294641246,6.188314787162719,-8.815546616834224,5.736278136314316,5.451408674409401,2.7674511182371306,0.016187333746415147,4.447284240937712,2.0511077175330024,2.72435157399114,-1.5622440106503876,1.0459366048805672,0.9010816624839804,5.791663587755621,4.941423910120445,3.4301767407429082,-12.755283791598595,-6.1439377705260805,-0.75161536526174,-5.357749725148092,-1.489188868908786,7.057169804194195,6.3150309431145,-1.9922201731959683,3.869729450829169,13.319676328635856,0.14944152974198796,1.456492294641246,-2.086099352096714,4.654720055054873,2.159359691502,-4.600611722949276,4.544208213496891,2.31029803924497,-3.3909877993053374,0.7739732722119771,10.23109530679942,-4.9509838170983835,-5.680937261213824,-1.630856952616057,-2.749593841991533,0.4889894426724882,7.5673838103726245,15.152263438027102,3.9836339717073925,-4.290366350383738,-4.7281169153983225,-1.7689121209110108,18.243857926896276,11.280731092528963,-3.843473720750461,-2.4151692780102807,-10.891030740012445,-2.448817210310572,3.932963365020012,6.567644501500056,7.9166020268355,13.312432128177276,2.0288024895297396,1.7295942506067163,3.6304309171707114,4.216881498925255,9.990737830440105,11.59264091850836,10.672639665793833,4.190017325553659,-2.8750581758480496,-7.652975665084397,-3.8531273850973107,-7.596409514522103,1.4623736645853374,3.675830316000509,4.831106270442287,6.9307631119850654,2.3498966545738305,5.242182305635322,6.150643035331172,-2.493744172329951,1.2148810886496706,2.083627654689864,7.9166020268355,12.496913945999227,2.2652748014971005,-13.373587792026072,5.080298084822183,3.195250688161447,-0.75161536526174,7.924945235578034,12.637953365509553,3.5551095531271195,-14.366948648556049,-13.069837336936878,4.447284240937712],\"yaxis\":\"y\",\"type\":\"scatter\"}],                        {\"template\":{\"data\":{\"bar\":[{\"error_x\":{\"color\":\"#2a3f5f\"},\"error_y\":{\"color\":\"#2a3f5f\"},\"marker\":{\"line\":{\"color\":\"#E5ECF6\",\"width\":0.5},\"pattern\":{\"fillmode\":\"overlay\",\"size\":10,\"solidity\":0.2}},\"type\":\"bar\"}],\"barpolar\":[{\"marker\":{\"line\":{\"color\":\"#E5ECF6\",\"width\":0.5},\"pattern\":{\"fillmode\":\"overlay\",\"size\":10,\"solidity\":0.2}},\"type\":\"barpolar\"}],\"carpet\":[{\"aaxis\":{\"endlinecolor\":\"#2a3f5f\",\"gridcolor\":\"white\",\"linecolor\":\"white\",\"minorgridcolor\":\"white\",\"startlinecolor\":\"#2a3f5f\"},\"baxis\":{\"endlinecolor\":\"#2a3f5f\",\"gridcolor\":\"white\",\"linecolor\":\"white\",\"minorgridcolor\":\"white\",\"startlinecolor\":\"#2a3f5f\"},\"type\":\"carpet\"}],\"choropleth\":[{\"colorbar\":{\"outlinewidth\":0,\"ticks\":\"\"},\"type\":\"choropleth\"}],\"contour\":[{\"colorbar\":{\"outlinewidth\":0,\"ticks\":\"\"},\"colorscale\":[[0.0,\"#0d0887\"],[0.1111111111111111,\"#46039f\"],[0.2222222222222222,\"#7201a8\"],[0.3333333333333333,\"#9c179e\"],[0.4444444444444444,\"#bd3786\"],[0.5555555555555556,\"#d8576b\"],[0.6666666666666666,\"#ed7953\"],[0.7777777777777778,\"#fb9f3a\"],[0.8888888888888888,\"#fdca26\"],[1.0,\"#f0f921\"]],\"type\":\"contour\"}],\"contourcarpet\":[{\"colorbar\":{\"outlinewidth\":0,\"ticks\":\"\"},\"type\":\"contourcarpet\"}],\"heatmap\":[{\"colorbar\":{\"outlinewidth\":0,\"ticks\":\"\"},\"colorscale\":[[0.0,\"#0d0887\"],[0.1111111111111111,\"#46039f\"],[0.2222222222222222,\"#7201a8\"],[0.3333333333333333,\"#9c179e\"],[0.4444444444444444,\"#bd3786\"],[0.5555555555555556,\"#d8576b\"],[0.6666666666666666,\"#ed7953\"],[0.7777777777777778,\"#fb9f3a\"],[0.8888888888888888,\"#fdca26\"],[1.0,\"#f0f921\"]],\"type\":\"heatmap\"}],\"heatmapgl\":[{\"colorbar\":{\"outlinewidth\":0,\"ticks\":\"\"},\"colorscale\":[[0.0,\"#0d0887\"],[0.1111111111111111,\"#46039f\"],[0.2222222222222222,\"#7201a8\"],[0.3333333333333333,\"#9c179e\"],[0.4444444444444444,\"#bd3786\"],[0.5555555555555556,\"#d8576b\"],[0.6666666666666666,\"#ed7953\"],[0.7777777777777778,\"#fb9f3a\"],[0.8888888888888888,\"#fdca26\"],[1.0,\"#f0f921\"]],\"type\":\"heatmapgl\"}],\"histogram\":[{\"marker\":{\"pattern\":{\"fillmode\":\"overlay\",\"size\":10,\"solidity\":0.2}},\"type\":\"histogram\"}],\"histogram2d\":[{\"colorbar\":{\"outlinewidth\":0,\"ticks\":\"\"},\"colorscale\":[[0.0,\"#0d0887\"],[0.1111111111111111,\"#46039f\"],[0.2222222222222222,\"#7201a8\"],[0.3333333333333333,\"#9c179e\"],[0.4444444444444444,\"#bd3786\"],[0.5555555555555556,\"#d8576b\"],[0.6666666666666666,\"#ed7953\"],[0.7777777777777778,\"#fb9f3a\"],[0.8888888888888888,\"#fdca26\"],[1.0,\"#f0f921\"]],\"type\":\"histogram2d\"}],\"histogram2dcontour\":[{\"colorbar\":{\"outlinewidth\":0,\"ticks\":\"\"},\"colorscale\":[[0.0,\"#0d0887\"],[0.1111111111111111,\"#46039f\"],[0.2222222222222222,\"#7201a8\"],[0.3333333333333333,\"#9c179e\"],[0.4444444444444444,\"#bd3786\"],[0.5555555555555556,\"#d8576b\"],[0.6666666666666666,\"#ed7953\"],[0.7777777777777778,\"#fb9f3a\"],[0.8888888888888888,\"#fdca26\"],[1.0,\"#f0f921\"]],\"type\":\"histogram2dcontour\"}],\"mesh3d\":[{\"colorbar\":{\"outlinewidth\":0,\"ticks\":\"\"},\"type\":\"mesh3d\"}],\"parcoords\":[{\"line\":{\"colorbar\":{\"outlinewidth\":0,\"ticks\":\"\"}},\"type\":\"parcoords\"}],\"pie\":[{\"automargin\":true,\"type\":\"pie\"}],\"scatter\":[{\"marker\":{\"colorbar\":{\"outlinewidth\":0,\"ticks\":\"\"}},\"type\":\"scatter\"}],\"scatter3d\":[{\"line\":{\"colorbar\":{\"outlinewidth\":0,\"ticks\":\"\"}},\"marker\":{\"colorbar\":{\"outlinewidth\":0,\"ticks\":\"\"}},\"type\":\"scatter3d\"}],\"scattercarpet\":[{\"marker\":{\"colorbar\":{\"outlinewidth\":0,\"ticks\":\"\"}},\"type\":\"scattercarpet\"}],\"scattergeo\":[{\"marker\":{\"colorbar\":{\"outlinewidth\":0,\"ticks\":\"\"}},\"type\":\"scattergeo\"}],\"scattergl\":[{\"marker\":{\"colorbar\":{\"outlinewidth\":0,\"ticks\":\"\"}},\"type\":\"scattergl\"}],\"scattermapbox\":[{\"marker\":{\"colorbar\":{\"outlinewidth\":0,\"ticks\":\"\"}},\"type\":\"scattermapbox\"}],\"scatterpolar\":[{\"marker\":{\"colorbar\":{\"outlinewidth\":0,\"ticks\":\"\"}},\"type\":\"scatterpolar\"}],\"scatterpolargl\":[{\"marker\":{\"colorbar\":{\"outlinewidth\":0,\"ticks\":\"\"}},\"type\":\"scatterpolargl\"}],\"scatterternary\":[{\"marker\":{\"colorbar\":{\"outlinewidth\":0,\"ticks\":\"\"}},\"type\":\"scatterternary\"}],\"surface\":[{\"colorbar\":{\"outlinewidth\":0,\"ticks\":\"\"},\"colorscale\":[[0.0,\"#0d0887\"],[0.1111111111111111,\"#46039f\"],[0.2222222222222222,\"#7201a8\"],[0.3333333333333333,\"#9c179e\"],[0.4444444444444444,\"#bd3786\"],[0.5555555555555556,\"#d8576b\"],[0.6666666666666666,\"#ed7953\"],[0.7777777777777778,\"#fb9f3a\"],[0.8888888888888888,\"#fdca26\"],[1.0,\"#f0f921\"]],\"type\":\"surface\"}],\"table\":[{\"cells\":{\"fill\":{\"color\":\"#EBF0F8\"},\"line\":{\"color\":\"white\"}},\"header\":{\"fill\":{\"color\":\"#C8D4E3\"},\"line\":{\"color\":\"white\"}},\"type\":\"table\"}]},\"layout\":{\"annotationdefaults\":{\"arrowcolor\":\"#2a3f5f\",\"arrowhead\":0,\"arrowwidth\":1},\"autotypenumbers\":\"strict\",\"coloraxis\":{\"colorbar\":{\"outlinewidth\":0,\"ticks\":\"\"}},\"colorscale\":{\"diverging\":[[0,\"#8e0152\"],[0.1,\"#c51b7d\"],[0.2,\"#de77ae\"],[0.3,\"#f1b6da\"],[0.4,\"#fde0ef\"],[0.5,\"#f7f7f7\"],[0.6,\"#e6f5d0\"],[0.7,\"#b8e186\"],[0.8,\"#7fbc41\"],[0.9,\"#4d9221\"],[1,\"#276419\"]],\"sequential\":[[0.0,\"#0d0887\"],[0.1111111111111111,\"#46039f\"],[0.2222222222222222,\"#7201a8\"],[0.3333333333333333,\"#9c179e\"],[0.4444444444444444,\"#bd3786\"],[0.5555555555555556,\"#d8576b\"],[0.6666666666666666,\"#ed7953\"],[0.7777777777777778,\"#fb9f3a\"],[0.8888888888888888,\"#fdca26\"],[1.0,\"#f0f921\"]],\"sequentialminus\":[[0.0,\"#0d0887\"],[0.1111111111111111,\"#46039f\"],[0.2222222222222222,\"#7201a8\"],[0.3333333333333333,\"#9c179e\"],[0.4444444444444444,\"#bd3786\"],[0.5555555555555556,\"#d8576b\"],[0.6666666666666666,\"#ed7953\"],[0.7777777777777778,\"#fb9f3a\"],[0.8888888888888888,\"#fdca26\"],[1.0,\"#f0f921\"]]},\"colorway\":[\"#636efa\",\"#EF553B\",\"#00cc96\",\"#ab63fa\",\"#FFA15A\",\"#19d3f3\",\"#FF6692\",\"#B6E880\",\"#FF97FF\",\"#FECB52\"],\"font\":{\"color\":\"#2a3f5f\"},\"geo\":{\"bgcolor\":\"white\",\"lakecolor\":\"white\",\"landcolor\":\"#E5ECF6\",\"showlakes\":true,\"showland\":true,\"subunitcolor\":\"white\"},\"hoverlabel\":{\"align\":\"left\"},\"hovermode\":\"closest\",\"mapbox\":{\"style\":\"light\"},\"paper_bgcolor\":\"white\",\"plot_bgcolor\":\"#E5ECF6\",\"polar\":{\"angularaxis\":{\"gridcolor\":\"white\",\"linecolor\":\"white\",\"ticks\":\"\"},\"bgcolor\":\"#E5ECF6\",\"radialaxis\":{\"gridcolor\":\"white\",\"linecolor\":\"white\",\"ticks\":\"\"}},\"scene\":{\"xaxis\":{\"backgroundcolor\":\"#E5ECF6\",\"gridcolor\":\"white\",\"gridwidth\":2,\"linecolor\":\"white\",\"showbackground\":true,\"ticks\":\"\",\"zerolinecolor\":\"white\"},\"yaxis\":{\"backgroundcolor\":\"#E5ECF6\",\"gridcolor\":\"white\",\"gridwidth\":2,\"linecolor\":\"white\",\"showbackground\":true,\"ticks\":\"\",\"zerolinecolor\":\"white\"},\"zaxis\":{\"backgroundcolor\":\"#E5ECF6\",\"gridcolor\":\"white\",\"gridwidth\":2,\"linecolor\":\"white\",\"showbackground\":true,\"ticks\":\"\",\"zerolinecolor\":\"white\"}},\"shapedefaults\":{\"line\":{\"color\":\"#2a3f5f\"}},\"ternary\":{\"aaxis\":{\"gridcolor\":\"white\",\"linecolor\":\"white\",\"ticks\":\"\"},\"baxis\":{\"gridcolor\":\"white\",\"linecolor\":\"white\",\"ticks\":\"\"},\"bgcolor\":\"#E5ECF6\",\"caxis\":{\"gridcolor\":\"white\",\"linecolor\":\"white\",\"ticks\":\"\"}},\"title\":{\"x\":0.05},\"xaxis\":{\"automargin\":true,\"gridcolor\":\"white\",\"linecolor\":\"white\",\"ticks\":\"\",\"title\":{\"standoff\":15},\"zerolinecolor\":\"white\",\"zerolinewidth\":2},\"yaxis\":{\"automargin\":true,\"gridcolor\":\"white\",\"linecolor\":\"white\",\"ticks\":\"\",\"title\":{\"standoff\":15},\"zerolinecolor\":\"white\",\"zerolinewidth\":2}}},\"xaxis\":{\"anchor\":\"y\",\"domain\":[0.0,1.0],\"title\":{\"text\":\"Predicted Weight\"}},\"yaxis\":{\"anchor\":\"x\",\"domain\":[0.0,1.0],\"title\":{\"text\":\"Error (%)\"}},\"legend\":{\"tracegroupgap\":0},\"margin\":{\"t\":60},\"height\":350,\"width\":550},                        {\"responsive\": true}                    ).then(function(){\n",
              "                            \n",
              "var gd = document.getElementById('1a6fc9bb-ec7e-4a1c-afc5-7615c98fefd2');\n",
              "var x = new MutationObserver(function (mutations, observer) {{\n",
              "        var display = window.getComputedStyle(gd).display;\n",
              "        if (!display || display === 'none') {{\n",
              "            console.log([gd, 'removed!']);\n",
              "            Plotly.purge(gd);\n",
              "            observer.disconnect();\n",
              "        }}\n",
              "}});\n",
              "\n",
              "// Listen for the removal of the full notebook cells\n",
              "var notebookContainer = gd.closest('#notebook-container');\n",
              "if (notebookContainer) {{\n",
              "    x.observe(notebookContainer, {childList: true});\n",
              "}}\n",
              "\n",
              "// Listen for the clearing of the current output cell\n",
              "var outputEl = gd.closest('.output');\n",
              "if (outputEl) {{\n",
              "    x.observe(outputEl, {childList: true});\n",
              "}}\n",
              "\n",
              "                        })                };                            </script>        </div>\n",
              "</body>\n",
              "</html>"
            ]
          },
          "metadata": {}
        }
      ]
    },
    {
      "cell_type": "markdown",
      "source": [
        "Multiple linear model needs to be applied in order to establish relationship between girth, length, and height and improve our predictions"
      ],
      "metadata": {
        "id": "SATo_75NV-3b"
      }
    },
    {
      "cell_type": "code",
      "source": [
        "import itertools\n",
        "\n",
        "num = ['Girth', 'Length', 'Height'] # showing the total combinations by using itertools to print out a list\n",
        "combos = [list(subset)\n",
        "          for i in [1, 2, 3] # 3 combinations\n",
        "          for subset in itertools.combinations(num, i)] # go through each num and combine as many ways possible wihtout repeating\n",
        "combos"
      ],
      "metadata": {
        "colab": {
          "base_uri": "https://localhost:8080/"
        },
        "id": "rt3pSBUTV8Pl",
        "outputId": "d2a85b9c-5695-47f6-e19a-526e5e39df93"
      },
      "execution_count": 25,
      "outputs": [
        {
          "output_type": "execute_result",
          "data": {
            "text/plain": [
              "[['Girth'],\n",
              " ['Length'],\n",
              " ['Height'],\n",
              " ['Girth', 'Length'],\n",
              " ['Girth', 'Height'],\n",
              " ['Length', 'Height'],\n",
              " ['Girth', 'Length', 'Height']]"
            ]
          },
          "metadata": {},
          "execution_count": 25
        }
      ]
    },
    {
      "cell_type": "code",
      "source": [
        "\n",
        "def mean_training_error(model_comb):\n",
        "    x = x_train.assign(intr=1)[['intr', *model_comb]]\n",
        "    theta_hat = minimize(training_loss_anes(x, y), np.ones(x.shape[1]))['x']\n",
        "    predicted_value = x @ theta_hat\n",
        "    return np.mean(loss_function(100 * (y - predicted_value)/ predicted_value))\n",
        "\n",
        "model_risks = [\n",
        "    mean_training_error(model_comb)\n",
        "    for model_comb in combos\n",
        "]\n"
      ],
      "metadata": {
        "id": "9AqlZiwTVkvo"
      },
      "execution_count": 26,
      "outputs": []
    },
    {
      "cell_type": "markdown",
      "source": [
        "Tranforming the training set into dummy variables by performing one-hot-encoding imputation"
      ],
      "metadata": {
        "id": "mITDuxLcVHxh"
      }
    },
    {
      "cell_type": "code",
      "source": [
        "ohe = (x_train.assign(intr=1)[['intr', 'Length', 'Girth', 'BCS', 'Age', 'Sex']]\n",
        "    .pipe(pd.get_dummies, columns=['BCS', 'Age', 'Sex'])\n",
        "    .drop(columns=['BCS_3.0', 'Age_5-10', 'Sex_female']))\n",
        "ohe"
      ],
      "metadata": {
        "colab": {
          "base_uri": "https://localhost:8080/",
          "height": 424
        },
        "id": "HwMMQ1wKUbjW",
        "outputId": "364c9614-913b-4ea9-cd13-4a23be257ee8"
      },
      "execution_count": 27,
      "outputs": [
        {
          "output_type": "execute_result",
          "data": {
            "text/plain": [
              "     intr  Length  Girth  BCS_1.5  BCS_2.0  BCS_2.5  BCS_3.5  BCS_4.0  \\\n",
              "122     1      97    116        0        0        0        0        0   \n",
              "282     1     105    125        0        0        0        0        1   \n",
              "361     1      81    111        0        0        0        0        0   \n",
              "116     1      97    112        0        0        0        0        0   \n",
              "415     1     101    121        0        0        0        1        0   \n",
              "..    ...     ...    ...      ...      ...      ...      ...      ...   \n",
              "143     1      97    116        0        0        0        0        0   \n",
              "495     1     108    123        0        0        0        0        0   \n",
              "119     1      89    129        0        0        0        0        0   \n",
              "14      1      87    110        0        0        1        0        0   \n",
              "166     1      89    119        0        0        0        0        0   \n",
              "\n",
              "     Age_10-15  Age_15-20  Age_2-5  Age_<2  Age_>20  Sex_gelding  Sex_stallion  \n",
              "122          1          0        0       0        0            1             0  \n",
              "282          1          0        0       0        0            0             1  \n",
              "361          0          0        0       0        0            0             1  \n",
              "116          0          0        0       0        0            0             0  \n",
              "415          0          0        0       0        1            1             0  \n",
              "..         ...        ...      ...     ...      ...          ...           ...  \n",
              "143          0          0        0       0        0            0             0  \n",
              "495          0          1        0       0        0            0             1  \n",
              "119          0          0        0       0        1            0             0  \n",
              "14           0          0        0       1        0            0             0  \n",
              "166          1          0        0       0        0            1             0  \n",
              "\n",
              "[379 rows x 15 columns]"
            ],
            "text/html": [
              "\n",
              "  <div id=\"df-553fcc3e-063c-4f59-a72d-220c02f9288a\">\n",
              "    <div class=\"colab-df-container\">\n",
              "      <div>\n",
              "<style scoped>\n",
              "    .dataframe tbody tr th:only-of-type {\n",
              "        vertical-align: middle;\n",
              "    }\n",
              "\n",
              "    .dataframe tbody tr th {\n",
              "        vertical-align: top;\n",
              "    }\n",
              "\n",
              "    .dataframe thead th {\n",
              "        text-align: right;\n",
              "    }\n",
              "</style>\n",
              "<table border=\"1\" class=\"dataframe\">\n",
              "  <thead>\n",
              "    <tr style=\"text-align: right;\">\n",
              "      <th></th>\n",
              "      <th>intr</th>\n",
              "      <th>Length</th>\n",
              "      <th>Girth</th>\n",
              "      <th>BCS_1.5</th>\n",
              "      <th>BCS_2.0</th>\n",
              "      <th>BCS_2.5</th>\n",
              "      <th>BCS_3.5</th>\n",
              "      <th>BCS_4.0</th>\n",
              "      <th>Age_10-15</th>\n",
              "      <th>Age_15-20</th>\n",
              "      <th>Age_2-5</th>\n",
              "      <th>Age_&lt;2</th>\n",
              "      <th>Age_&gt;20</th>\n",
              "      <th>Sex_gelding</th>\n",
              "      <th>Sex_stallion</th>\n",
              "    </tr>\n",
              "  </thead>\n",
              "  <tbody>\n",
              "    <tr>\n",
              "      <th>122</th>\n",
              "      <td>1</td>\n",
              "      <td>97</td>\n",
              "      <td>116</td>\n",
              "      <td>0</td>\n",
              "      <td>0</td>\n",
              "      <td>0</td>\n",
              "      <td>0</td>\n",
              "      <td>0</td>\n",
              "      <td>1</td>\n",
              "      <td>0</td>\n",
              "      <td>0</td>\n",
              "      <td>0</td>\n",
              "      <td>0</td>\n",
              "      <td>1</td>\n",
              "      <td>0</td>\n",
              "    </tr>\n",
              "    <tr>\n",
              "      <th>282</th>\n",
              "      <td>1</td>\n",
              "      <td>105</td>\n",
              "      <td>125</td>\n",
              "      <td>0</td>\n",
              "      <td>0</td>\n",
              "      <td>0</td>\n",
              "      <td>0</td>\n",
              "      <td>1</td>\n",
              "      <td>1</td>\n",
              "      <td>0</td>\n",
              "      <td>0</td>\n",
              "      <td>0</td>\n",
              "      <td>0</td>\n",
              "      <td>0</td>\n",
              "      <td>1</td>\n",
              "    </tr>\n",
              "    <tr>\n",
              "      <th>361</th>\n",
              "      <td>1</td>\n",
              "      <td>81</td>\n",
              "      <td>111</td>\n",
              "      <td>0</td>\n",
              "      <td>0</td>\n",
              "      <td>0</td>\n",
              "      <td>0</td>\n",
              "      <td>0</td>\n",
              "      <td>0</td>\n",
              "      <td>0</td>\n",
              "      <td>0</td>\n",
              "      <td>0</td>\n",
              "      <td>0</td>\n",
              "      <td>0</td>\n",
              "      <td>1</td>\n",
              "    </tr>\n",
              "    <tr>\n",
              "      <th>116</th>\n",
              "      <td>1</td>\n",
              "      <td>97</td>\n",
              "      <td>112</td>\n",
              "      <td>0</td>\n",
              "      <td>0</td>\n",
              "      <td>0</td>\n",
              "      <td>0</td>\n",
              "      <td>0</td>\n",
              "      <td>0</td>\n",
              "      <td>0</td>\n",
              "      <td>0</td>\n",
              "      <td>0</td>\n",
              "      <td>0</td>\n",
              "      <td>0</td>\n",
              "      <td>0</td>\n",
              "    </tr>\n",
              "    <tr>\n",
              "      <th>415</th>\n",
              "      <td>1</td>\n",
              "      <td>101</td>\n",
              "      <td>121</td>\n",
              "      <td>0</td>\n",
              "      <td>0</td>\n",
              "      <td>0</td>\n",
              "      <td>1</td>\n",
              "      <td>0</td>\n",
              "      <td>0</td>\n",
              "      <td>0</td>\n",
              "      <td>0</td>\n",
              "      <td>0</td>\n",
              "      <td>1</td>\n",
              "      <td>1</td>\n",
              "      <td>0</td>\n",
              "    </tr>\n",
              "    <tr>\n",
              "      <th>...</th>\n",
              "      <td>...</td>\n",
              "      <td>...</td>\n",
              "      <td>...</td>\n",
              "      <td>...</td>\n",
              "      <td>...</td>\n",
              "      <td>...</td>\n",
              "      <td>...</td>\n",
              "      <td>...</td>\n",
              "      <td>...</td>\n",
              "      <td>...</td>\n",
              "      <td>...</td>\n",
              "      <td>...</td>\n",
              "      <td>...</td>\n",
              "      <td>...</td>\n",
              "      <td>...</td>\n",
              "    </tr>\n",
              "    <tr>\n",
              "      <th>143</th>\n",
              "      <td>1</td>\n",
              "      <td>97</td>\n",
              "      <td>116</td>\n",
              "      <td>0</td>\n",
              "      <td>0</td>\n",
              "      <td>0</td>\n",
              "      <td>0</td>\n",
              "      <td>0</td>\n",
              "      <td>0</td>\n",
              "      <td>0</td>\n",
              "      <td>0</td>\n",
              "      <td>0</td>\n",
              "      <td>0</td>\n",
              "      <td>0</td>\n",
              "      <td>0</td>\n",
              "    </tr>\n",
              "    <tr>\n",
              "      <th>495</th>\n",
              "      <td>1</td>\n",
              "      <td>108</td>\n",
              "      <td>123</td>\n",
              "      <td>0</td>\n",
              "      <td>0</td>\n",
              "      <td>0</td>\n",
              "      <td>0</td>\n",
              "      <td>0</td>\n",
              "      <td>0</td>\n",
              "      <td>1</td>\n",
              "      <td>0</td>\n",
              "      <td>0</td>\n",
              "      <td>0</td>\n",
              "      <td>0</td>\n",
              "      <td>1</td>\n",
              "    </tr>\n",
              "    <tr>\n",
              "      <th>119</th>\n",
              "      <td>1</td>\n",
              "      <td>89</td>\n",
              "      <td>129</td>\n",
              "      <td>0</td>\n",
              "      <td>0</td>\n",
              "      <td>0</td>\n",
              "      <td>0</td>\n",
              "      <td>0</td>\n",
              "      <td>0</td>\n",
              "      <td>0</td>\n",
              "      <td>0</td>\n",
              "      <td>0</td>\n",
              "      <td>1</td>\n",
              "      <td>0</td>\n",
              "      <td>0</td>\n",
              "    </tr>\n",
              "    <tr>\n",
              "      <th>14</th>\n",
              "      <td>1</td>\n",
              "      <td>87</td>\n",
              "      <td>110</td>\n",
              "      <td>0</td>\n",
              "      <td>0</td>\n",
              "      <td>1</td>\n",
              "      <td>0</td>\n",
              "      <td>0</td>\n",
              "      <td>0</td>\n",
              "      <td>0</td>\n",
              "      <td>0</td>\n",
              "      <td>1</td>\n",
              "      <td>0</td>\n",
              "      <td>0</td>\n",
              "      <td>0</td>\n",
              "    </tr>\n",
              "    <tr>\n",
              "      <th>166</th>\n",
              "      <td>1</td>\n",
              "      <td>89</td>\n",
              "      <td>119</td>\n",
              "      <td>0</td>\n",
              "      <td>0</td>\n",
              "      <td>0</td>\n",
              "      <td>0</td>\n",
              "      <td>0</td>\n",
              "      <td>1</td>\n",
              "      <td>0</td>\n",
              "      <td>0</td>\n",
              "      <td>0</td>\n",
              "      <td>0</td>\n",
              "      <td>1</td>\n",
              "      <td>0</td>\n",
              "    </tr>\n",
              "  </tbody>\n",
              "</table>\n",
              "<p>379 rows × 15 columns</p>\n",
              "</div>\n",
              "      <button class=\"colab-df-convert\" onclick=\"convertToInteractive('df-553fcc3e-063c-4f59-a72d-220c02f9288a')\"\n",
              "              title=\"Convert this dataframe to an interactive table.\"\n",
              "              style=\"display:none;\">\n",
              "        \n",
              "  <svg xmlns=\"http://www.w3.org/2000/svg\" height=\"24px\"viewBox=\"0 0 24 24\"\n",
              "       width=\"24px\">\n",
              "    <path d=\"M0 0h24v24H0V0z\" fill=\"none\"/>\n",
              "    <path d=\"M18.56 5.44l.94 2.06.94-2.06 2.06-.94-2.06-.94-.94-2.06-.94 2.06-2.06.94zm-11 1L8.5 8.5l.94-2.06 2.06-.94-2.06-.94L8.5 2.5l-.94 2.06-2.06.94zm10 10l.94 2.06.94-2.06 2.06-.94-2.06-.94-.94-2.06-.94 2.06-2.06.94z\"/><path d=\"M17.41 7.96l-1.37-1.37c-.4-.4-.92-.59-1.43-.59-.52 0-1.04.2-1.43.59L10.3 9.45l-7.72 7.72c-.78.78-.78 2.05 0 2.83L4 21.41c.39.39.9.59 1.41.59.51 0 1.02-.2 1.41-.59l7.78-7.78 2.81-2.81c.8-.78.8-2.07 0-2.86zM5.41 20L4 18.59l7.72-7.72 1.47 1.35L5.41 20z\"/>\n",
              "  </svg>\n",
              "      </button>\n",
              "      \n",
              "  <style>\n",
              "    .colab-df-container {\n",
              "      display:flex;\n",
              "      flex-wrap:wrap;\n",
              "      gap: 12px;\n",
              "    }\n",
              "\n",
              "    .colab-df-convert {\n",
              "      background-color: #E8F0FE;\n",
              "      border: none;\n",
              "      border-radius: 50%;\n",
              "      cursor: pointer;\n",
              "      display: none;\n",
              "      fill: #1967D2;\n",
              "      height: 32px;\n",
              "      padding: 0 0 0 0;\n",
              "      width: 32px;\n",
              "    }\n",
              "\n",
              "    .colab-df-convert:hover {\n",
              "      background-color: #E2EBFA;\n",
              "      box-shadow: 0px 1px 2px rgba(60, 64, 67, 0.3), 0px 1px 3px 1px rgba(60, 64, 67, 0.15);\n",
              "      fill: #174EA6;\n",
              "    }\n",
              "\n",
              "    [theme=dark] .colab-df-convert {\n",
              "      background-color: #3B4455;\n",
              "      fill: #D2E3FC;\n",
              "    }\n",
              "\n",
              "    [theme=dark] .colab-df-convert:hover {\n",
              "      background-color: #434B5C;\n",
              "      box-shadow: 0px 1px 3px 1px rgba(0, 0, 0, 0.15);\n",
              "      filter: drop-shadow(0px 1px 2px rgba(0, 0, 0, 0.3));\n",
              "      fill: #FFFFFF;\n",
              "    }\n",
              "  </style>\n",
              "\n",
              "      <script>\n",
              "        const buttonEl =\n",
              "          document.querySelector('#df-553fcc3e-063c-4f59-a72d-220c02f9288a button.colab-df-convert');\n",
              "        buttonEl.style.display =\n",
              "          google.colab.kernel.accessAllowed ? 'block' : 'none';\n",
              "\n",
              "        async function convertToInteractive(key) {\n",
              "          const element = document.querySelector('#df-553fcc3e-063c-4f59-a72d-220c02f9288a');\n",
              "          const dataTable =\n",
              "            await google.colab.kernel.invokeFunction('convertToInteractive',\n",
              "                                                     [key], {});\n",
              "          if (!dataTable) return;\n",
              "\n",
              "          const docLinkHtml = 'Like what you see? Visit the ' +\n",
              "            '<a target=\"_blank\" href=https://colab.research.google.com/notebooks/data_table.ipynb>data table notebook</a>'\n",
              "            + ' to learn more about interactive tables.';\n",
              "          element.innerHTML = '';\n",
              "          dataTable['output_type'] = 'display_data';\n",
              "          await google.colab.output.renderOutput(dataTable, element);\n",
              "          const docLink = document.createElement('div');\n",
              "          docLink.innerHTML = docLinkHtml;\n",
              "          element.appendChild(docLink);\n",
              "        }\n",
              "      </script>\n",
              "    </div>\n",
              "  </div>\n",
              "  "
            ]
          },
          "metadata": {},
          "execution_count": 27
        }
      ]
    },
    {
      "cell_type": "code",
      "source": [
        "# categorical features included to fit the model \n",
        "output = minimize(training_loss_anes(ohe, y), np.ones(ohe.shape[1]))\n",
        "\n",
        "theta_hat = output['x']\n",
        "y_prediction = ohe @ theta_hat # ohe values iterated\n",
        "\n",
        "training_error = (np.mean(loss_function(100 * (y - y_prediction)/ y_prediction))) \n",
        "print(f'Training Error: {training_error:.2f}')"
      ],
      "metadata": {
        "colab": {
          "base_uri": "https://localhost:8080/"
        },
        "id": "O_1IgAV2VZlm",
        "outputId": "d80968fd-d08f-4d04-9099-9db45bbf2ddb"
      },
      "execution_count": 28,
      "outputs": [
        {
          "output_type": "stream",
          "name": "stdout",
          "text": [
            "Training Error: 50.91\n"
          ]
        }
      ]
    },
    {
      "cell_type": "markdown",
      "source": [
        "Observation: \n",
        "* Multi linear model did better than our simple linear model"
      ],
      "metadata": {
        "id": "ZpT_XoZgdA7Z"
      }
    },
    {
      "cell_type": "code",
      "source": [
        "# applying the dummy variables from ohe to make the model simpler\n",
        "bcs = ['BCS_1.5', 'BCS_2.0', 'BCS_2.5', 'BCS_3.5', 'BCS_4.0']\n",
        "age = ['Age_<2', 'Age_2-5', 'Age_10-15', 'Age_15-20', 'Age_>20']\n",
        "sex = ['Sex_gelding', 'Sex_stallion']\n",
        "\n",
        "thetas_vars = (pd.DataFrame({'var': ohe.columns, 'theta_hat': theta_hat})\n",
        "          .set_index('var'))\n",
        "\n",
        "bcs_scatter = px.scatter(thetas_vars.loc[bcs].reset_index(), x='var', y='theta_hat', width=550, height=350)\n",
        "sex_scatter = px.scatter(thetas_vars.loc[sex].reset_index(), x='var', y='theta_hat', width=550, height=350)\n",
        "age_scatter = px.scatter(thetas_vars.loc[age].reset_index(), x='var', y='theta_hat', width=550, height=350)\n"
      ],
      "metadata": {
        "id": "IyN4Wbjvb1vG"
      },
      "execution_count": 29,
      "outputs": []
    },
    {
      "cell_type": "code",
      "source": [
        "bcs_scatter.show()"
      ],
      "metadata": {
        "colab": {
          "base_uri": "https://localhost:8080/",
          "height": 367
        },
        "id": "fo2QhBQMhLO6",
        "outputId": "7c1605c7-48d1-4b4a-9d56-21b1fb3c8108"
      },
      "execution_count": 30,
      "outputs": [
        {
          "output_type": "display_data",
          "data": {
            "text/html": [
              "<html>\n",
              "<head><meta charset=\"utf-8\" /></head>\n",
              "<body>\n",
              "    <div>            <script src=\"https://cdnjs.cloudflare.com/ajax/libs/mathjax/2.7.5/MathJax.js?config=TeX-AMS-MML_SVG\"></script><script type=\"text/javascript\">if (window.MathJax) {MathJax.Hub.Config({SVG: {font: \"STIX-Web\"}});}</script>                <script type=\"text/javascript\">window.PlotlyConfig = {MathJaxConfig: 'local'};</script>\n",
              "        <script src=\"https://cdn.plot.ly/plotly-2.8.3.min.js\"></script>                <div id=\"e75d48e4-b6c8-496c-9591-979125a1fe31\" class=\"plotly-graph-div\" style=\"height:350px; width:550px;\"></div>            <script type=\"text/javascript\">                                    window.PLOTLYENV=window.PLOTLYENV || {};                                    if (document.getElementById(\"e75d48e4-b6c8-496c-9591-979125a1fe31\")) {                    Plotly.newPlot(                        \"e75d48e4-b6c8-496c-9591-979125a1fe31\",                        [{\"hovertemplate\":\"var=%{x}<br>theta_hat=%{y}<extra></extra>\",\"legendgroup\":\"\",\"marker\":{\"color\":\"#636efa\",\"symbol\":\"circle\"},\"mode\":\"markers\",\"name\":\"\",\"orientation\":\"v\",\"showlegend\":false,\"x\":[\"BCS_1.5\",\"BCS_2.0\",\"BCS_2.5\",\"BCS_3.5\",\"BCS_4.0\"],\"xaxis\":\"x\",\"y\":[-6.713436499168462,-4.361260543488476,-4.827722258589799,8.07617025675985,14.305113374466739],\"yaxis\":\"y\",\"type\":\"scatter\"}],                        {\"template\":{\"data\":{\"bar\":[{\"error_x\":{\"color\":\"#2a3f5f\"},\"error_y\":{\"color\":\"#2a3f5f\"},\"marker\":{\"line\":{\"color\":\"#E5ECF6\",\"width\":0.5},\"pattern\":{\"fillmode\":\"overlay\",\"size\":10,\"solidity\":0.2}},\"type\":\"bar\"}],\"barpolar\":[{\"marker\":{\"line\":{\"color\":\"#E5ECF6\",\"width\":0.5},\"pattern\":{\"fillmode\":\"overlay\",\"size\":10,\"solidity\":0.2}},\"type\":\"barpolar\"}],\"carpet\":[{\"aaxis\":{\"endlinecolor\":\"#2a3f5f\",\"gridcolor\":\"white\",\"linecolor\":\"white\",\"minorgridcolor\":\"white\",\"startlinecolor\":\"#2a3f5f\"},\"baxis\":{\"endlinecolor\":\"#2a3f5f\",\"gridcolor\":\"white\",\"linecolor\":\"white\",\"minorgridcolor\":\"white\",\"startlinecolor\":\"#2a3f5f\"},\"type\":\"carpet\"}],\"choropleth\":[{\"colorbar\":{\"outlinewidth\":0,\"ticks\":\"\"},\"type\":\"choropleth\"}],\"contour\":[{\"colorbar\":{\"outlinewidth\":0,\"ticks\":\"\"},\"colorscale\":[[0.0,\"#0d0887\"],[0.1111111111111111,\"#46039f\"],[0.2222222222222222,\"#7201a8\"],[0.3333333333333333,\"#9c179e\"],[0.4444444444444444,\"#bd3786\"],[0.5555555555555556,\"#d8576b\"],[0.6666666666666666,\"#ed7953\"],[0.7777777777777778,\"#fb9f3a\"],[0.8888888888888888,\"#fdca26\"],[1.0,\"#f0f921\"]],\"type\":\"contour\"}],\"contourcarpet\":[{\"colorbar\":{\"outlinewidth\":0,\"ticks\":\"\"},\"type\":\"contourcarpet\"}],\"heatmap\":[{\"colorbar\":{\"outlinewidth\":0,\"ticks\":\"\"},\"colorscale\":[[0.0,\"#0d0887\"],[0.1111111111111111,\"#46039f\"],[0.2222222222222222,\"#7201a8\"],[0.3333333333333333,\"#9c179e\"],[0.4444444444444444,\"#bd3786\"],[0.5555555555555556,\"#d8576b\"],[0.6666666666666666,\"#ed7953\"],[0.7777777777777778,\"#fb9f3a\"],[0.8888888888888888,\"#fdca26\"],[1.0,\"#f0f921\"]],\"type\":\"heatmap\"}],\"heatmapgl\":[{\"colorbar\":{\"outlinewidth\":0,\"ticks\":\"\"},\"colorscale\":[[0.0,\"#0d0887\"],[0.1111111111111111,\"#46039f\"],[0.2222222222222222,\"#7201a8\"],[0.3333333333333333,\"#9c179e\"],[0.4444444444444444,\"#bd3786\"],[0.5555555555555556,\"#d8576b\"],[0.6666666666666666,\"#ed7953\"],[0.7777777777777778,\"#fb9f3a\"],[0.8888888888888888,\"#fdca26\"],[1.0,\"#f0f921\"]],\"type\":\"heatmapgl\"}],\"histogram\":[{\"marker\":{\"pattern\":{\"fillmode\":\"overlay\",\"size\":10,\"solidity\":0.2}},\"type\":\"histogram\"}],\"histogram2d\":[{\"colorbar\":{\"outlinewidth\":0,\"ticks\":\"\"},\"colorscale\":[[0.0,\"#0d0887\"],[0.1111111111111111,\"#46039f\"],[0.2222222222222222,\"#7201a8\"],[0.3333333333333333,\"#9c179e\"],[0.4444444444444444,\"#bd3786\"],[0.5555555555555556,\"#d8576b\"],[0.6666666666666666,\"#ed7953\"],[0.7777777777777778,\"#fb9f3a\"],[0.8888888888888888,\"#fdca26\"],[1.0,\"#f0f921\"]],\"type\":\"histogram2d\"}],\"histogram2dcontour\":[{\"colorbar\":{\"outlinewidth\":0,\"ticks\":\"\"},\"colorscale\":[[0.0,\"#0d0887\"],[0.1111111111111111,\"#46039f\"],[0.2222222222222222,\"#7201a8\"],[0.3333333333333333,\"#9c179e\"],[0.4444444444444444,\"#bd3786\"],[0.5555555555555556,\"#d8576b\"],[0.6666666666666666,\"#ed7953\"],[0.7777777777777778,\"#fb9f3a\"],[0.8888888888888888,\"#fdca26\"],[1.0,\"#f0f921\"]],\"type\":\"histogram2dcontour\"}],\"mesh3d\":[{\"colorbar\":{\"outlinewidth\":0,\"ticks\":\"\"},\"type\":\"mesh3d\"}],\"parcoords\":[{\"line\":{\"colorbar\":{\"outlinewidth\":0,\"ticks\":\"\"}},\"type\":\"parcoords\"}],\"pie\":[{\"automargin\":true,\"type\":\"pie\"}],\"scatter\":[{\"marker\":{\"colorbar\":{\"outlinewidth\":0,\"ticks\":\"\"}},\"type\":\"scatter\"}],\"scatter3d\":[{\"line\":{\"colorbar\":{\"outlinewidth\":0,\"ticks\":\"\"}},\"marker\":{\"colorbar\":{\"outlinewidth\":0,\"ticks\":\"\"}},\"type\":\"scatter3d\"}],\"scattercarpet\":[{\"marker\":{\"colorbar\":{\"outlinewidth\":0,\"ticks\":\"\"}},\"type\":\"scattercarpet\"}],\"scattergeo\":[{\"marker\":{\"colorbar\":{\"outlinewidth\":0,\"ticks\":\"\"}},\"type\":\"scattergeo\"}],\"scattergl\":[{\"marker\":{\"colorbar\":{\"outlinewidth\":0,\"ticks\":\"\"}},\"type\":\"scattergl\"}],\"scattermapbox\":[{\"marker\":{\"colorbar\":{\"outlinewidth\":0,\"ticks\":\"\"}},\"type\":\"scattermapbox\"}],\"scatterpolar\":[{\"marker\":{\"colorbar\":{\"outlinewidth\":0,\"ticks\":\"\"}},\"type\":\"scatterpolar\"}],\"scatterpolargl\":[{\"marker\":{\"colorbar\":{\"outlinewidth\":0,\"ticks\":\"\"}},\"type\":\"scatterpolargl\"}],\"scatterternary\":[{\"marker\":{\"colorbar\":{\"outlinewidth\":0,\"ticks\":\"\"}},\"type\":\"scatterternary\"}],\"surface\":[{\"colorbar\":{\"outlinewidth\":0,\"ticks\":\"\"},\"colorscale\":[[0.0,\"#0d0887\"],[0.1111111111111111,\"#46039f\"],[0.2222222222222222,\"#7201a8\"],[0.3333333333333333,\"#9c179e\"],[0.4444444444444444,\"#bd3786\"],[0.5555555555555556,\"#d8576b\"],[0.6666666666666666,\"#ed7953\"],[0.7777777777777778,\"#fb9f3a\"],[0.8888888888888888,\"#fdca26\"],[1.0,\"#f0f921\"]],\"type\":\"surface\"}],\"table\":[{\"cells\":{\"fill\":{\"color\":\"#EBF0F8\"},\"line\":{\"color\":\"white\"}},\"header\":{\"fill\":{\"color\":\"#C8D4E3\"},\"line\":{\"color\":\"white\"}},\"type\":\"table\"}]},\"layout\":{\"annotationdefaults\":{\"arrowcolor\":\"#2a3f5f\",\"arrowhead\":0,\"arrowwidth\":1},\"autotypenumbers\":\"strict\",\"coloraxis\":{\"colorbar\":{\"outlinewidth\":0,\"ticks\":\"\"}},\"colorscale\":{\"diverging\":[[0,\"#8e0152\"],[0.1,\"#c51b7d\"],[0.2,\"#de77ae\"],[0.3,\"#f1b6da\"],[0.4,\"#fde0ef\"],[0.5,\"#f7f7f7\"],[0.6,\"#e6f5d0\"],[0.7,\"#b8e186\"],[0.8,\"#7fbc41\"],[0.9,\"#4d9221\"],[1,\"#276419\"]],\"sequential\":[[0.0,\"#0d0887\"],[0.1111111111111111,\"#46039f\"],[0.2222222222222222,\"#7201a8\"],[0.3333333333333333,\"#9c179e\"],[0.4444444444444444,\"#bd3786\"],[0.5555555555555556,\"#d8576b\"],[0.6666666666666666,\"#ed7953\"],[0.7777777777777778,\"#fb9f3a\"],[0.8888888888888888,\"#fdca26\"],[1.0,\"#f0f921\"]],\"sequentialminus\":[[0.0,\"#0d0887\"],[0.1111111111111111,\"#46039f\"],[0.2222222222222222,\"#7201a8\"],[0.3333333333333333,\"#9c179e\"],[0.4444444444444444,\"#bd3786\"],[0.5555555555555556,\"#d8576b\"],[0.6666666666666666,\"#ed7953\"],[0.7777777777777778,\"#fb9f3a\"],[0.8888888888888888,\"#fdca26\"],[1.0,\"#f0f921\"]]},\"colorway\":[\"#636efa\",\"#EF553B\",\"#00cc96\",\"#ab63fa\",\"#FFA15A\",\"#19d3f3\",\"#FF6692\",\"#B6E880\",\"#FF97FF\",\"#FECB52\"],\"font\":{\"color\":\"#2a3f5f\"},\"geo\":{\"bgcolor\":\"white\",\"lakecolor\":\"white\",\"landcolor\":\"#E5ECF6\",\"showlakes\":true,\"showland\":true,\"subunitcolor\":\"white\"},\"hoverlabel\":{\"align\":\"left\"},\"hovermode\":\"closest\",\"mapbox\":{\"style\":\"light\"},\"paper_bgcolor\":\"white\",\"plot_bgcolor\":\"#E5ECF6\",\"polar\":{\"angularaxis\":{\"gridcolor\":\"white\",\"linecolor\":\"white\",\"ticks\":\"\"},\"bgcolor\":\"#E5ECF6\",\"radialaxis\":{\"gridcolor\":\"white\",\"linecolor\":\"white\",\"ticks\":\"\"}},\"scene\":{\"xaxis\":{\"backgroundcolor\":\"#E5ECF6\",\"gridcolor\":\"white\",\"gridwidth\":2,\"linecolor\":\"white\",\"showbackground\":true,\"ticks\":\"\",\"zerolinecolor\":\"white\"},\"yaxis\":{\"backgroundcolor\":\"#E5ECF6\",\"gridcolor\":\"white\",\"gridwidth\":2,\"linecolor\":\"white\",\"showbackground\":true,\"ticks\":\"\",\"zerolinecolor\":\"white\"},\"zaxis\":{\"backgroundcolor\":\"#E5ECF6\",\"gridcolor\":\"white\",\"gridwidth\":2,\"linecolor\":\"white\",\"showbackground\":true,\"ticks\":\"\",\"zerolinecolor\":\"white\"}},\"shapedefaults\":{\"line\":{\"color\":\"#2a3f5f\"}},\"ternary\":{\"aaxis\":{\"gridcolor\":\"white\",\"linecolor\":\"white\",\"ticks\":\"\"},\"baxis\":{\"gridcolor\":\"white\",\"linecolor\":\"white\",\"ticks\":\"\"},\"bgcolor\":\"#E5ECF6\",\"caxis\":{\"gridcolor\":\"white\",\"linecolor\":\"white\",\"ticks\":\"\"}},\"title\":{\"x\":0.05},\"xaxis\":{\"automargin\":true,\"gridcolor\":\"white\",\"linecolor\":\"white\",\"ticks\":\"\",\"title\":{\"standoff\":15},\"zerolinecolor\":\"white\",\"zerolinewidth\":2},\"yaxis\":{\"automargin\":true,\"gridcolor\":\"white\",\"linecolor\":\"white\",\"ticks\":\"\",\"title\":{\"standoff\":15},\"zerolinecolor\":\"white\",\"zerolinewidth\":2}}},\"xaxis\":{\"anchor\":\"y\",\"domain\":[0.0,1.0],\"title\":{\"text\":\"var\"}},\"yaxis\":{\"anchor\":\"x\",\"domain\":[0.0,1.0],\"title\":{\"text\":\"theta_hat\"}},\"legend\":{\"tracegroupgap\":0},\"margin\":{\"t\":60},\"height\":350,\"width\":550},                        {\"responsive\": true}                    ).then(function(){\n",
              "                            \n",
              "var gd = document.getElementById('e75d48e4-b6c8-496c-9591-979125a1fe31');\n",
              "var x = new MutationObserver(function (mutations, observer) {{\n",
              "        var display = window.getComputedStyle(gd).display;\n",
              "        if (!display || display === 'none') {{\n",
              "            console.log([gd, 'removed!']);\n",
              "            Plotly.purge(gd);\n",
              "            observer.disconnect();\n",
              "        }}\n",
              "}});\n",
              "\n",
              "// Listen for the removal of the full notebook cells\n",
              "var notebookContainer = gd.closest('#notebook-container');\n",
              "if (notebookContainer) {{\n",
              "    x.observe(notebookContainer, {childList: true});\n",
              "}}\n",
              "\n",
              "// Listen for the clearing of the current output cell\n",
              "var outputEl = gd.closest('.output');\n",
              "if (outputEl) {{\n",
              "    x.observe(outputEl, {childList: true});\n",
              "}}\n",
              "\n",
              "                        })                };                            </script>        </div>\n",
              "</body>\n",
              "</html>"
            ]
          },
          "metadata": {}
        }
      ]
    },
    {
      "cell_type": "code",
      "source": [
        "sex_scatter.show()"
      ],
      "metadata": {
        "colab": {
          "base_uri": "https://localhost:8080/",
          "height": 367
        },
        "id": "8-1SNUvGhR0S",
        "outputId": "489f043b-bb3c-46af-f4fe-f74e30d998ec"
      },
      "execution_count": 31,
      "outputs": [
        {
          "output_type": "display_data",
          "data": {
            "text/html": [
              "<html>\n",
              "<head><meta charset=\"utf-8\" /></head>\n",
              "<body>\n",
              "    <div>            <script src=\"https://cdnjs.cloudflare.com/ajax/libs/mathjax/2.7.5/MathJax.js?config=TeX-AMS-MML_SVG\"></script><script type=\"text/javascript\">if (window.MathJax) {MathJax.Hub.Config({SVG: {font: \"STIX-Web\"}});}</script>                <script type=\"text/javascript\">window.PlotlyConfig = {MathJaxConfig: 'local'};</script>\n",
              "        <script src=\"https://cdn.plot.ly/plotly-2.8.3.min.js\"></script>                <div id=\"af1bab79-f4b3-482d-aba2-2a50165a199a\" class=\"plotly-graph-div\" style=\"height:350px; width:550px;\"></div>            <script type=\"text/javascript\">                                    window.PLOTLYENV=window.PLOTLYENV || {};                                    if (document.getElementById(\"af1bab79-f4b3-482d-aba2-2a50165a199a\")) {                    Plotly.newPlot(                        \"af1bab79-f4b3-482d-aba2-2a50165a199a\",                        [{\"hovertemplate\":\"var=%{x}<br>theta_hat=%{y}<extra></extra>\",\"legendgroup\":\"\",\"marker\":{\"color\":\"#636efa\",\"symbol\":\"circle\"},\"mode\":\"markers\",\"name\":\"\",\"orientation\":\"v\",\"showlegend\":false,\"x\":[\"Sex_gelding\",\"Sex_stallion\"],\"xaxis\":\"x\",\"y\":[2.1779097955624467,2.1495702205882887],\"yaxis\":\"y\",\"type\":\"scatter\"}],                        {\"template\":{\"data\":{\"bar\":[{\"error_x\":{\"color\":\"#2a3f5f\"},\"error_y\":{\"color\":\"#2a3f5f\"},\"marker\":{\"line\":{\"color\":\"#E5ECF6\",\"width\":0.5},\"pattern\":{\"fillmode\":\"overlay\",\"size\":10,\"solidity\":0.2}},\"type\":\"bar\"}],\"barpolar\":[{\"marker\":{\"line\":{\"color\":\"#E5ECF6\",\"width\":0.5},\"pattern\":{\"fillmode\":\"overlay\",\"size\":10,\"solidity\":0.2}},\"type\":\"barpolar\"}],\"carpet\":[{\"aaxis\":{\"endlinecolor\":\"#2a3f5f\",\"gridcolor\":\"white\",\"linecolor\":\"white\",\"minorgridcolor\":\"white\",\"startlinecolor\":\"#2a3f5f\"},\"baxis\":{\"endlinecolor\":\"#2a3f5f\",\"gridcolor\":\"white\",\"linecolor\":\"white\",\"minorgridcolor\":\"white\",\"startlinecolor\":\"#2a3f5f\"},\"type\":\"carpet\"}],\"choropleth\":[{\"colorbar\":{\"outlinewidth\":0,\"ticks\":\"\"},\"type\":\"choropleth\"}],\"contour\":[{\"colorbar\":{\"outlinewidth\":0,\"ticks\":\"\"},\"colorscale\":[[0.0,\"#0d0887\"],[0.1111111111111111,\"#46039f\"],[0.2222222222222222,\"#7201a8\"],[0.3333333333333333,\"#9c179e\"],[0.4444444444444444,\"#bd3786\"],[0.5555555555555556,\"#d8576b\"],[0.6666666666666666,\"#ed7953\"],[0.7777777777777778,\"#fb9f3a\"],[0.8888888888888888,\"#fdca26\"],[1.0,\"#f0f921\"]],\"type\":\"contour\"}],\"contourcarpet\":[{\"colorbar\":{\"outlinewidth\":0,\"ticks\":\"\"},\"type\":\"contourcarpet\"}],\"heatmap\":[{\"colorbar\":{\"outlinewidth\":0,\"ticks\":\"\"},\"colorscale\":[[0.0,\"#0d0887\"],[0.1111111111111111,\"#46039f\"],[0.2222222222222222,\"#7201a8\"],[0.3333333333333333,\"#9c179e\"],[0.4444444444444444,\"#bd3786\"],[0.5555555555555556,\"#d8576b\"],[0.6666666666666666,\"#ed7953\"],[0.7777777777777778,\"#fb9f3a\"],[0.8888888888888888,\"#fdca26\"],[1.0,\"#f0f921\"]],\"type\":\"heatmap\"}],\"heatmapgl\":[{\"colorbar\":{\"outlinewidth\":0,\"ticks\":\"\"},\"colorscale\":[[0.0,\"#0d0887\"],[0.1111111111111111,\"#46039f\"],[0.2222222222222222,\"#7201a8\"],[0.3333333333333333,\"#9c179e\"],[0.4444444444444444,\"#bd3786\"],[0.5555555555555556,\"#d8576b\"],[0.6666666666666666,\"#ed7953\"],[0.7777777777777778,\"#fb9f3a\"],[0.8888888888888888,\"#fdca26\"],[1.0,\"#f0f921\"]],\"type\":\"heatmapgl\"}],\"histogram\":[{\"marker\":{\"pattern\":{\"fillmode\":\"overlay\",\"size\":10,\"solidity\":0.2}},\"type\":\"histogram\"}],\"histogram2d\":[{\"colorbar\":{\"outlinewidth\":0,\"ticks\":\"\"},\"colorscale\":[[0.0,\"#0d0887\"],[0.1111111111111111,\"#46039f\"],[0.2222222222222222,\"#7201a8\"],[0.3333333333333333,\"#9c179e\"],[0.4444444444444444,\"#bd3786\"],[0.5555555555555556,\"#d8576b\"],[0.6666666666666666,\"#ed7953\"],[0.7777777777777778,\"#fb9f3a\"],[0.8888888888888888,\"#fdca26\"],[1.0,\"#f0f921\"]],\"type\":\"histogram2d\"}],\"histogram2dcontour\":[{\"colorbar\":{\"outlinewidth\":0,\"ticks\":\"\"},\"colorscale\":[[0.0,\"#0d0887\"],[0.1111111111111111,\"#46039f\"],[0.2222222222222222,\"#7201a8\"],[0.3333333333333333,\"#9c179e\"],[0.4444444444444444,\"#bd3786\"],[0.5555555555555556,\"#d8576b\"],[0.6666666666666666,\"#ed7953\"],[0.7777777777777778,\"#fb9f3a\"],[0.8888888888888888,\"#fdca26\"],[1.0,\"#f0f921\"]],\"type\":\"histogram2dcontour\"}],\"mesh3d\":[{\"colorbar\":{\"outlinewidth\":0,\"ticks\":\"\"},\"type\":\"mesh3d\"}],\"parcoords\":[{\"line\":{\"colorbar\":{\"outlinewidth\":0,\"ticks\":\"\"}},\"type\":\"parcoords\"}],\"pie\":[{\"automargin\":true,\"type\":\"pie\"}],\"scatter\":[{\"marker\":{\"colorbar\":{\"outlinewidth\":0,\"ticks\":\"\"}},\"type\":\"scatter\"}],\"scatter3d\":[{\"line\":{\"colorbar\":{\"outlinewidth\":0,\"ticks\":\"\"}},\"marker\":{\"colorbar\":{\"outlinewidth\":0,\"ticks\":\"\"}},\"type\":\"scatter3d\"}],\"scattercarpet\":[{\"marker\":{\"colorbar\":{\"outlinewidth\":0,\"ticks\":\"\"}},\"type\":\"scattercarpet\"}],\"scattergeo\":[{\"marker\":{\"colorbar\":{\"outlinewidth\":0,\"ticks\":\"\"}},\"type\":\"scattergeo\"}],\"scattergl\":[{\"marker\":{\"colorbar\":{\"outlinewidth\":0,\"ticks\":\"\"}},\"type\":\"scattergl\"}],\"scattermapbox\":[{\"marker\":{\"colorbar\":{\"outlinewidth\":0,\"ticks\":\"\"}},\"type\":\"scattermapbox\"}],\"scatterpolar\":[{\"marker\":{\"colorbar\":{\"outlinewidth\":0,\"ticks\":\"\"}},\"type\":\"scatterpolar\"}],\"scatterpolargl\":[{\"marker\":{\"colorbar\":{\"outlinewidth\":0,\"ticks\":\"\"}},\"type\":\"scatterpolargl\"}],\"scatterternary\":[{\"marker\":{\"colorbar\":{\"outlinewidth\":0,\"ticks\":\"\"}},\"type\":\"scatterternary\"}],\"surface\":[{\"colorbar\":{\"outlinewidth\":0,\"ticks\":\"\"},\"colorscale\":[[0.0,\"#0d0887\"],[0.1111111111111111,\"#46039f\"],[0.2222222222222222,\"#7201a8\"],[0.3333333333333333,\"#9c179e\"],[0.4444444444444444,\"#bd3786\"],[0.5555555555555556,\"#d8576b\"],[0.6666666666666666,\"#ed7953\"],[0.7777777777777778,\"#fb9f3a\"],[0.8888888888888888,\"#fdca26\"],[1.0,\"#f0f921\"]],\"type\":\"surface\"}],\"table\":[{\"cells\":{\"fill\":{\"color\":\"#EBF0F8\"},\"line\":{\"color\":\"white\"}},\"header\":{\"fill\":{\"color\":\"#C8D4E3\"},\"line\":{\"color\":\"white\"}},\"type\":\"table\"}]},\"layout\":{\"annotationdefaults\":{\"arrowcolor\":\"#2a3f5f\",\"arrowhead\":0,\"arrowwidth\":1},\"autotypenumbers\":\"strict\",\"coloraxis\":{\"colorbar\":{\"outlinewidth\":0,\"ticks\":\"\"}},\"colorscale\":{\"diverging\":[[0,\"#8e0152\"],[0.1,\"#c51b7d\"],[0.2,\"#de77ae\"],[0.3,\"#f1b6da\"],[0.4,\"#fde0ef\"],[0.5,\"#f7f7f7\"],[0.6,\"#e6f5d0\"],[0.7,\"#b8e186\"],[0.8,\"#7fbc41\"],[0.9,\"#4d9221\"],[1,\"#276419\"]],\"sequential\":[[0.0,\"#0d0887\"],[0.1111111111111111,\"#46039f\"],[0.2222222222222222,\"#7201a8\"],[0.3333333333333333,\"#9c179e\"],[0.4444444444444444,\"#bd3786\"],[0.5555555555555556,\"#d8576b\"],[0.6666666666666666,\"#ed7953\"],[0.7777777777777778,\"#fb9f3a\"],[0.8888888888888888,\"#fdca26\"],[1.0,\"#f0f921\"]],\"sequentialminus\":[[0.0,\"#0d0887\"],[0.1111111111111111,\"#46039f\"],[0.2222222222222222,\"#7201a8\"],[0.3333333333333333,\"#9c179e\"],[0.4444444444444444,\"#bd3786\"],[0.5555555555555556,\"#d8576b\"],[0.6666666666666666,\"#ed7953\"],[0.7777777777777778,\"#fb9f3a\"],[0.8888888888888888,\"#fdca26\"],[1.0,\"#f0f921\"]]},\"colorway\":[\"#636efa\",\"#EF553B\",\"#00cc96\",\"#ab63fa\",\"#FFA15A\",\"#19d3f3\",\"#FF6692\",\"#B6E880\",\"#FF97FF\",\"#FECB52\"],\"font\":{\"color\":\"#2a3f5f\"},\"geo\":{\"bgcolor\":\"white\",\"lakecolor\":\"white\",\"landcolor\":\"#E5ECF6\",\"showlakes\":true,\"showland\":true,\"subunitcolor\":\"white\"},\"hoverlabel\":{\"align\":\"left\"},\"hovermode\":\"closest\",\"mapbox\":{\"style\":\"light\"},\"paper_bgcolor\":\"white\",\"plot_bgcolor\":\"#E5ECF6\",\"polar\":{\"angularaxis\":{\"gridcolor\":\"white\",\"linecolor\":\"white\",\"ticks\":\"\"},\"bgcolor\":\"#E5ECF6\",\"radialaxis\":{\"gridcolor\":\"white\",\"linecolor\":\"white\",\"ticks\":\"\"}},\"scene\":{\"xaxis\":{\"backgroundcolor\":\"#E5ECF6\",\"gridcolor\":\"white\",\"gridwidth\":2,\"linecolor\":\"white\",\"showbackground\":true,\"ticks\":\"\",\"zerolinecolor\":\"white\"},\"yaxis\":{\"backgroundcolor\":\"#E5ECF6\",\"gridcolor\":\"white\",\"gridwidth\":2,\"linecolor\":\"white\",\"showbackground\":true,\"ticks\":\"\",\"zerolinecolor\":\"white\"},\"zaxis\":{\"backgroundcolor\":\"#E5ECF6\",\"gridcolor\":\"white\",\"gridwidth\":2,\"linecolor\":\"white\",\"showbackground\":true,\"ticks\":\"\",\"zerolinecolor\":\"white\"}},\"shapedefaults\":{\"line\":{\"color\":\"#2a3f5f\"}},\"ternary\":{\"aaxis\":{\"gridcolor\":\"white\",\"linecolor\":\"white\",\"ticks\":\"\"},\"baxis\":{\"gridcolor\":\"white\",\"linecolor\":\"white\",\"ticks\":\"\"},\"bgcolor\":\"#E5ECF6\",\"caxis\":{\"gridcolor\":\"white\",\"linecolor\":\"white\",\"ticks\":\"\"}},\"title\":{\"x\":0.05},\"xaxis\":{\"automargin\":true,\"gridcolor\":\"white\",\"linecolor\":\"white\",\"ticks\":\"\",\"title\":{\"standoff\":15},\"zerolinecolor\":\"white\",\"zerolinewidth\":2},\"yaxis\":{\"automargin\":true,\"gridcolor\":\"white\",\"linecolor\":\"white\",\"ticks\":\"\",\"title\":{\"standoff\":15},\"zerolinecolor\":\"white\",\"zerolinewidth\":2}}},\"xaxis\":{\"anchor\":\"y\",\"domain\":[0.0,1.0],\"title\":{\"text\":\"var\"}},\"yaxis\":{\"anchor\":\"x\",\"domain\":[0.0,1.0],\"title\":{\"text\":\"theta_hat\"}},\"legend\":{\"tracegroupgap\":0},\"margin\":{\"t\":60},\"height\":350,\"width\":550},                        {\"responsive\": true}                    ).then(function(){\n",
              "                            \n",
              "var gd = document.getElementById('af1bab79-f4b3-482d-aba2-2a50165a199a');\n",
              "var x = new MutationObserver(function (mutations, observer) {{\n",
              "        var display = window.getComputedStyle(gd).display;\n",
              "        if (!display || display === 'none') {{\n",
              "            console.log([gd, 'removed!']);\n",
              "            Plotly.purge(gd);\n",
              "            observer.disconnect();\n",
              "        }}\n",
              "}});\n",
              "\n",
              "// Listen for the removal of the full notebook cells\n",
              "var notebookContainer = gd.closest('#notebook-container');\n",
              "if (notebookContainer) {{\n",
              "    x.observe(notebookContainer, {childList: true});\n",
              "}}\n",
              "\n",
              "// Listen for the clearing of the current output cell\n",
              "var outputEl = gd.closest('.output');\n",
              "if (outputEl) {{\n",
              "    x.observe(outputEl, {childList: true});\n",
              "}}\n",
              "\n",
              "                        })                };                            </script>        </div>\n",
              "</body>\n",
              "</html>"
            ]
          },
          "metadata": {}
        }
      ]
    },
    {
      "cell_type": "code",
      "source": [
        "age_scatter.show()"
      ],
      "metadata": {
        "colab": {
          "base_uri": "https://localhost:8080/",
          "height": 367
        },
        "id": "JAILLIsTheqB",
        "outputId": "8e77b490-feb4-4dc8-c83e-24628df35d5b"
      },
      "execution_count": 32,
      "outputs": [
        {
          "output_type": "display_data",
          "data": {
            "text/html": [
              "<html>\n",
              "<head><meta charset=\"utf-8\" /></head>\n",
              "<body>\n",
              "    <div>            <script src=\"https://cdnjs.cloudflare.com/ajax/libs/mathjax/2.7.5/MathJax.js?config=TeX-AMS-MML_SVG\"></script><script type=\"text/javascript\">if (window.MathJax) {MathJax.Hub.Config({SVG: {font: \"STIX-Web\"}});}</script>                <script type=\"text/javascript\">window.PlotlyConfig = {MathJaxConfig: 'local'};</script>\n",
              "        <script src=\"https://cdn.plot.ly/plotly-2.8.3.min.js\"></script>                <div id=\"e77581c7-1971-4e9b-b6d6-3fde784ff758\" class=\"plotly-graph-div\" style=\"height:350px; width:550px;\"></div>            <script type=\"text/javascript\">                                    window.PLOTLYENV=window.PLOTLYENV || {};                                    if (document.getElementById(\"e77581c7-1971-4e9b-b6d6-3fde784ff758\")) {                    Plotly.newPlot(                        \"e77581c7-1971-4e9b-b6d6-3fde784ff758\",                        [{\"hovertemplate\":\"var=%{x}<br>theta_hat=%{y}<extra></extra>\",\"legendgroup\":\"\",\"marker\":{\"color\":\"#636efa\",\"symbol\":\"circle\"},\"mode\":\"markers\",\"name\":\"\",\"orientation\":\"v\",\"showlegend\":false,\"x\":[\"Age_<2\",\"Age_2-5\",\"Age_10-15\",\"Age_15-20\",\"Age_>20\"],\"xaxis\":\"x\",\"y\":[-6.004487784802286,-3.5176872013251987,0.9809614128057726,0.32632847170194,-1.347057945313129],\"yaxis\":\"y\",\"type\":\"scatter\"}],                        {\"template\":{\"data\":{\"bar\":[{\"error_x\":{\"color\":\"#2a3f5f\"},\"error_y\":{\"color\":\"#2a3f5f\"},\"marker\":{\"line\":{\"color\":\"#E5ECF6\",\"width\":0.5},\"pattern\":{\"fillmode\":\"overlay\",\"size\":10,\"solidity\":0.2}},\"type\":\"bar\"}],\"barpolar\":[{\"marker\":{\"line\":{\"color\":\"#E5ECF6\",\"width\":0.5},\"pattern\":{\"fillmode\":\"overlay\",\"size\":10,\"solidity\":0.2}},\"type\":\"barpolar\"}],\"carpet\":[{\"aaxis\":{\"endlinecolor\":\"#2a3f5f\",\"gridcolor\":\"white\",\"linecolor\":\"white\",\"minorgridcolor\":\"white\",\"startlinecolor\":\"#2a3f5f\"},\"baxis\":{\"endlinecolor\":\"#2a3f5f\",\"gridcolor\":\"white\",\"linecolor\":\"white\",\"minorgridcolor\":\"white\",\"startlinecolor\":\"#2a3f5f\"},\"type\":\"carpet\"}],\"choropleth\":[{\"colorbar\":{\"outlinewidth\":0,\"ticks\":\"\"},\"type\":\"choropleth\"}],\"contour\":[{\"colorbar\":{\"outlinewidth\":0,\"ticks\":\"\"},\"colorscale\":[[0.0,\"#0d0887\"],[0.1111111111111111,\"#46039f\"],[0.2222222222222222,\"#7201a8\"],[0.3333333333333333,\"#9c179e\"],[0.4444444444444444,\"#bd3786\"],[0.5555555555555556,\"#d8576b\"],[0.6666666666666666,\"#ed7953\"],[0.7777777777777778,\"#fb9f3a\"],[0.8888888888888888,\"#fdca26\"],[1.0,\"#f0f921\"]],\"type\":\"contour\"}],\"contourcarpet\":[{\"colorbar\":{\"outlinewidth\":0,\"ticks\":\"\"},\"type\":\"contourcarpet\"}],\"heatmap\":[{\"colorbar\":{\"outlinewidth\":0,\"ticks\":\"\"},\"colorscale\":[[0.0,\"#0d0887\"],[0.1111111111111111,\"#46039f\"],[0.2222222222222222,\"#7201a8\"],[0.3333333333333333,\"#9c179e\"],[0.4444444444444444,\"#bd3786\"],[0.5555555555555556,\"#d8576b\"],[0.6666666666666666,\"#ed7953\"],[0.7777777777777778,\"#fb9f3a\"],[0.8888888888888888,\"#fdca26\"],[1.0,\"#f0f921\"]],\"type\":\"heatmap\"}],\"heatmapgl\":[{\"colorbar\":{\"outlinewidth\":0,\"ticks\":\"\"},\"colorscale\":[[0.0,\"#0d0887\"],[0.1111111111111111,\"#46039f\"],[0.2222222222222222,\"#7201a8\"],[0.3333333333333333,\"#9c179e\"],[0.4444444444444444,\"#bd3786\"],[0.5555555555555556,\"#d8576b\"],[0.6666666666666666,\"#ed7953\"],[0.7777777777777778,\"#fb9f3a\"],[0.8888888888888888,\"#fdca26\"],[1.0,\"#f0f921\"]],\"type\":\"heatmapgl\"}],\"histogram\":[{\"marker\":{\"pattern\":{\"fillmode\":\"overlay\",\"size\":10,\"solidity\":0.2}},\"type\":\"histogram\"}],\"histogram2d\":[{\"colorbar\":{\"outlinewidth\":0,\"ticks\":\"\"},\"colorscale\":[[0.0,\"#0d0887\"],[0.1111111111111111,\"#46039f\"],[0.2222222222222222,\"#7201a8\"],[0.3333333333333333,\"#9c179e\"],[0.4444444444444444,\"#bd3786\"],[0.5555555555555556,\"#d8576b\"],[0.6666666666666666,\"#ed7953\"],[0.7777777777777778,\"#fb9f3a\"],[0.8888888888888888,\"#fdca26\"],[1.0,\"#f0f921\"]],\"type\":\"histogram2d\"}],\"histogram2dcontour\":[{\"colorbar\":{\"outlinewidth\":0,\"ticks\":\"\"},\"colorscale\":[[0.0,\"#0d0887\"],[0.1111111111111111,\"#46039f\"],[0.2222222222222222,\"#7201a8\"],[0.3333333333333333,\"#9c179e\"],[0.4444444444444444,\"#bd3786\"],[0.5555555555555556,\"#d8576b\"],[0.6666666666666666,\"#ed7953\"],[0.7777777777777778,\"#fb9f3a\"],[0.8888888888888888,\"#fdca26\"],[1.0,\"#f0f921\"]],\"type\":\"histogram2dcontour\"}],\"mesh3d\":[{\"colorbar\":{\"outlinewidth\":0,\"ticks\":\"\"},\"type\":\"mesh3d\"}],\"parcoords\":[{\"line\":{\"colorbar\":{\"outlinewidth\":0,\"ticks\":\"\"}},\"type\":\"parcoords\"}],\"pie\":[{\"automargin\":true,\"type\":\"pie\"}],\"scatter\":[{\"marker\":{\"colorbar\":{\"outlinewidth\":0,\"ticks\":\"\"}},\"type\":\"scatter\"}],\"scatter3d\":[{\"line\":{\"colorbar\":{\"outlinewidth\":0,\"ticks\":\"\"}},\"marker\":{\"colorbar\":{\"outlinewidth\":0,\"ticks\":\"\"}},\"type\":\"scatter3d\"}],\"scattercarpet\":[{\"marker\":{\"colorbar\":{\"outlinewidth\":0,\"ticks\":\"\"}},\"type\":\"scattercarpet\"}],\"scattergeo\":[{\"marker\":{\"colorbar\":{\"outlinewidth\":0,\"ticks\":\"\"}},\"type\":\"scattergeo\"}],\"scattergl\":[{\"marker\":{\"colorbar\":{\"outlinewidth\":0,\"ticks\":\"\"}},\"type\":\"scattergl\"}],\"scattermapbox\":[{\"marker\":{\"colorbar\":{\"outlinewidth\":0,\"ticks\":\"\"}},\"type\":\"scattermapbox\"}],\"scatterpolar\":[{\"marker\":{\"colorbar\":{\"outlinewidth\":0,\"ticks\":\"\"}},\"type\":\"scatterpolar\"}],\"scatterpolargl\":[{\"marker\":{\"colorbar\":{\"outlinewidth\":0,\"ticks\":\"\"}},\"type\":\"scatterpolargl\"}],\"scatterternary\":[{\"marker\":{\"colorbar\":{\"outlinewidth\":0,\"ticks\":\"\"}},\"type\":\"scatterternary\"}],\"surface\":[{\"colorbar\":{\"outlinewidth\":0,\"ticks\":\"\"},\"colorscale\":[[0.0,\"#0d0887\"],[0.1111111111111111,\"#46039f\"],[0.2222222222222222,\"#7201a8\"],[0.3333333333333333,\"#9c179e\"],[0.4444444444444444,\"#bd3786\"],[0.5555555555555556,\"#d8576b\"],[0.6666666666666666,\"#ed7953\"],[0.7777777777777778,\"#fb9f3a\"],[0.8888888888888888,\"#fdca26\"],[1.0,\"#f0f921\"]],\"type\":\"surface\"}],\"table\":[{\"cells\":{\"fill\":{\"color\":\"#EBF0F8\"},\"line\":{\"color\":\"white\"}},\"header\":{\"fill\":{\"color\":\"#C8D4E3\"},\"line\":{\"color\":\"white\"}},\"type\":\"table\"}]},\"layout\":{\"annotationdefaults\":{\"arrowcolor\":\"#2a3f5f\",\"arrowhead\":0,\"arrowwidth\":1},\"autotypenumbers\":\"strict\",\"coloraxis\":{\"colorbar\":{\"outlinewidth\":0,\"ticks\":\"\"}},\"colorscale\":{\"diverging\":[[0,\"#8e0152\"],[0.1,\"#c51b7d\"],[0.2,\"#de77ae\"],[0.3,\"#f1b6da\"],[0.4,\"#fde0ef\"],[0.5,\"#f7f7f7\"],[0.6,\"#e6f5d0\"],[0.7,\"#b8e186\"],[0.8,\"#7fbc41\"],[0.9,\"#4d9221\"],[1,\"#276419\"]],\"sequential\":[[0.0,\"#0d0887\"],[0.1111111111111111,\"#46039f\"],[0.2222222222222222,\"#7201a8\"],[0.3333333333333333,\"#9c179e\"],[0.4444444444444444,\"#bd3786\"],[0.5555555555555556,\"#d8576b\"],[0.6666666666666666,\"#ed7953\"],[0.7777777777777778,\"#fb9f3a\"],[0.8888888888888888,\"#fdca26\"],[1.0,\"#f0f921\"]],\"sequentialminus\":[[0.0,\"#0d0887\"],[0.1111111111111111,\"#46039f\"],[0.2222222222222222,\"#7201a8\"],[0.3333333333333333,\"#9c179e\"],[0.4444444444444444,\"#bd3786\"],[0.5555555555555556,\"#d8576b\"],[0.6666666666666666,\"#ed7953\"],[0.7777777777777778,\"#fb9f3a\"],[0.8888888888888888,\"#fdca26\"],[1.0,\"#f0f921\"]]},\"colorway\":[\"#636efa\",\"#EF553B\",\"#00cc96\",\"#ab63fa\",\"#FFA15A\",\"#19d3f3\",\"#FF6692\",\"#B6E880\",\"#FF97FF\",\"#FECB52\"],\"font\":{\"color\":\"#2a3f5f\"},\"geo\":{\"bgcolor\":\"white\",\"lakecolor\":\"white\",\"landcolor\":\"#E5ECF6\",\"showlakes\":true,\"showland\":true,\"subunitcolor\":\"white\"},\"hoverlabel\":{\"align\":\"left\"},\"hovermode\":\"closest\",\"mapbox\":{\"style\":\"light\"},\"paper_bgcolor\":\"white\",\"plot_bgcolor\":\"#E5ECF6\",\"polar\":{\"angularaxis\":{\"gridcolor\":\"white\",\"linecolor\":\"white\",\"ticks\":\"\"},\"bgcolor\":\"#E5ECF6\",\"radialaxis\":{\"gridcolor\":\"white\",\"linecolor\":\"white\",\"ticks\":\"\"}},\"scene\":{\"xaxis\":{\"backgroundcolor\":\"#E5ECF6\",\"gridcolor\":\"white\",\"gridwidth\":2,\"linecolor\":\"white\",\"showbackground\":true,\"ticks\":\"\",\"zerolinecolor\":\"white\"},\"yaxis\":{\"backgroundcolor\":\"#E5ECF6\",\"gridcolor\":\"white\",\"gridwidth\":2,\"linecolor\":\"white\",\"showbackground\":true,\"ticks\":\"\",\"zerolinecolor\":\"white\"},\"zaxis\":{\"backgroundcolor\":\"#E5ECF6\",\"gridcolor\":\"white\",\"gridwidth\":2,\"linecolor\":\"white\",\"showbackground\":true,\"ticks\":\"\",\"zerolinecolor\":\"white\"}},\"shapedefaults\":{\"line\":{\"color\":\"#2a3f5f\"}},\"ternary\":{\"aaxis\":{\"gridcolor\":\"white\",\"linecolor\":\"white\",\"ticks\":\"\"},\"baxis\":{\"gridcolor\":\"white\",\"linecolor\":\"white\",\"ticks\":\"\"},\"bgcolor\":\"#E5ECF6\",\"caxis\":{\"gridcolor\":\"white\",\"linecolor\":\"white\",\"ticks\":\"\"}},\"title\":{\"x\":0.05},\"xaxis\":{\"automargin\":true,\"gridcolor\":\"white\",\"linecolor\":\"white\",\"ticks\":\"\",\"title\":{\"standoff\":15},\"zerolinecolor\":\"white\",\"zerolinewidth\":2},\"yaxis\":{\"automargin\":true,\"gridcolor\":\"white\",\"linecolor\":\"white\",\"ticks\":\"\",\"title\":{\"standoff\":15},\"zerolinecolor\":\"white\",\"zerolinewidth\":2}}},\"xaxis\":{\"anchor\":\"y\",\"domain\":[0.0,1.0],\"title\":{\"text\":\"var\"}},\"yaxis\":{\"anchor\":\"x\",\"domain\":[0.0,1.0],\"title\":{\"text\":\"theta_hat\"}},\"legend\":{\"tracegroupgap\":0},\"margin\":{\"t\":60},\"height\":350,\"width\":550},                        {\"responsive\": true}                    ).then(function(){\n",
              "                            \n",
              "var gd = document.getElementById('e77581c7-1971-4e9b-b6d6-3fde784ff758');\n",
              "var x = new MutationObserver(function (mutations, observer) {{\n",
              "        var display = window.getComputedStyle(gd).display;\n",
              "        if (!display || display === 'none') {{\n",
              "            console.log([gd, 'removed!']);\n",
              "            Plotly.purge(gd);\n",
              "            observer.disconnect();\n",
              "        }}\n",
              "}});\n",
              "\n",
              "// Listen for the removal of the full notebook cells\n",
              "var notebookContainer = gd.closest('#notebook-container');\n",
              "if (notebookContainer) {{\n",
              "    x.observe(notebookContainer, {childList: true});\n",
              "}}\n",
              "\n",
              "// Listen for the clearing of the current output cell\n",
              "var outputEl = gd.closest('.output');\n",
              "if (outputEl) {{\n",
              "    x.observe(outputEl, {childList: true});\n",
              "}}\n",
              "\n",
              "                        })                };                            </script>        </div>\n",
              "</body>\n",
              "</html>"
            ]
          },
          "metadata": {}
        }
      ]
    },
    {
      "cell_type": "code",
      "source": [
        "# updating the matrix to refit the simpler model\n",
        "def bcs_merge(x):\n",
        "    new_bcs = x['BCS_2.0'] + x['BCS_1.5']\n",
        "    return x.assign(**{'BCS_2.0': new_bcs}).drop(columns=['BCS_1.5'])\n",
        "\n",
        "def age_sex(x):\n",
        "    return x.drop(columns=['Age_10-15', 'Age_15-20', 'Age_>20', 'Sex_gelding', 'Sex_stallion'])\n",
        "\n",
        "ohe_simple_model = (ohe.pipe(bcs_merge).pipe(age_sex))"
      ],
      "metadata": {
        "id": "_DxyiexFhvvF"
      },
      "execution_count": 33,
      "outputs": []
    },
    {
      "cell_type": "code",
      "source": [
        "outputs = minimize(training_loss_anes(ohe_simple_model, y), np.ones(ohe_simple_model.shape[1]))\n",
        "\n",
        "theta_hat = outputs['x']\n",
        "y_pred = ohe_simple_model @ theta_hat\n",
        "\n",
        "training_error = (np.mean(loss_function(100 * (y - y_pred)/ y_pred)))\n",
        "print(f'Training error: {training_error:.2f}')"
      ],
      "metadata": {
        "colab": {
          "base_uri": "https://localhost:8080/"
        },
        "id": "MJ5PBSaykGGT",
        "outputId": "3bb3b4e5-33b2-4954-df1d-df1fe6a6fafa"
      },
      "execution_count": 34,
      "outputs": [
        {
          "output_type": "stream",
          "name": "stdout",
          "text": [
            "Training error: 52.23\n"
          ]
        }
      ]
    },
    {
      "cell_type": "markdown",
      "source": [
        "the average training error is more complex than the previous one we created. "
      ],
      "metadata": {
        "id": "qnFcGmLLA8-H"
      }
    },
    {
      "cell_type": "code",
      "source": [
        "thetas = pd.DataFrame({'var': ohe_simple_model.columns, 'theta_hat': theta_hat})\n",
        "thetas.head(10)"
      ],
      "metadata": {
        "colab": {
          "base_uri": "https://localhost:8080/",
          "height": 331
        },
        "id": "F2CsfBnhkzfe",
        "outputId": "76801ec9-f95c-4806-83bc-79ae06750425"
      },
      "execution_count": 35,
      "outputs": [
        {
          "output_type": "execute_result",
          "data": {
            "text/plain": [
              "       var   theta_hat\n",
              "0     intr -175.355235\n",
              "1   Length    0.903010\n",
              "2    Girth    2.063905\n",
              "3  BCS_2.0   -4.912581\n",
              "4  BCS_2.5   -5.119413\n",
              "5  BCS_3.5    8.193148\n",
              "6  BCS_4.0   15.229972\n",
              "7  Age_2-5   -4.007848\n",
              "8   Age_<2   -7.379981"
            ],
            "text/html": [
              "\n",
              "  <div id=\"df-345ff04f-e573-402f-9836-0b951ecd630b\">\n",
              "    <div class=\"colab-df-container\">\n",
              "      <div>\n",
              "<style scoped>\n",
              "    .dataframe tbody tr th:only-of-type {\n",
              "        vertical-align: middle;\n",
              "    }\n",
              "\n",
              "    .dataframe tbody tr th {\n",
              "        vertical-align: top;\n",
              "    }\n",
              "\n",
              "    .dataframe thead th {\n",
              "        text-align: right;\n",
              "    }\n",
              "</style>\n",
              "<table border=\"1\" class=\"dataframe\">\n",
              "  <thead>\n",
              "    <tr style=\"text-align: right;\">\n",
              "      <th></th>\n",
              "      <th>var</th>\n",
              "      <th>theta_hat</th>\n",
              "    </tr>\n",
              "  </thead>\n",
              "  <tbody>\n",
              "    <tr>\n",
              "      <th>0</th>\n",
              "      <td>intr</td>\n",
              "      <td>-175.355235</td>\n",
              "    </tr>\n",
              "    <tr>\n",
              "      <th>1</th>\n",
              "      <td>Length</td>\n",
              "      <td>0.903010</td>\n",
              "    </tr>\n",
              "    <tr>\n",
              "      <th>2</th>\n",
              "      <td>Girth</td>\n",
              "      <td>2.063905</td>\n",
              "    </tr>\n",
              "    <tr>\n",
              "      <th>3</th>\n",
              "      <td>BCS_2.0</td>\n",
              "      <td>-4.912581</td>\n",
              "    </tr>\n",
              "    <tr>\n",
              "      <th>4</th>\n",
              "      <td>BCS_2.5</td>\n",
              "      <td>-5.119413</td>\n",
              "    </tr>\n",
              "    <tr>\n",
              "      <th>5</th>\n",
              "      <td>BCS_3.5</td>\n",
              "      <td>8.193148</td>\n",
              "    </tr>\n",
              "    <tr>\n",
              "      <th>6</th>\n",
              "      <td>BCS_4.0</td>\n",
              "      <td>15.229972</td>\n",
              "    </tr>\n",
              "    <tr>\n",
              "      <th>7</th>\n",
              "      <td>Age_2-5</td>\n",
              "      <td>-4.007848</td>\n",
              "    </tr>\n",
              "    <tr>\n",
              "      <th>8</th>\n",
              "      <td>Age_&lt;2</td>\n",
              "      <td>-7.379981</td>\n",
              "    </tr>\n",
              "  </tbody>\n",
              "</table>\n",
              "</div>\n",
              "      <button class=\"colab-df-convert\" onclick=\"convertToInteractive('df-345ff04f-e573-402f-9836-0b951ecd630b')\"\n",
              "              title=\"Convert this dataframe to an interactive table.\"\n",
              "              style=\"display:none;\">\n",
              "        \n",
              "  <svg xmlns=\"http://www.w3.org/2000/svg\" height=\"24px\"viewBox=\"0 0 24 24\"\n",
              "       width=\"24px\">\n",
              "    <path d=\"M0 0h24v24H0V0z\" fill=\"none\"/>\n",
              "    <path d=\"M18.56 5.44l.94 2.06.94-2.06 2.06-.94-2.06-.94-.94-2.06-.94 2.06-2.06.94zm-11 1L8.5 8.5l.94-2.06 2.06-.94-2.06-.94L8.5 2.5l-.94 2.06-2.06.94zm10 10l.94 2.06.94-2.06 2.06-.94-2.06-.94-.94-2.06-.94 2.06-2.06.94z\"/><path d=\"M17.41 7.96l-1.37-1.37c-.4-.4-.92-.59-1.43-.59-.52 0-1.04.2-1.43.59L10.3 9.45l-7.72 7.72c-.78.78-.78 2.05 0 2.83L4 21.41c.39.39.9.59 1.41.59.51 0 1.02-.2 1.41-.59l7.78-7.78 2.81-2.81c.8-.78.8-2.07 0-2.86zM5.41 20L4 18.59l7.72-7.72 1.47 1.35L5.41 20z\"/>\n",
              "  </svg>\n",
              "      </button>\n",
              "      \n",
              "  <style>\n",
              "    .colab-df-container {\n",
              "      display:flex;\n",
              "      flex-wrap:wrap;\n",
              "      gap: 12px;\n",
              "    }\n",
              "\n",
              "    .colab-df-convert {\n",
              "      background-color: #E8F0FE;\n",
              "      border: none;\n",
              "      border-radius: 50%;\n",
              "      cursor: pointer;\n",
              "      display: none;\n",
              "      fill: #1967D2;\n",
              "      height: 32px;\n",
              "      padding: 0 0 0 0;\n",
              "      width: 32px;\n",
              "    }\n",
              "\n",
              "    .colab-df-convert:hover {\n",
              "      background-color: #E2EBFA;\n",
              "      box-shadow: 0px 1px 2px rgba(60, 64, 67, 0.3), 0px 1px 3px 1px rgba(60, 64, 67, 0.15);\n",
              "      fill: #174EA6;\n",
              "    }\n",
              "\n",
              "    [theme=dark] .colab-df-convert {\n",
              "      background-color: #3B4455;\n",
              "      fill: #D2E3FC;\n",
              "    }\n",
              "\n",
              "    [theme=dark] .colab-df-convert:hover {\n",
              "      background-color: #434B5C;\n",
              "      box-shadow: 0px 1px 3px 1px rgba(0, 0, 0, 0.15);\n",
              "      filter: drop-shadow(0px 1px 2px rgba(0, 0, 0, 0.3));\n",
              "      fill: #FFFFFF;\n",
              "    }\n",
              "  </style>\n",
              "\n",
              "      <script>\n",
              "        const buttonEl =\n",
              "          document.querySelector('#df-345ff04f-e573-402f-9836-0b951ecd630b button.colab-df-convert');\n",
              "        buttonEl.style.display =\n",
              "          google.colab.kernel.accessAllowed ? 'block' : 'none';\n",
              "\n",
              "        async function convertToInteractive(key) {\n",
              "          const element = document.querySelector('#df-345ff04f-e573-402f-9836-0b951ecd630b');\n",
              "          const dataTable =\n",
              "            await google.colab.kernel.invokeFunction('convertToInteractive',\n",
              "                                                     [key], {});\n",
              "          if (!dataTable) return;\n",
              "\n",
              "          const docLinkHtml = 'Like what you see? Visit the ' +\n",
              "            '<a target=\"_blank\" href=https://colab.research.google.com/notebooks/data_table.ipynb>data table notebook</a>'\n",
              "            + ' to learn more about interactive tables.';\n",
              "          element.innerHTML = '';\n",
              "          dataTable['output_type'] = 'display_data';\n",
              "          await google.colab.output.renderOutput(dataTable, element);\n",
              "          const docLink = document.createElement('div');\n",
              "          docLink.innerHTML = docLinkHtml;\n",
              "          element.appendChild(docLink);\n",
              "        }\n",
              "      </script>\n",
              "    </div>\n",
              "  </div>\n",
              "  "
            ]
          },
          "metadata": {},
          "execution_count": 35
        }
      ]
    },
    {
      "cell_type": "markdown",
      "source": [
        "Modeling our assesment was successfule for the training set which allowed us to put aside 70%. However by splitting the dataset into 70/30 split, we were able to put aside 30% of our data."
      ],
      "metadata": {
        "id": "85eDB3y8Bk7C"
      }
    },
    {
      "cell_type": "markdown",
      "source": [
        "In our test set we will be applying what was done in the training set and use it in the testing set to predict the weights of the donkeys. An appropiate method is using our dummy variables to combine with our girth and length columns of the donkey dataset."
      ],
      "metadata": {
        "id": "3W5KqLMQB4Hu"
      }
    },
    {
      "cell_type": "code",
      "source": [
        "y_test = data['Weight']\n",
        "\n",
        "x_test = (data.assign(intr=1)[['intr', 'Length', 'Girth', 'BCS', 'Age', 'Sex']] # applying our data to our testing set\n",
        "          .pipe(pd.get_dummies, columns=['BCS', 'Age', 'Sex']) # use the dummy variables for the donkeys age, sex, and body condition score\n",
        "          .drop(columns=['BCS_3.0', 'Age_5-10', 'Sex_female']) # drop columns that need consolidating\n",
        "          .pipe(bcs_merge) # remove specifics\n",
        "          .pipe(age_sex)) # remove specifics"
      ],
      "metadata": {
        "id": "ZgOzNY7M5RsU"
      },
      "execution_count": 36,
      "outputs": []
    },
    {
      "cell_type": "code",
      "source": [
        "# implementing the training sets theta variables to make weight predictions\n",
        "y_test_p = x_test @ theta_hat \n",
        "test_error = 100 * (y_test - y_test_p) / y_test_p # loss function\n",
        "print(f'Validation error: \\n')\n",
        "test_error"
      ],
      "metadata": {
        "colab": {
          "base_uri": "https://localhost:8080/"
        },
        "id": "OGtYK_zl6ncV",
        "outputId": "2c97f1fd-b4fa-4fd3-f328-bc60b4d6508a"
      },
      "execution_count": 37,
      "outputs": [
        {
          "output_type": "stream",
          "name": "stdout",
          "text": [
            "Validation error: \n",
            "\n"
          ]
        },
        {
          "output_type": "execute_result",
          "data": {
            "text/plain": [
              "0       4.831786\n",
              "1       5.799889\n",
              "2       4.052279\n",
              "3      -3.967377\n",
              "4       6.127600\n",
              "         ...    \n",
              "539    -3.647320\n",
              "540     3.504563\n",
              "541    11.484035\n",
              "542     3.755987\n",
              "543     8.320622\n",
              "Length: 541, dtype: float64"
            ]
          },
          "metadata": {},
          "execution_count": 37
        }
      ]
    },
    {
      "cell_type": "code",
      "source": [
        "fig = px.scatter(x=y_test_p, y=test_error, title='Test Set Predictions', width=550, height=350)\n",
        "fig.add_hline(10, line_width=3, line_color='orange')\n",
        "fig.add_hline(-10, line_width=3, line_color='orange')\n",
        "fig.show()"
      ],
      "metadata": {
        "colab": {
          "base_uri": "https://localhost:8080/",
          "height": 367
        },
        "id": "z-HOekgX7KU_",
        "outputId": "85ae7dcb-c23b-4263-d5a2-7d3b68aaef40"
      },
      "execution_count": 38,
      "outputs": [
        {
          "output_type": "display_data",
          "data": {
            "text/html": [
              "<html>\n",
              "<head><meta charset=\"utf-8\" /></head>\n",
              "<body>\n",
              "    <div>            <script src=\"https://cdnjs.cloudflare.com/ajax/libs/mathjax/2.7.5/MathJax.js?config=TeX-AMS-MML_SVG\"></script><script type=\"text/javascript\">if (window.MathJax) {MathJax.Hub.Config({SVG: {font: \"STIX-Web\"}});}</script>                <script type=\"text/javascript\">window.PlotlyConfig = {MathJaxConfig: 'local'};</script>\n",
              "        <script src=\"https://cdn.plot.ly/plotly-2.8.3.min.js\"></script>                <div id=\"cf73b25e-7627-4731-aec3-a79bf6be3131\" class=\"plotly-graph-div\" style=\"height:350px; width:550px;\"></div>            <script type=\"text/javascript\">                                    window.PLOTLYENV=window.PLOTLYENV || {};                                    if (document.getElementById(\"cf73b25e-7627-4731-aec3-a79bf6be3131\")) {                    Plotly.newPlot(                        \"cf73b25e-7627-4731-aec3-a79bf6be3131\",                        [{\"hovertemplate\":\"x=%{x}<br>y=%{y}<extra></extra>\",\"legendgroup\":\"\",\"marker\":{\"color\":\"#636efa\",\"symbol\":\"circle\"},\"mode\":\"markers\",\"name\":\"\",\"orientation\":\"v\",\"showlegend\":false,\"x\":[73.4510043791368,94.51805731466946,71.11809604350465,120.79228528378474,85.74583842028758,100.52936138541133,105.86911675801889,77.95493621779319,127.37124140317653,111.63365640984694,109.18250957996011,106.97895937456553,97.56244644573098,117.73677651674028,101.61278154385478,89.87364770979254,110.25481010242062,101.74130746851392,121.86458580624526,82.26315537081373,104.40957405042403,68.54871071936313,95.29170947935974,79.55412448603013,114.51197752216318,65.32391172478603,84.06917596066945,111.37577235495019,114.51197752216318,112.79455075967157,140.39979551172254,77.36086171104006,132.78930317274373,140.39979551172254,86.64884871521545,97.09773006921544,113.60896722723531,92.15550431214675,111.80294663737959,97.95997606126983,105.09546459332863,109.99692604752386,105.35334864822538,83.51264354800246,106.86072088031086,112.70595693230744,110.73064611491908,107.67513734787462,96.7104878840811,64.9263821092472,132.40206098760936,133.04718722764048,109.96385005641284,156.55116345446493,157.19628969449604,142.10383094119754,145.32862993577464,128.34155676525634,102.53376758094959,175.25566338747487,163.57485203307775,166.09703451353707,156.42263752980577,186.99479722153708,153.7136066450222,154.48725880971244,140.59645870911208,158.74442622945503,150.23092359554832,140.94293659137293,95.9548114615578,152.81059635009433,127.9457495580105,149.19855517038286,133.58093107960093,126.65549707794827,169.45119163835176,161.324098984001,167.25792886336168,151.5203438700321,150.10156546531073,170.61208598817637,151.6497020002697,134.87118355966314,136.08140723447278,187.76844938622736,135.9121170069401,107.82247122027917,160.6789727439699,157.19628969449604,170.35420193327963,161.71134116913535,173.89437525684014,175.838318999045,154.8745009948468,100.93457931271263,127.3100205456693,130.613125937206,116.72321603932022,173.1207230921499,122.74563974604501,142.4910731263319,176.74132929397283,139.13691600151722,158.16535528562204,126.92277836053496,151.26245981513534,170.09631787838288,155.77751128977468,157.32564782473364,153.58424851478458,153.97149069991895,165.77667983017932,164.42037205391892,141.0611750856276,143.39408342125978,165.3233823488468,138.74110879427136,171.25638002262906,150.74669170534185,153.58508072036304,151.6497020002697,165.9685085888779,166.6128026233306,160.1632046341764,118.47818489589795,162.35646740916644,165.9685085888779,162.35646740916644,131.64638456508604,160.8083308742075,181.3270066777702,142.2237918437452,155.64815315953706,176.03014775774358,155.6889174624106,138.5325540643596,171.2572122282075,140.85434276400883,167.38728699359928,128.93563127200946,167.8405844749318,151.6497020002697,151.96507632925312,146.36099836094013,158.8737843596926,138.79043811925635,153.45572259012542,139.13691600151722,148.3363091783285,140.71641961165975,150.4888076504451,135.9121170069401,174.67742464922034,143.56337364879244,148.4249030056926,170.67814128437456,153.45572259012542,173.24924901680905,163.77524581388784,135.1783969395449,141.0611750856276,136.03035550119478,140.458535556763,165.06549829395004,150.61733357510423,86.61577272410443,164.6782561088157,150.9159819328745,172.80534876316648,143.56337364879244,182.93304322823028,173.57900092785673,149.84368141041398,176.2961870933374,152.81059635009433,161.26162835554,156.55199566004336,147.52189271076475,163.00159364919756,159.00231028435178,140.80501343902384,146.2316402307025,152.72200252273024,150.35944952020748,153.57568349267308,120.54208954065044,157.06776376983686,169.06394945321742,144.9821520535138,120.03488645296842,141.07229472161052,166.74216075356819,139.95133246908097,138.4832247393746,155.26174317998115,134.62186452687789,132.67792078467306,149.62572945281227,147.13465052563038,142.4910731263319,172.22627781933355,175.838318999045,140.07129337162863,154.35873288505329,158.93983965589078,163.8934843081425,168.5481813434239,154.1407809274516,136.98441752940062,168.4857107149629,133.70856680154552,152.97988657762698,165.58126640374357,135.64483572435338,175.6343405504977,140.32917742652538,159.90532057927965,126.92277836053496,143.3054895938957,163.77524581388784,164.84754633634833,130.26753825765974,197.2518498168385,144.9328227285288,138.4832247393746,146.10228210046492,155.6889174624106,146.4809592634878,155.26174317998115,159.00231028435178,167.64517104849605,161.4534571142386,171.51509628310424,163.13011957385675,142.66036335386457,171.71050970954002,132.5987241849989,192.19490703350257,158.39794834719416,149.32791330062045,142.91824740876132,161.06621492910426,194.54281893205493,160.0346787095172,158.52730647743175,153.19783853522867,162.87223551896,145.83411061516367,157.52106125116939,173.83688498275347,189.5744699760831,170.61208598817637,149.58579735551723,181.12702263837454,152.6812382198567,154.1008488301565,197.1939498013374,126.22660038722586,170.99932817331074,149.49720352815314,156.29327939956818,149.4564392252796,115.30443763459883,195.64581326637844,166.4842766986714,138.4815023310816,145.18898437513258,154.2701390576892,131.8156747926187,148.03766082055824,172.48416187423027,176.48344523907608,158.39794834719416,145.62727829354492,108.98336557010379,151.39181794537294,164.42037205391892,159.77596244904203,169.45119163835176,149.84368141041398,192.6788983266981,207.64199894975897,160.8083308742075,124.07582432340229,118.14199444404159,160.42108868907314,177.31956803222735,180.22401234344667,139.7820422415483,146.73884331838454,163.2594777040943,169.7090756932485,133.45240515494177,160.0346787095172,164.42037205391892,172.87140405936464,152.2948282403008,158.48654217455825,137.32060798125698,155.3902691046403,154.8745009948468,155.3902691046403,146.2316402307025,166.80821604976634,162.99219642150763,134.0975313949729,169.00147882475645,154.52802311258594,155.9060372144338,152.2948282403008,144.29709371618765,149.4564392252796,128.29222744027135,136.84649437705153,163.71277518542684,134.40474477485463,125.45467063082859,175.1271374628157,141.45013967905496,173.19175874272239,157.84141593452716,165.7505566312762,124.33370837829904,157.32564782473364,162.48499333382563,152.2948282403008,158.68195560099403,138.6211478917237,128.0836727103596,152.35231851438746,153.18844130753874,146.65964671871038,146.9967273732813,159.64743652438287,124.55166033590072,174.03229840918925,161.36486328687448,149.97303954065157,170.99932817331074,154.61661693995006,151.94835035803993,122.48603328285526,136.97585250728912,134.40474477485463,129.83864156693733,125.62396085836124,147.13465052563038,151.30322411800884,173.51653029939573,144.81286182598114,136.81512730186796,166.39568287130732,171.83903563419918,146.36099836094013,156.03539534467143,135.52487482180575,140.59645870911208,162.22710927892888,126.88201405766148,136.94365322652712,137.97602165169258,155.77751128977468,159.64743652438287,173.83688498275347,109.88637586503165,194.87132889610973,152.868086624181,153.26389383142683,146.53028858847279,144.02809002530793,137.37165971453499,169.7090756932485,139.13691600151722,148.03766082055824,140.33857465421534,142.60931162058657,132.4097492993718,132.80727891491065,111.95028050978414,144.42561964084678,133.70856680154552,155.77751128977468,160.7458602457465,118.27135257427918,131.17994578027754,159.89675555716812,180.09548641878754,167.90305510339277,135.42771597233016,177.7068102173617,150.23092359554832,151.90758605516646,184.48117976318926,159.5189105997237,157.32564782473364,145.88516234844167,180.22401234344667,155.13238504974356,160.93768900444508,177.7068102173617,114.14354328477421,158.14006429229738,155.00385912508438,143.26472529102216,145.1115101837514,149.71515548575482,160.8083308742075,140.20921652397772,152.2948282403008,130.009654202763,106.79010279511371,151.5203438700321,173.7744143542925,134.49333860221873,172.9338746878256,168.9260263008683,153.57568349267308,168.93459132297983,194.3555607863162,163.19617487005488,168.67670726808308,147.39253458052713,179.38347267697984,130.61401613992058,144.20849988882352,128.0240559549701,150.61733357510423,121.6255096990939,137.58021444444674,184.99694787298276,177.32855551850284,155.04379122237947,191.51800397687347,135.43628099444163,170.35420193327963,120.81109323153012,150.7780587805254,141.62882713427754,140.68505253647618,123.43069808337117,156.29327939956818,153.06848040499108,158.6065030771059,142.74895718122866,160.8083308742075,156.68052158470255,173.23252304559588,157.19628969449604,155.6889174624106,147.16601760081394,134.00893756760877,162.61435146406322,162.61435146406322,158.0992999894239,145.36939423864817,141.7573530589367,134.92051288464813,157.32564782473364,165.3233823488468,106.79093500069214,153.45572259012542,142.35314997398282,160.0346787095172,165.58126640374357,160.55044681931074,154.48809101529088,142.35314997398282,185.64207411301388,161.4534571142386,175.19319275901387,157.90830343630375,169.90448911968429,133.75961853482352,164.33177822655483,117.88411038914484,143.12680213867307,136.67720414951887,162.0985833542697,162.22710927892888,161.96922522403213,190.0277674574156,145.36939423864817,141.8373818641893,136.33072626725803,151.25389479302385,157.58353187963039,153.6250128176581,163.5173617589911,145.62727829354492,165.1054303912451,159.77596244904203,176.03014775774358,146.9967273732813,169.7090756932485,160.29256276441396,144.72426799861705,174.09476903765022,166.09703451353707,163.6866519865237,162.0985833542697,160.42108868907314,170.35420193327963,188.92934373605198,195.9036973212752,191.83378804727133,153.97149069991895,145.24003610841055,165.58126640374357,148.2869798533435,185.32629004261602,157.4456087272813,158.74442622945503,194.80070298695168,169.193307583455,158.61590030479584,145.32006491366315,164.8076142390533,171.2572122282075,195.4458292269828,213.963071014254,144.2876964884977,151.6497020002697,162.87223551896,178.1601076986942,167.8405844749318,150.7372944776519,152.72200252273024,166.61363482890903,175.1271374628157,131.9042686199828,155.77751128977468,149.32791330062045,156.42263752980577,197.0645916710998,175.05526960666475,150.4888076504451,176.80379992243383,156.0761596475449,133.96817326473527,174.4820112227846],\"xaxis\":\"x\",\"y\":[4.831786373599624,5.799889292138174,4.052279401198283,-3.9673769500477003,6.127599515627659,4.44709739819101,2.0127524506052037,10.320146705951029,10.700028080658702,-10.421280448913755,-12.98972668289284,7.4977740224135,8.64836200982557,-4.8725442350841,15.14299502716033,4.591281644127438,-2.9520799132455826,0.25426499611884235,4.214033272898191,9.404993759735154,3.43878995985751,5.034798239701942,7.03974202718368,8.102503239919102,3.045989208562688,-0.4958547585923679,7.054695102644037,5.947637897350478,-1.3203662663764086,3.7284152576562644,-11.680783046691305,15.045254191240396,-2.1005480909220253,6.837762443518584,0.40525787704192273,-1.1305414332888473,2.984828447548603,2.0015035473145755,-6.084765063879927,-4.042442863392525,1.8121956204685445,6.3666087809131,0.6137928789845967,-10.193239234618952,-1.741258027254899,1.1481585383013728,3.855620855539914,-0.6270132219041473,1.333373602110795,9.354622409936745,7.249085807877906,9.735502901085443,-3.6046846799010157,3.480546822713293,4.328162146019261,-6.406464119158548,4.590540808905753,0.5130397755327106,7.281730297441653,3.277689577326188,-2.185453319165985,3.5539258745657105,4.844159764759364,2.676653496692283,6.0413606561345565,9.394134702178532,2.420787352780836,3.940657268497058,6.5027067468159805,2.8785148846369393,14.637294706236906,0.7783515530432892,3.9503074228330672,1.8776621706677554,8.548427405102037,2.640629897013792,7.995699664694332,7.237542989257248,-3.741484129265994,13.516109854881607,0.5985510756694309,-0.3587588678909847,4.846892478375734,5.285648314328967,-0.059822451962530256,-1.4743954031024888,5.215048627855585,-0.7628013075297421,7.668101834122848,2.4197201555432994,3.314152514378007,4.507203253754091,5.811358031698245,-5.595093865233334,-1.8560195360645304,-2.907407285684323,2.8984202802850136,4.124297634055404,-6.616692292575731,-4.690786260075481,12.427618842930423,-3.853626059411843,0.14635552819506603,2.057745766372713,1.159953588486477,-1.5149198476203753,4.454205090343571,4.6465921309761535,0.7847658497710032,4.2423802269683515,5.4795667958132395,0.6679868431523838,0.13471145039787813,3.3935137576816388,-0.04336776975696929,-0.9722042834670337,-0.19560593562284306,5.231968569958816,-4.821064197163398,12.77196074875844,3.525680524592143,1.5498203878607735,-0.5835496125816322,0.23239353193329373,-1.9749883510394093,-3.7797548129495366,11.48308588400647,2.429070096128015,3.4760134171993764,10.90315961378911,1.36290770128503,4.7830676087000406,-2.969820863998403,4.080900872593324,-2.8575490174933975,7.265181569728849,0.3374267794292106,9.776398642693094,7.912895702949608,3.9505467381483927,-3.0524000489101746,6.648818317678664,10.12220782319967,-1.9511564109827964,-1.6131335447150226,-0.5499864960189605,3.753545237941614,-5.510203495447571,0.6203127274097172,13.256154835315476,8.018666492140694,6.984700399760138,14.044283477745564,2.4746044656085737,-0.39242157276872686,1.0612080334301963,-0.3973216952513442,-11.375087416419792,-3.60708577513241,3.190197737238942,4.3066075587940675,9.172491939414375,-3.6979654156315087,10.352852096596449,-4.886241145067721,9.549144234268338,6.216220333270991,3.838845540729452,3.3687738051406675,5.320814027252705,9.359369322204964,6.049730861341659,0.242540324516703,6.7779425158198015,0.9664490961228406,-0.5304582073858444,-2.642679724245515,8.59012003217086,-3.743100504811928,-4.295414230284139,5.0299204466561225,7.2404996895875025,8.047752012308091,-2.4371095593618053,-2.8993518758670307,-9.490879780696837,10.334905016847564,-8.319825441066335,5.2856038059464145,9.668671452270985,-5.027610415021291,0.6576098306334339,4.952460259068042,3.607445132424459,8.31636848600252,-0.16858188927953557,3.994994046489636,5.518687037016623,5.596811843666729,8.743929066612708,12.287735989008066,9.158719784453096,-2.182868342289961,3.518712870948388,-0.2324020665033731,-0.591317858332787,-3.5959234944703,-2.105143653964634,-3.3351205933432877,-6.55871499214304,-0.881802206643123,-5.7652003801572524,3.281551277543696,1.4607531689960225,-1.2126047523813503,5.901840959468854,5.466306233777342,1.3099497959993334,5.576005923350958,-5.097843505226665,2.5796048512197767,5.552071515203126,-5.578932675679396,-0.634645412958574,0.7363254584988704,7.594259362762504,1.2988968223166737,9.192100999125175,5.815800756184484,6.272154763025011,4.400998767334828,-1.5778390942921126,1.5772612933023515,3.780952147904067,4.211288782285808,-0.4628919612566509,0.75096759810523,-4.222306224596611,6.14225067079411,-2.1451971964599945,8.486080344448833,-4.1410019476620805,6.167516307046915,8.973438939446066,3.1026533314666533,-0.9634343201618585,-3.3928928664573803,9.288117420896441,3.5423052693538972,-4.774638509562195,9.29786277454873,-6.105500375416237,10.191490193155852,5.625001031672093,7.659253246448636,6.758369201384497,-3.310071858058647,2.437219906343196,-8.101779146276359,-3.5083928325322553,-3.008219165321195,-5.94605182978447,-3.6508558972524265,4.939586439379272,2.2255455718304518,7.517660856335072,-0.3477015507316092,-6.328981785140465,-7.3054572495554275,6.208916519418072,0.6500637568221519,-3.759279578932182,-1.9738084976509678,-7.827088972149415,-1.8041113755137559,4.603119387673208,-4.222036588317679,8.867288015441256,8.902489043365645,-4.397249477155837,5.443218234372054,3.280640344218764,1.1356089144622281,6.337774336930921,4.774641400855346,5.80488385034564,-2.75592736915161,-0.18022152646416956,-2.8986217072403506,3.017524777011706,4.948353494827997,1.6786298317533839,6.063862091472632,-2.586993580920058,-3.145992324985871,-1.4720633603269089,-1.0825411348669265,-4.789938256334314,11.050438469502536,0.49474876985379124,-4.112399792767643,-12.832648930057314,0.3923867941493136,7.363905480584623,-0.4845181304050496,-1.8357912140588797,-6.038538749175254,4.7328113522234325,0.9525630741691469,-6.9952629220083375,-10.699528295596323,5.3382269077178375,3.040056887660599,-1.7867235498257545,1.5736651733400957,-2.2678591705635776,-0.3011387548353554,-4.3479215268755285,1.069430223275333,-8.094823875773393,-5.884667270953877,0.7340177852645592,-7.692617684319884,4.557325358993271,2.971131687615079,3.3941637027634814,7.685862937663258,5.241959848239898,8.208597520173669,4.6191112141351685,1.0814941982369226,10.321639516338065,-2.495333106678956,13.607971404644065,3.97912025016882,-2.0486762914434076,2.279865075091857,5.35131164073431,-7.983461278989527,-3.5083928325322553,3.4817622882932,2.0083466748861607,-2.02964633291234,8.778297249196548,-6.997330928018055,-2.956470832266328,-2.8847688240360405,-6.888010736712868,-8.131501618506789,2.5838862112262326,0.12922759184452534,6.713345869909984,3.9690435561363415,0.09367159516855872,-1.6131335447150226,1.2590762826529809,-0.38729039410357846,-7.53678919540619,7.257042779964188,-0.695145063870635,-5.800672787213454,-7.955021111857034,3.352530584797016,5.231880735110613,5.271099409170618,11.02377254651382,-5.578721589108411,4.6654037041442695,-3.4345296206662494,-0.3618969112673285,11.089440936060152,-0.27055050168813,8.420836804616469,1.3390292468912153,-4.078462728397681,4.746681632044476,2.3776065818439625,-0.3094555359706844,6.921850338473619,1.8309194768267905,9.398872854352005,10.688494791561322,-8.202410722820042,-5.440799677438621,-4.456998638760434,1.3874485226354651,-0.5608341170171536,1.6127631174822474,1.8444839462272817,0.4225752635352454,1.2904343844973627,11.162200166989178,-13.105063790518573,-0.26082864593934757,-5.967261539046768,-6.563232357534466,-7.461459529683241,-0.1242966131615033,7.0053812082962,-0.5826410272482397,-1.5231887928497863,-0.12575681518497078,4.970236823209295,16.771286225807685,-9.956899901246015,6.125282415566702,16.220698856740555,2.606624360196503,0.5640024925801145,2.432894013874807,9.222658017793721,-10.104028849766614,2.956471728846109,2.4316500570057125,4.837906074311648,1.1947487534782253,8.331441878627412,-1.6771427833469235,-4.696842287208056,-5.842673469374541,-0.12020800745549323,-4.551136545416583,9.910587032813499,-3.558562325568704,1.0611295028204952,-0.8380226475937332,-4.705409393597822,15.524552101592064,-5.447467160043693,4.666212784648256,-4.322745842527841,-1.3131305963070747,5.776567192409938,6.517400852106716,-1.798839259726585,-4.317006478161278,10.08922810185177,6.1162355412057465,-1.150067516080791,7.331942717119439,6.942601840298029,-8.505342936457001,3.221773406230353,-7.317797727034848,2.277454688964164,-1.7463839459936519,-2.9873027849043923,-4.75229645153239,-3.305605815884587,3.411342710936196,-2.1513238262665566,3.724425044317058,7.001625891828458,0.8521071624130302,-3.225377968001775,5.249114369166948,0.1711706206607968,11.176571147668442,14.412368541794532,4.643394988710595,17.987542668470276,0.35468042552464885,-8.677819898077805,6.851840725338168,3.8764853873054514,4.640007753496482,26.870620713800115,-7.272863281125157,3.424830237091399,-1.5196064290544276,-1.2518709913750496,17.156600364986097,6.530440094787492,4.665370261617364,12.577130240111606,0.9465988309802928,6.898217324635647,3.8944283968950835,6.725177000409093,4.791363635597195,9.280018938892649,2.090343214432895,-1.6299127137851401,2.229749375125199,4.158471012343998,5.12125999636303,16.763470018267988,1.5459638627733343,9.468498069231838,7.809472126184198,8.415573961334506,2.0178489314287362,0.550958034524378,-2.71892268943652,4.2961310566147555,8.551511685375079,-1.1914159404375277,10.85916082766466,10.17656066886933,11.79897552982289,11.660445301006046,5.971104790027091,10.945311506917292,2.154591861407737,-2.503116270048389,1.6504975400623696,5.8637539060247645,5.34285455960451,10.519748987656381,5.201414280798433,-0.17606246935660994,7.973795759819974,7.090374155421212,9.855866389935127,5.7961467605376855,9.068510576533445,1.1560241783093954,3.7573420315184323,10.360315656749972,9.493254906692917,7.495185458745646,0.4936689189982988,6.82513573268471,3.762313731075834,-0.0898673113539906,5.457211409101249,0.17428037517753245,12.622933931474963,8.034375568864496,6.779567524025352,0.07257640788943373,7.204177687336035,1.7894087182482887,5.4834534218615545,8.086388424104285,7.965901526225373,-3.647319515743975,3.5045627301475024,11.484034712880666,3.7559866740298893,8.320622094777635],\"yaxis\":\"y\",\"type\":\"scatter\"}],                        {\"template\":{\"data\":{\"bar\":[{\"error_x\":{\"color\":\"#2a3f5f\"},\"error_y\":{\"color\":\"#2a3f5f\"},\"marker\":{\"line\":{\"color\":\"#E5ECF6\",\"width\":0.5},\"pattern\":{\"fillmode\":\"overlay\",\"size\":10,\"solidity\":0.2}},\"type\":\"bar\"}],\"barpolar\":[{\"marker\":{\"line\":{\"color\":\"#E5ECF6\",\"width\":0.5},\"pattern\":{\"fillmode\":\"overlay\",\"size\":10,\"solidity\":0.2}},\"type\":\"barpolar\"}],\"carpet\":[{\"aaxis\":{\"endlinecolor\":\"#2a3f5f\",\"gridcolor\":\"white\",\"linecolor\":\"white\",\"minorgridcolor\":\"white\",\"startlinecolor\":\"#2a3f5f\"},\"baxis\":{\"endlinecolor\":\"#2a3f5f\",\"gridcolor\":\"white\",\"linecolor\":\"white\",\"minorgridcolor\":\"white\",\"startlinecolor\":\"#2a3f5f\"},\"type\":\"carpet\"}],\"choropleth\":[{\"colorbar\":{\"outlinewidth\":0,\"ticks\":\"\"},\"type\":\"choropleth\"}],\"contour\":[{\"colorbar\":{\"outlinewidth\":0,\"ticks\":\"\"},\"colorscale\":[[0.0,\"#0d0887\"],[0.1111111111111111,\"#46039f\"],[0.2222222222222222,\"#7201a8\"],[0.3333333333333333,\"#9c179e\"],[0.4444444444444444,\"#bd3786\"],[0.5555555555555556,\"#d8576b\"],[0.6666666666666666,\"#ed7953\"],[0.7777777777777778,\"#fb9f3a\"],[0.8888888888888888,\"#fdca26\"],[1.0,\"#f0f921\"]],\"type\":\"contour\"}],\"contourcarpet\":[{\"colorbar\":{\"outlinewidth\":0,\"ticks\":\"\"},\"type\":\"contourcarpet\"}],\"heatmap\":[{\"colorbar\":{\"outlinewidth\":0,\"ticks\":\"\"},\"colorscale\":[[0.0,\"#0d0887\"],[0.1111111111111111,\"#46039f\"],[0.2222222222222222,\"#7201a8\"],[0.3333333333333333,\"#9c179e\"],[0.4444444444444444,\"#bd3786\"],[0.5555555555555556,\"#d8576b\"],[0.6666666666666666,\"#ed7953\"],[0.7777777777777778,\"#fb9f3a\"],[0.8888888888888888,\"#fdca26\"],[1.0,\"#f0f921\"]],\"type\":\"heatmap\"}],\"heatmapgl\":[{\"colorbar\":{\"outlinewidth\":0,\"ticks\":\"\"},\"colorscale\":[[0.0,\"#0d0887\"],[0.1111111111111111,\"#46039f\"],[0.2222222222222222,\"#7201a8\"],[0.3333333333333333,\"#9c179e\"],[0.4444444444444444,\"#bd3786\"],[0.5555555555555556,\"#d8576b\"],[0.6666666666666666,\"#ed7953\"],[0.7777777777777778,\"#fb9f3a\"],[0.8888888888888888,\"#fdca26\"],[1.0,\"#f0f921\"]],\"type\":\"heatmapgl\"}],\"histogram\":[{\"marker\":{\"pattern\":{\"fillmode\":\"overlay\",\"size\":10,\"solidity\":0.2}},\"type\":\"histogram\"}],\"histogram2d\":[{\"colorbar\":{\"outlinewidth\":0,\"ticks\":\"\"},\"colorscale\":[[0.0,\"#0d0887\"],[0.1111111111111111,\"#46039f\"],[0.2222222222222222,\"#7201a8\"],[0.3333333333333333,\"#9c179e\"],[0.4444444444444444,\"#bd3786\"],[0.5555555555555556,\"#d8576b\"],[0.6666666666666666,\"#ed7953\"],[0.7777777777777778,\"#fb9f3a\"],[0.8888888888888888,\"#fdca26\"],[1.0,\"#f0f921\"]],\"type\":\"histogram2d\"}],\"histogram2dcontour\":[{\"colorbar\":{\"outlinewidth\":0,\"ticks\":\"\"},\"colorscale\":[[0.0,\"#0d0887\"],[0.1111111111111111,\"#46039f\"],[0.2222222222222222,\"#7201a8\"],[0.3333333333333333,\"#9c179e\"],[0.4444444444444444,\"#bd3786\"],[0.5555555555555556,\"#d8576b\"],[0.6666666666666666,\"#ed7953\"],[0.7777777777777778,\"#fb9f3a\"],[0.8888888888888888,\"#fdca26\"],[1.0,\"#f0f921\"]],\"type\":\"histogram2dcontour\"}],\"mesh3d\":[{\"colorbar\":{\"outlinewidth\":0,\"ticks\":\"\"},\"type\":\"mesh3d\"}],\"parcoords\":[{\"line\":{\"colorbar\":{\"outlinewidth\":0,\"ticks\":\"\"}},\"type\":\"parcoords\"}],\"pie\":[{\"automargin\":true,\"type\":\"pie\"}],\"scatter\":[{\"marker\":{\"colorbar\":{\"outlinewidth\":0,\"ticks\":\"\"}},\"type\":\"scatter\"}],\"scatter3d\":[{\"line\":{\"colorbar\":{\"outlinewidth\":0,\"ticks\":\"\"}},\"marker\":{\"colorbar\":{\"outlinewidth\":0,\"ticks\":\"\"}},\"type\":\"scatter3d\"}],\"scattercarpet\":[{\"marker\":{\"colorbar\":{\"outlinewidth\":0,\"ticks\":\"\"}},\"type\":\"scattercarpet\"}],\"scattergeo\":[{\"marker\":{\"colorbar\":{\"outlinewidth\":0,\"ticks\":\"\"}},\"type\":\"scattergeo\"}],\"scattergl\":[{\"marker\":{\"colorbar\":{\"outlinewidth\":0,\"ticks\":\"\"}},\"type\":\"scattergl\"}],\"scattermapbox\":[{\"marker\":{\"colorbar\":{\"outlinewidth\":0,\"ticks\":\"\"}},\"type\":\"scattermapbox\"}],\"scatterpolar\":[{\"marker\":{\"colorbar\":{\"outlinewidth\":0,\"ticks\":\"\"}},\"type\":\"scatterpolar\"}],\"scatterpolargl\":[{\"marker\":{\"colorbar\":{\"outlinewidth\":0,\"ticks\":\"\"}},\"type\":\"scatterpolargl\"}],\"scatterternary\":[{\"marker\":{\"colorbar\":{\"outlinewidth\":0,\"ticks\":\"\"}},\"type\":\"scatterternary\"}],\"surface\":[{\"colorbar\":{\"outlinewidth\":0,\"ticks\":\"\"},\"colorscale\":[[0.0,\"#0d0887\"],[0.1111111111111111,\"#46039f\"],[0.2222222222222222,\"#7201a8\"],[0.3333333333333333,\"#9c179e\"],[0.4444444444444444,\"#bd3786\"],[0.5555555555555556,\"#d8576b\"],[0.6666666666666666,\"#ed7953\"],[0.7777777777777778,\"#fb9f3a\"],[0.8888888888888888,\"#fdca26\"],[1.0,\"#f0f921\"]],\"type\":\"surface\"}],\"table\":[{\"cells\":{\"fill\":{\"color\":\"#EBF0F8\"},\"line\":{\"color\":\"white\"}},\"header\":{\"fill\":{\"color\":\"#C8D4E3\"},\"line\":{\"color\":\"white\"}},\"type\":\"table\"}]},\"layout\":{\"annotationdefaults\":{\"arrowcolor\":\"#2a3f5f\",\"arrowhead\":0,\"arrowwidth\":1},\"autotypenumbers\":\"strict\",\"coloraxis\":{\"colorbar\":{\"outlinewidth\":0,\"ticks\":\"\"}},\"colorscale\":{\"diverging\":[[0,\"#8e0152\"],[0.1,\"#c51b7d\"],[0.2,\"#de77ae\"],[0.3,\"#f1b6da\"],[0.4,\"#fde0ef\"],[0.5,\"#f7f7f7\"],[0.6,\"#e6f5d0\"],[0.7,\"#b8e186\"],[0.8,\"#7fbc41\"],[0.9,\"#4d9221\"],[1,\"#276419\"]],\"sequential\":[[0.0,\"#0d0887\"],[0.1111111111111111,\"#46039f\"],[0.2222222222222222,\"#7201a8\"],[0.3333333333333333,\"#9c179e\"],[0.4444444444444444,\"#bd3786\"],[0.5555555555555556,\"#d8576b\"],[0.6666666666666666,\"#ed7953\"],[0.7777777777777778,\"#fb9f3a\"],[0.8888888888888888,\"#fdca26\"],[1.0,\"#f0f921\"]],\"sequentialminus\":[[0.0,\"#0d0887\"],[0.1111111111111111,\"#46039f\"],[0.2222222222222222,\"#7201a8\"],[0.3333333333333333,\"#9c179e\"],[0.4444444444444444,\"#bd3786\"],[0.5555555555555556,\"#d8576b\"],[0.6666666666666666,\"#ed7953\"],[0.7777777777777778,\"#fb9f3a\"],[0.8888888888888888,\"#fdca26\"],[1.0,\"#f0f921\"]]},\"colorway\":[\"#636efa\",\"#EF553B\",\"#00cc96\",\"#ab63fa\",\"#FFA15A\",\"#19d3f3\",\"#FF6692\",\"#B6E880\",\"#FF97FF\",\"#FECB52\"],\"font\":{\"color\":\"#2a3f5f\"},\"geo\":{\"bgcolor\":\"white\",\"lakecolor\":\"white\",\"landcolor\":\"#E5ECF6\",\"showlakes\":true,\"showland\":true,\"subunitcolor\":\"white\"},\"hoverlabel\":{\"align\":\"left\"},\"hovermode\":\"closest\",\"mapbox\":{\"style\":\"light\"},\"paper_bgcolor\":\"white\",\"plot_bgcolor\":\"#E5ECF6\",\"polar\":{\"angularaxis\":{\"gridcolor\":\"white\",\"linecolor\":\"white\",\"ticks\":\"\"},\"bgcolor\":\"#E5ECF6\",\"radialaxis\":{\"gridcolor\":\"white\",\"linecolor\":\"white\",\"ticks\":\"\"}},\"scene\":{\"xaxis\":{\"backgroundcolor\":\"#E5ECF6\",\"gridcolor\":\"white\",\"gridwidth\":2,\"linecolor\":\"white\",\"showbackground\":true,\"ticks\":\"\",\"zerolinecolor\":\"white\"},\"yaxis\":{\"backgroundcolor\":\"#E5ECF6\",\"gridcolor\":\"white\",\"gridwidth\":2,\"linecolor\":\"white\",\"showbackground\":true,\"ticks\":\"\",\"zerolinecolor\":\"white\"},\"zaxis\":{\"backgroundcolor\":\"#E5ECF6\",\"gridcolor\":\"white\",\"gridwidth\":2,\"linecolor\":\"white\",\"showbackground\":true,\"ticks\":\"\",\"zerolinecolor\":\"white\"}},\"shapedefaults\":{\"line\":{\"color\":\"#2a3f5f\"}},\"ternary\":{\"aaxis\":{\"gridcolor\":\"white\",\"linecolor\":\"white\",\"ticks\":\"\"},\"baxis\":{\"gridcolor\":\"white\",\"linecolor\":\"white\",\"ticks\":\"\"},\"bgcolor\":\"#E5ECF6\",\"caxis\":{\"gridcolor\":\"white\",\"linecolor\":\"white\",\"ticks\":\"\"}},\"title\":{\"x\":0.05},\"xaxis\":{\"automargin\":true,\"gridcolor\":\"white\",\"linecolor\":\"white\",\"ticks\":\"\",\"title\":{\"standoff\":15},\"zerolinecolor\":\"white\",\"zerolinewidth\":2},\"yaxis\":{\"automargin\":true,\"gridcolor\":\"white\",\"linecolor\":\"white\",\"ticks\":\"\",\"title\":{\"standoff\":15},\"zerolinecolor\":\"white\",\"zerolinewidth\":2}}},\"xaxis\":{\"anchor\":\"y\",\"domain\":[0.0,1.0],\"title\":{\"text\":\"x\"}},\"yaxis\":{\"anchor\":\"x\",\"domain\":[0.0,1.0],\"title\":{\"text\":\"y\"}},\"legend\":{\"tracegroupgap\":0},\"title\":{\"text\":\"Test Set Predictions\"},\"height\":350,\"width\":550,\"shapes\":[{\"line\":{\"color\":\"orange\",\"width\":3},\"type\":\"line\",\"x0\":0,\"x1\":1,\"xref\":\"x domain\",\"y0\":10,\"y1\":10,\"yref\":\"y\"},{\"line\":{\"color\":\"orange\",\"width\":3},\"type\":\"line\",\"x0\":0,\"x1\":1,\"xref\":\"x domain\",\"y0\":-10,\"y1\":-10,\"yref\":\"y\"}]},                        {\"responsive\": true}                    ).then(function(){\n",
              "                            \n",
              "var gd = document.getElementById('cf73b25e-7627-4731-aec3-a79bf6be3131');\n",
              "var x = new MutationObserver(function (mutations, observer) {{\n",
              "        var display = window.getComputedStyle(gd).display;\n",
              "        if (!display || display === 'none') {{\n",
              "            console.log([gd, 'removed!']);\n",
              "            Plotly.purge(gd);\n",
              "            observer.disconnect();\n",
              "        }}\n",
              "}});\n",
              "\n",
              "// Listen for the removal of the full notebook cells\n",
              "var notebookContainer = gd.closest('#notebook-container');\n",
              "if (notebookContainer) {{\n",
              "    x.observe(notebookContainer, {childList: true});\n",
              "}}\n",
              "\n",
              "// Listen for the clearing of the current output cell\n",
              "var outputEl = gd.closest('.output');\n",
              "if (outputEl) {{\n",
              "    x.observe(outputEl, {childList: true});\n",
              "}}\n",
              "\n",
              "                        })                };                            </script>        </div>\n",
              "</body>\n",
              "</html>"
            ]
          },
          "metadata": {}
        }
      ]
    },
    {
      "cell_type": "code",
      "source": [
        "import plotly.graph_objects as go\n",
        "\n",
        "# declaring our linear model\n",
        "fig = px.scatter(y=y_test, x=y_test_p, title=\"Test Set Predictions\", width=750, height=350)\n",
        "\n",
        "fig.add_trace(go.Scatter(x=[60, 200], y=[60, 200], name='0% error', mode='lines', marker=dict(color='yellow'))) # this shows the average estimation\n",
        "fig.add_trace(go.Scatter(x=[60, 200], y=[66, 220], name='10% error', mode='lines', marker=dict(color='orange'))) # this shows the underestimation\n",
        "fig.add_trace(go.Scatter(x=[60, 200], y=[54, 180], name='-10% error', mode='lines', marker=dict(color='red'))) # this shows the overestimation\n",
        "fig.show()\n",
        "# x axis representing the predicted weight\n",
        "# y axis representing the actual weight"
      ],
      "metadata": {
        "colab": {
          "base_uri": "https://localhost:8080/",
          "height": 367
        },
        "id": "11p_T4lY-GV9",
        "outputId": "b9800f03-27ae-4223-d357-ece13907289a"
      },
      "execution_count": 39,
      "outputs": [
        {
          "output_type": "display_data",
          "data": {
            "text/html": [
              "<html>\n",
              "<head><meta charset=\"utf-8\" /></head>\n",
              "<body>\n",
              "    <div>            <script src=\"https://cdnjs.cloudflare.com/ajax/libs/mathjax/2.7.5/MathJax.js?config=TeX-AMS-MML_SVG\"></script><script type=\"text/javascript\">if (window.MathJax) {MathJax.Hub.Config({SVG: {font: \"STIX-Web\"}});}</script>                <script type=\"text/javascript\">window.PlotlyConfig = {MathJaxConfig: 'local'};</script>\n",
              "        <script src=\"https://cdn.plot.ly/plotly-2.8.3.min.js\"></script>                <div id=\"8be198c8-13a1-41e0-8111-f67ffd846b0b\" class=\"plotly-graph-div\" style=\"height:350px; width:750px;\"></div>            <script type=\"text/javascript\">                                    window.PLOTLYENV=window.PLOTLYENV || {};                                    if (document.getElementById(\"8be198c8-13a1-41e0-8111-f67ffd846b0b\")) {                    Plotly.newPlot(                        \"8be198c8-13a1-41e0-8111-f67ffd846b0b\",                        [{\"hovertemplate\":\"x=%{x}<br>y=%{y}<extra></extra>\",\"legendgroup\":\"\",\"marker\":{\"color\":\"#636efa\",\"symbol\":\"circle\"},\"mode\":\"markers\",\"name\":\"\",\"orientation\":\"v\",\"showlegend\":false,\"x\":[73.4510043791368,94.51805731466946,71.11809604350465,120.79228528378474,85.74583842028758,100.52936138541133,105.86911675801889,77.95493621779319,127.37124140317653,111.63365640984694,109.18250957996011,106.97895937456553,97.56244644573098,117.73677651674028,101.61278154385478,89.87364770979254,110.25481010242062,101.74130746851392,121.86458580624526,82.26315537081373,104.40957405042403,68.54871071936313,95.29170947935974,79.55412448603013,114.51197752216318,65.32391172478603,84.06917596066945,111.37577235495019,114.51197752216318,112.79455075967157,140.39979551172254,77.36086171104006,132.78930317274373,140.39979551172254,86.64884871521545,97.09773006921544,113.60896722723531,92.15550431214675,111.80294663737959,97.95997606126983,105.09546459332863,109.99692604752386,105.35334864822538,83.51264354800246,106.86072088031086,112.70595693230744,110.73064611491908,107.67513734787462,96.7104878840811,64.9263821092472,132.40206098760936,133.04718722764048,109.96385005641284,156.55116345446493,157.19628969449604,142.10383094119754,145.32862993577464,128.34155676525634,102.53376758094959,175.25566338747487,163.57485203307775,166.09703451353707,156.42263752980577,186.99479722153708,153.7136066450222,154.48725880971244,140.59645870911208,158.74442622945503,150.23092359554832,140.94293659137293,95.9548114615578,152.81059635009433,127.9457495580105,149.19855517038286,133.58093107960093,126.65549707794827,169.45119163835176,161.324098984001,167.25792886336168,151.5203438700321,150.10156546531073,170.61208598817637,151.6497020002697,134.87118355966314,136.08140723447278,187.76844938622736,135.9121170069401,107.82247122027917,160.6789727439699,157.19628969449604,170.35420193327963,161.71134116913535,173.89437525684014,175.838318999045,154.8745009948468,100.93457931271263,127.3100205456693,130.613125937206,116.72321603932022,173.1207230921499,122.74563974604501,142.4910731263319,176.74132929397283,139.13691600151722,158.16535528562204,126.92277836053496,151.26245981513534,170.09631787838288,155.77751128977468,157.32564782473364,153.58424851478458,153.97149069991895,165.77667983017932,164.42037205391892,141.0611750856276,143.39408342125978,165.3233823488468,138.74110879427136,171.25638002262906,150.74669170534185,153.58508072036304,151.6497020002697,165.9685085888779,166.6128026233306,160.1632046341764,118.47818489589795,162.35646740916644,165.9685085888779,162.35646740916644,131.64638456508604,160.8083308742075,181.3270066777702,142.2237918437452,155.64815315953706,176.03014775774358,155.6889174624106,138.5325540643596,171.2572122282075,140.85434276400883,167.38728699359928,128.93563127200946,167.8405844749318,151.6497020002697,151.96507632925312,146.36099836094013,158.8737843596926,138.79043811925635,153.45572259012542,139.13691600151722,148.3363091783285,140.71641961165975,150.4888076504451,135.9121170069401,174.67742464922034,143.56337364879244,148.4249030056926,170.67814128437456,153.45572259012542,173.24924901680905,163.77524581388784,135.1783969395449,141.0611750856276,136.03035550119478,140.458535556763,165.06549829395004,150.61733357510423,86.61577272410443,164.6782561088157,150.9159819328745,172.80534876316648,143.56337364879244,182.93304322823028,173.57900092785673,149.84368141041398,176.2961870933374,152.81059635009433,161.26162835554,156.55199566004336,147.52189271076475,163.00159364919756,159.00231028435178,140.80501343902384,146.2316402307025,152.72200252273024,150.35944952020748,153.57568349267308,120.54208954065044,157.06776376983686,169.06394945321742,144.9821520535138,120.03488645296842,141.07229472161052,166.74216075356819,139.95133246908097,138.4832247393746,155.26174317998115,134.62186452687789,132.67792078467306,149.62572945281227,147.13465052563038,142.4910731263319,172.22627781933355,175.838318999045,140.07129337162863,154.35873288505329,158.93983965589078,163.8934843081425,168.5481813434239,154.1407809274516,136.98441752940062,168.4857107149629,133.70856680154552,152.97988657762698,165.58126640374357,135.64483572435338,175.6343405504977,140.32917742652538,159.90532057927965,126.92277836053496,143.3054895938957,163.77524581388784,164.84754633634833,130.26753825765974,197.2518498168385,144.9328227285288,138.4832247393746,146.10228210046492,155.6889174624106,146.4809592634878,155.26174317998115,159.00231028435178,167.64517104849605,161.4534571142386,171.51509628310424,163.13011957385675,142.66036335386457,171.71050970954002,132.5987241849989,192.19490703350257,158.39794834719416,149.32791330062045,142.91824740876132,161.06621492910426,194.54281893205493,160.0346787095172,158.52730647743175,153.19783853522867,162.87223551896,145.83411061516367,157.52106125116939,173.83688498275347,189.5744699760831,170.61208598817637,149.58579735551723,181.12702263837454,152.6812382198567,154.1008488301565,197.1939498013374,126.22660038722586,170.99932817331074,149.49720352815314,156.29327939956818,149.4564392252796,115.30443763459883,195.64581326637844,166.4842766986714,138.4815023310816,145.18898437513258,154.2701390576892,131.8156747926187,148.03766082055824,172.48416187423027,176.48344523907608,158.39794834719416,145.62727829354492,108.98336557010379,151.39181794537294,164.42037205391892,159.77596244904203,169.45119163835176,149.84368141041398,192.6788983266981,207.64199894975897,160.8083308742075,124.07582432340229,118.14199444404159,160.42108868907314,177.31956803222735,180.22401234344667,139.7820422415483,146.73884331838454,163.2594777040943,169.7090756932485,133.45240515494177,160.0346787095172,164.42037205391892,172.87140405936464,152.2948282403008,158.48654217455825,137.32060798125698,155.3902691046403,154.8745009948468,155.3902691046403,146.2316402307025,166.80821604976634,162.99219642150763,134.0975313949729,169.00147882475645,154.52802311258594,155.9060372144338,152.2948282403008,144.29709371618765,149.4564392252796,128.29222744027135,136.84649437705153,163.71277518542684,134.40474477485463,125.45467063082859,175.1271374628157,141.45013967905496,173.19175874272239,157.84141593452716,165.7505566312762,124.33370837829904,157.32564782473364,162.48499333382563,152.2948282403008,158.68195560099403,138.6211478917237,128.0836727103596,152.35231851438746,153.18844130753874,146.65964671871038,146.9967273732813,159.64743652438287,124.55166033590072,174.03229840918925,161.36486328687448,149.97303954065157,170.99932817331074,154.61661693995006,151.94835035803993,122.48603328285526,136.97585250728912,134.40474477485463,129.83864156693733,125.62396085836124,147.13465052563038,151.30322411800884,173.51653029939573,144.81286182598114,136.81512730186796,166.39568287130732,171.83903563419918,146.36099836094013,156.03539534467143,135.52487482180575,140.59645870911208,162.22710927892888,126.88201405766148,136.94365322652712,137.97602165169258,155.77751128977468,159.64743652438287,173.83688498275347,109.88637586503165,194.87132889610973,152.868086624181,153.26389383142683,146.53028858847279,144.02809002530793,137.37165971453499,169.7090756932485,139.13691600151722,148.03766082055824,140.33857465421534,142.60931162058657,132.4097492993718,132.80727891491065,111.95028050978414,144.42561964084678,133.70856680154552,155.77751128977468,160.7458602457465,118.27135257427918,131.17994578027754,159.89675555716812,180.09548641878754,167.90305510339277,135.42771597233016,177.7068102173617,150.23092359554832,151.90758605516646,184.48117976318926,159.5189105997237,157.32564782473364,145.88516234844167,180.22401234344667,155.13238504974356,160.93768900444508,177.7068102173617,114.14354328477421,158.14006429229738,155.00385912508438,143.26472529102216,145.1115101837514,149.71515548575482,160.8083308742075,140.20921652397772,152.2948282403008,130.009654202763,106.79010279511371,151.5203438700321,173.7744143542925,134.49333860221873,172.9338746878256,168.9260263008683,153.57568349267308,168.93459132297983,194.3555607863162,163.19617487005488,168.67670726808308,147.39253458052713,179.38347267697984,130.61401613992058,144.20849988882352,128.0240559549701,150.61733357510423,121.6255096990939,137.58021444444674,184.99694787298276,177.32855551850284,155.04379122237947,191.51800397687347,135.43628099444163,170.35420193327963,120.81109323153012,150.7780587805254,141.62882713427754,140.68505253647618,123.43069808337117,156.29327939956818,153.06848040499108,158.6065030771059,142.74895718122866,160.8083308742075,156.68052158470255,173.23252304559588,157.19628969449604,155.6889174624106,147.16601760081394,134.00893756760877,162.61435146406322,162.61435146406322,158.0992999894239,145.36939423864817,141.7573530589367,134.92051288464813,157.32564782473364,165.3233823488468,106.79093500069214,153.45572259012542,142.35314997398282,160.0346787095172,165.58126640374357,160.55044681931074,154.48809101529088,142.35314997398282,185.64207411301388,161.4534571142386,175.19319275901387,157.90830343630375,169.90448911968429,133.75961853482352,164.33177822655483,117.88411038914484,143.12680213867307,136.67720414951887,162.0985833542697,162.22710927892888,161.96922522403213,190.0277674574156,145.36939423864817,141.8373818641893,136.33072626725803,151.25389479302385,157.58353187963039,153.6250128176581,163.5173617589911,145.62727829354492,165.1054303912451,159.77596244904203,176.03014775774358,146.9967273732813,169.7090756932485,160.29256276441396,144.72426799861705,174.09476903765022,166.09703451353707,163.6866519865237,162.0985833542697,160.42108868907314,170.35420193327963,188.92934373605198,195.9036973212752,191.83378804727133,153.97149069991895,145.24003610841055,165.58126640374357,148.2869798533435,185.32629004261602,157.4456087272813,158.74442622945503,194.80070298695168,169.193307583455,158.61590030479584,145.32006491366315,164.8076142390533,171.2572122282075,195.4458292269828,213.963071014254,144.2876964884977,151.6497020002697,162.87223551896,178.1601076986942,167.8405844749318,150.7372944776519,152.72200252273024,166.61363482890903,175.1271374628157,131.9042686199828,155.77751128977468,149.32791330062045,156.42263752980577,197.0645916710998,175.05526960666475,150.4888076504451,176.80379992243383,156.0761596475449,133.96817326473527,174.4820112227846],\"xaxis\":\"x\",\"y\":[77,100,74,116,91,105,108,86,141,100,95,115,106,112,117,94,107,102,127,90,108,72,102,86,118,65,90,118,113,117,124,89,130,150,87,96,117,94,105,94,107,117,106,75,105,114,115,107,98,71,142,146,106,162,164,133,152,129,110,181,160,172,164,192,163,169,144,165,160,145,110,154,133,152,145,130,183,173,161,172,151,170,159,142,136,185,143,107,173,161,176,169,184,166,152,98,131,136,109,165,138,137,177,142,160,125,158,178,157,164,162,155,166,170,141,142,165,146,163,170,159,154,165,167,157,114,181,170,168,146,163,190,138,162,171,167,139,188,152,174,125,179,167,149,144,158,144,145,140,168,152,161,155,179,143,150,170,136,167,169,141,154,131,155,157,165,92,171,156,182,157,194,174,160,178,152,157,170,142,156,167,151,158,149,146,139,133,144,178,159,114,142,175,145,150,155,140,140,158,160,160,188,172,145,154,158,158,165,149,128,167,126,158,168,134,186,148,162,134,136,168,174,123,196,146,149,148,170,155,165,166,165,164,178,170,142,173,127,204,155,162,137,171,212,165,157,148,178,151,150,190,178,188,158,195,163,149,202,116,165,145,147,144,121,200,179,138,136,143,140,149,166,173,146,143,114,145,179,174,162,158,199,210,171,130,125,156,177,175,144,154,166,180,130,155,162,171,145,176,138,149,135,156,157,166,160,126,177,156,145,136,152,154,126,139,160,134,120,177,130,163,159,153,130,162,168,164,167,150,134,154,169,143,167,166,122,178,170,138,165,160,155,120,149,125,126,122,137,139,178,145,146,173,172,144,158,135,130,174,126,129,127,161,168,183,122,184,160,148,146,160,137,184,141,142,147,146,132,142,114,158,148,143,152,113,133,159,183,171,136,180,167,132,184,150,147,135,180,166,160,175,114,166,181,129,154,174,165,141,156,142,96,156,178,141,175,183,151,161,183,163,161,162,173,132,143,122,174,115,144,177,175,164,204,133,163,133,160,140,151,132,143,158,147,146,158,152,165,152,161,144,139,174,164,153,153,142,150,180,173,126,154,130,171,172,168,196,132,192,159,173,185,181,140,185,119,153,142,173,170,177,194,143,145,142,159,184,156,179,157,179,163,177,143,177,174,143,193,183,183,181,170,189,193,191,195,163,153,183,156,185,170,170,214,179,173,147,171,189,214,230,145,162,169,178,177,151,172,180,187,132,167,152,165,213,189,145,183,174,139,189],\"yaxis\":\"y\",\"type\":\"scatter\"},{\"marker\":{\"color\":\"yellow\"},\"mode\":\"lines\",\"name\":\"0% error\",\"x\":[60,200],\"y\":[60,200],\"type\":\"scatter\"},{\"marker\":{\"color\":\"orange\"},\"mode\":\"lines\",\"name\":\"10% error\",\"x\":[60,200],\"y\":[66,220],\"type\":\"scatter\"},{\"marker\":{\"color\":\"red\"},\"mode\":\"lines\",\"name\":\"-10% error\",\"x\":[60,200],\"y\":[54,180],\"type\":\"scatter\"}],                        {\"template\":{\"data\":{\"bar\":[{\"error_x\":{\"color\":\"#2a3f5f\"},\"error_y\":{\"color\":\"#2a3f5f\"},\"marker\":{\"line\":{\"color\":\"#E5ECF6\",\"width\":0.5},\"pattern\":{\"fillmode\":\"overlay\",\"size\":10,\"solidity\":0.2}},\"type\":\"bar\"}],\"barpolar\":[{\"marker\":{\"line\":{\"color\":\"#E5ECF6\",\"width\":0.5},\"pattern\":{\"fillmode\":\"overlay\",\"size\":10,\"solidity\":0.2}},\"type\":\"barpolar\"}],\"carpet\":[{\"aaxis\":{\"endlinecolor\":\"#2a3f5f\",\"gridcolor\":\"white\",\"linecolor\":\"white\",\"minorgridcolor\":\"white\",\"startlinecolor\":\"#2a3f5f\"},\"baxis\":{\"endlinecolor\":\"#2a3f5f\",\"gridcolor\":\"white\",\"linecolor\":\"white\",\"minorgridcolor\":\"white\",\"startlinecolor\":\"#2a3f5f\"},\"type\":\"carpet\"}],\"choropleth\":[{\"colorbar\":{\"outlinewidth\":0,\"ticks\":\"\"},\"type\":\"choropleth\"}],\"contour\":[{\"colorbar\":{\"outlinewidth\":0,\"ticks\":\"\"},\"colorscale\":[[0.0,\"#0d0887\"],[0.1111111111111111,\"#46039f\"],[0.2222222222222222,\"#7201a8\"],[0.3333333333333333,\"#9c179e\"],[0.4444444444444444,\"#bd3786\"],[0.5555555555555556,\"#d8576b\"],[0.6666666666666666,\"#ed7953\"],[0.7777777777777778,\"#fb9f3a\"],[0.8888888888888888,\"#fdca26\"],[1.0,\"#f0f921\"]],\"type\":\"contour\"}],\"contourcarpet\":[{\"colorbar\":{\"outlinewidth\":0,\"ticks\":\"\"},\"type\":\"contourcarpet\"}],\"heatmap\":[{\"colorbar\":{\"outlinewidth\":0,\"ticks\":\"\"},\"colorscale\":[[0.0,\"#0d0887\"],[0.1111111111111111,\"#46039f\"],[0.2222222222222222,\"#7201a8\"],[0.3333333333333333,\"#9c179e\"],[0.4444444444444444,\"#bd3786\"],[0.5555555555555556,\"#d8576b\"],[0.6666666666666666,\"#ed7953\"],[0.7777777777777778,\"#fb9f3a\"],[0.8888888888888888,\"#fdca26\"],[1.0,\"#f0f921\"]],\"type\":\"heatmap\"}],\"heatmapgl\":[{\"colorbar\":{\"outlinewidth\":0,\"ticks\":\"\"},\"colorscale\":[[0.0,\"#0d0887\"],[0.1111111111111111,\"#46039f\"],[0.2222222222222222,\"#7201a8\"],[0.3333333333333333,\"#9c179e\"],[0.4444444444444444,\"#bd3786\"],[0.5555555555555556,\"#d8576b\"],[0.6666666666666666,\"#ed7953\"],[0.7777777777777778,\"#fb9f3a\"],[0.8888888888888888,\"#fdca26\"],[1.0,\"#f0f921\"]],\"type\":\"heatmapgl\"}],\"histogram\":[{\"marker\":{\"pattern\":{\"fillmode\":\"overlay\",\"size\":10,\"solidity\":0.2}},\"type\":\"histogram\"}],\"histogram2d\":[{\"colorbar\":{\"outlinewidth\":0,\"ticks\":\"\"},\"colorscale\":[[0.0,\"#0d0887\"],[0.1111111111111111,\"#46039f\"],[0.2222222222222222,\"#7201a8\"],[0.3333333333333333,\"#9c179e\"],[0.4444444444444444,\"#bd3786\"],[0.5555555555555556,\"#d8576b\"],[0.6666666666666666,\"#ed7953\"],[0.7777777777777778,\"#fb9f3a\"],[0.8888888888888888,\"#fdca26\"],[1.0,\"#f0f921\"]],\"type\":\"histogram2d\"}],\"histogram2dcontour\":[{\"colorbar\":{\"outlinewidth\":0,\"ticks\":\"\"},\"colorscale\":[[0.0,\"#0d0887\"],[0.1111111111111111,\"#46039f\"],[0.2222222222222222,\"#7201a8\"],[0.3333333333333333,\"#9c179e\"],[0.4444444444444444,\"#bd3786\"],[0.5555555555555556,\"#d8576b\"],[0.6666666666666666,\"#ed7953\"],[0.7777777777777778,\"#fb9f3a\"],[0.8888888888888888,\"#fdca26\"],[1.0,\"#f0f921\"]],\"type\":\"histogram2dcontour\"}],\"mesh3d\":[{\"colorbar\":{\"outlinewidth\":0,\"ticks\":\"\"},\"type\":\"mesh3d\"}],\"parcoords\":[{\"line\":{\"colorbar\":{\"outlinewidth\":0,\"ticks\":\"\"}},\"type\":\"parcoords\"}],\"pie\":[{\"automargin\":true,\"type\":\"pie\"}],\"scatter\":[{\"marker\":{\"colorbar\":{\"outlinewidth\":0,\"ticks\":\"\"}},\"type\":\"scatter\"}],\"scatter3d\":[{\"line\":{\"colorbar\":{\"outlinewidth\":0,\"ticks\":\"\"}},\"marker\":{\"colorbar\":{\"outlinewidth\":0,\"ticks\":\"\"}},\"type\":\"scatter3d\"}],\"scattercarpet\":[{\"marker\":{\"colorbar\":{\"outlinewidth\":0,\"ticks\":\"\"}},\"type\":\"scattercarpet\"}],\"scattergeo\":[{\"marker\":{\"colorbar\":{\"outlinewidth\":0,\"ticks\":\"\"}},\"type\":\"scattergeo\"}],\"scattergl\":[{\"marker\":{\"colorbar\":{\"outlinewidth\":0,\"ticks\":\"\"}},\"type\":\"scattergl\"}],\"scattermapbox\":[{\"marker\":{\"colorbar\":{\"outlinewidth\":0,\"ticks\":\"\"}},\"type\":\"scattermapbox\"}],\"scatterpolar\":[{\"marker\":{\"colorbar\":{\"outlinewidth\":0,\"ticks\":\"\"}},\"type\":\"scatterpolar\"}],\"scatterpolargl\":[{\"marker\":{\"colorbar\":{\"outlinewidth\":0,\"ticks\":\"\"}},\"type\":\"scatterpolargl\"}],\"scatterternary\":[{\"marker\":{\"colorbar\":{\"outlinewidth\":0,\"ticks\":\"\"}},\"type\":\"scatterternary\"}],\"surface\":[{\"colorbar\":{\"outlinewidth\":0,\"ticks\":\"\"},\"colorscale\":[[0.0,\"#0d0887\"],[0.1111111111111111,\"#46039f\"],[0.2222222222222222,\"#7201a8\"],[0.3333333333333333,\"#9c179e\"],[0.4444444444444444,\"#bd3786\"],[0.5555555555555556,\"#d8576b\"],[0.6666666666666666,\"#ed7953\"],[0.7777777777777778,\"#fb9f3a\"],[0.8888888888888888,\"#fdca26\"],[1.0,\"#f0f921\"]],\"type\":\"surface\"}],\"table\":[{\"cells\":{\"fill\":{\"color\":\"#EBF0F8\"},\"line\":{\"color\":\"white\"}},\"header\":{\"fill\":{\"color\":\"#C8D4E3\"},\"line\":{\"color\":\"white\"}},\"type\":\"table\"}]},\"layout\":{\"annotationdefaults\":{\"arrowcolor\":\"#2a3f5f\",\"arrowhead\":0,\"arrowwidth\":1},\"autotypenumbers\":\"strict\",\"coloraxis\":{\"colorbar\":{\"outlinewidth\":0,\"ticks\":\"\"}},\"colorscale\":{\"diverging\":[[0,\"#8e0152\"],[0.1,\"#c51b7d\"],[0.2,\"#de77ae\"],[0.3,\"#f1b6da\"],[0.4,\"#fde0ef\"],[0.5,\"#f7f7f7\"],[0.6,\"#e6f5d0\"],[0.7,\"#b8e186\"],[0.8,\"#7fbc41\"],[0.9,\"#4d9221\"],[1,\"#276419\"]],\"sequential\":[[0.0,\"#0d0887\"],[0.1111111111111111,\"#46039f\"],[0.2222222222222222,\"#7201a8\"],[0.3333333333333333,\"#9c179e\"],[0.4444444444444444,\"#bd3786\"],[0.5555555555555556,\"#d8576b\"],[0.6666666666666666,\"#ed7953\"],[0.7777777777777778,\"#fb9f3a\"],[0.8888888888888888,\"#fdca26\"],[1.0,\"#f0f921\"]],\"sequentialminus\":[[0.0,\"#0d0887\"],[0.1111111111111111,\"#46039f\"],[0.2222222222222222,\"#7201a8\"],[0.3333333333333333,\"#9c179e\"],[0.4444444444444444,\"#bd3786\"],[0.5555555555555556,\"#d8576b\"],[0.6666666666666666,\"#ed7953\"],[0.7777777777777778,\"#fb9f3a\"],[0.8888888888888888,\"#fdca26\"],[1.0,\"#f0f921\"]]},\"colorway\":[\"#636efa\",\"#EF553B\",\"#00cc96\",\"#ab63fa\",\"#FFA15A\",\"#19d3f3\",\"#FF6692\",\"#B6E880\",\"#FF97FF\",\"#FECB52\"],\"font\":{\"color\":\"#2a3f5f\"},\"geo\":{\"bgcolor\":\"white\",\"lakecolor\":\"white\",\"landcolor\":\"#E5ECF6\",\"showlakes\":true,\"showland\":true,\"subunitcolor\":\"white\"},\"hoverlabel\":{\"align\":\"left\"},\"hovermode\":\"closest\",\"mapbox\":{\"style\":\"light\"},\"paper_bgcolor\":\"white\",\"plot_bgcolor\":\"#E5ECF6\",\"polar\":{\"angularaxis\":{\"gridcolor\":\"white\",\"linecolor\":\"white\",\"ticks\":\"\"},\"bgcolor\":\"#E5ECF6\",\"radialaxis\":{\"gridcolor\":\"white\",\"linecolor\":\"white\",\"ticks\":\"\"}},\"scene\":{\"xaxis\":{\"backgroundcolor\":\"#E5ECF6\",\"gridcolor\":\"white\",\"gridwidth\":2,\"linecolor\":\"white\",\"showbackground\":true,\"ticks\":\"\",\"zerolinecolor\":\"white\"},\"yaxis\":{\"backgroundcolor\":\"#E5ECF6\",\"gridcolor\":\"white\",\"gridwidth\":2,\"linecolor\":\"white\",\"showbackground\":true,\"ticks\":\"\",\"zerolinecolor\":\"white\"},\"zaxis\":{\"backgroundcolor\":\"#E5ECF6\",\"gridcolor\":\"white\",\"gridwidth\":2,\"linecolor\":\"white\",\"showbackground\":true,\"ticks\":\"\",\"zerolinecolor\":\"white\"}},\"shapedefaults\":{\"line\":{\"color\":\"#2a3f5f\"}},\"ternary\":{\"aaxis\":{\"gridcolor\":\"white\",\"linecolor\":\"white\",\"ticks\":\"\"},\"baxis\":{\"gridcolor\":\"white\",\"linecolor\":\"white\",\"ticks\":\"\"},\"bgcolor\":\"#E5ECF6\",\"caxis\":{\"gridcolor\":\"white\",\"linecolor\":\"white\",\"ticks\":\"\"}},\"title\":{\"x\":0.05},\"xaxis\":{\"automargin\":true,\"gridcolor\":\"white\",\"linecolor\":\"white\",\"ticks\":\"\",\"title\":{\"standoff\":15},\"zerolinecolor\":\"white\",\"zerolinewidth\":2},\"yaxis\":{\"automargin\":true,\"gridcolor\":\"white\",\"linecolor\":\"white\",\"ticks\":\"\",\"title\":{\"standoff\":15},\"zerolinecolor\":\"white\",\"zerolinewidth\":2}}},\"xaxis\":{\"anchor\":\"y\",\"domain\":[0.0,1.0],\"title\":{\"text\":\"x\"}},\"yaxis\":{\"anchor\":\"x\",\"domain\":[0.0,1.0],\"title\":{\"text\":\"y\"}},\"legend\":{\"tracegroupgap\":0},\"title\":{\"text\":\"Test Set Predictions\"},\"height\":350,\"width\":750},                        {\"responsive\": true}                    ).then(function(){\n",
              "                            \n",
              "var gd = document.getElementById('8be198c8-13a1-41e0-8111-f67ffd846b0b');\n",
              "var x = new MutationObserver(function (mutations, observer) {{\n",
              "        var display = window.getComputedStyle(gd).display;\n",
              "        if (!display || display === 'none') {{\n",
              "            console.log([gd, 'removed!']);\n",
              "            Plotly.purge(gd);\n",
              "            observer.disconnect();\n",
              "        }}\n",
              "}});\n",
              "\n",
              "// Listen for the removal of the full notebook cells\n",
              "var notebookContainer = gd.closest('#notebook-container');\n",
              "if (notebookContainer) {{\n",
              "    x.observe(notebookContainer, {childList: true});\n",
              "}}\n",
              "\n",
              "// Listen for the clearing of the current output cell\n",
              "var outputEl = gd.closest('.output');\n",
              "if (outputEl) {{\n",
              "    x.observe(outputEl, {childList: true});\n",
              "}}\n",
              "\n",
              "                        })                };                            </script>        </div>\n",
              "</body>\n",
              "</html>"
            ]
          },
          "metadata": {}
        }
      ]
    },
    {
      "cell_type": "markdown",
      "source": [
        "# **Task 5: Present any conclusion from the results**"
      ],
      "metadata": {
        "id": "rZikK86VD10a"
      }
    },
    {
      "cell_type": "markdown",
      "source": [
        "# In conclusion, the results I found in my predictive analysis was that performing train-test-split is key to being able to build models that can be intepreted easily. This gave me a good idea as to how I need to distribute and set aside data to configure the models being built based on the transformation data. As we can see, we are able to implement different features to find the prediction for the weights. Here in my models I wanted to apply a linear model that allows me to fit training data. This can lead to having a high bias and low training error which falls in an underfitting model. I used the linear approach in my testing set because of the generalization that occurs when looking at our test errors. I feel like with my results im able to have this data work well when trying to implement new data. Having it work well also leads to low variance. "
      ],
      "metadata": {
        "id": "E8n-chY0D60M"
      }
    }
  ]
}